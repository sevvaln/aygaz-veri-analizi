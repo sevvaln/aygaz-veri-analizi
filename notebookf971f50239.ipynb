{
 "cells": [
  {
   "cell_type": "markdown",
   "id": "a9c3d3bd",
   "metadata": {
    "papermill": {
     "duration": 0.025012,
     "end_time": "2024-11-21T18:13:10.688598",
     "exception": false,
     "start_time": "2024-11-21T18:13:10.663586",
     "status": "completed"
    },
    "tags": []
   },
   "source": [
    "# 1. Veri Setinin Hazırlanması"
   ]
  },
  {
   "cell_type": "code",
   "execution_count": 1,
   "id": "97c1e376",
   "metadata": {
    "_cell_guid": "b1076dfc-b9ad-4769-8c92-a6c4dae69d19",
    "_uuid": "8f2839f25d086af736a60e9eeb907d3b93b6e0e5",
    "execution": {
     "iopub.execute_input": "2024-11-21T18:13:10.735203Z",
     "iopub.status.busy": "2024-11-21T18:13:10.734680Z",
     "iopub.status.idle": "2024-11-21T18:13:13.360638Z",
     "shell.execute_reply": "2024-11-21T18:13:13.359601Z"
    },
    "papermill": {
     "duration": 2.652021,
     "end_time": "2024-11-21T18:13:13.363133",
     "exception": false,
     "start_time": "2024-11-21T18:13:10.711112",
     "status": "completed"
    },
    "tags": []
   },
   "outputs": [],
   "source": [
    "#Kullanacağımız kütüphaneleri yükleyelim.\n",
    "import pandas as pd\n",
    "import numpy as np\n",
    "\n",
    "#görselleştirme kütüphaneleri\n",
    "import matplotlib.pyplot as plt\n",
    "import seaborn as sns"
   ]
  },
  {
   "cell_type": "code",
   "execution_count": 2,
   "id": "2fe88cb1",
   "metadata": {
    "execution": {
     "iopub.execute_input": "2024-11-21T18:13:13.412374Z",
     "iopub.status.busy": "2024-11-21T18:13:13.411799Z",
     "iopub.status.idle": "2024-11-21T18:13:16.313874Z",
     "shell.execute_reply": "2024-11-21T18:13:16.312623Z"
    },
    "papermill": {
     "duration": 2.930325,
     "end_time": "2024-11-21T18:13:16.316278",
     "exception": false,
     "start_time": "2024-11-21T18:13:13.385953",
     "status": "completed"
    },
    "tags": []
   },
   "outputs": [
    {
     "data": {
      "text/html": [
       "<div>\n",
       "<style scoped>\n",
       "    .dataframe tbody tr th:only-of-type {\n",
       "        vertical-align: middle;\n",
       "    }\n",
       "\n",
       "    .dataframe tbody tr th {\n",
       "        vertical-align: top;\n",
       "    }\n",
       "\n",
       "    .dataframe thead th {\n",
       "        text-align: right;\n",
       "    }\n",
       "</style>\n",
       "<table border=\"1\" class=\"dataframe\">\n",
       "  <thead>\n",
       "    <tr style=\"text-align: right;\">\n",
       "      <th></th>\n",
       "      <th>country_or_area</th>\n",
       "      <th>commodity_transaction</th>\n",
       "      <th>year</th>\n",
       "      <th>unit</th>\n",
       "      <th>quantity</th>\n",
       "      <th>quantity_footnotes</th>\n",
       "      <th>category</th>\n",
       "    </tr>\n",
       "  </thead>\n",
       "  <tbody>\n",
       "    <tr>\n",
       "      <th>0</th>\n",
       "      <td>Austria</td>\n",
       "      <td>Additives and Oxygenates - Exports</td>\n",
       "      <td>1996</td>\n",
       "      <td>Metric tons,  thousand</td>\n",
       "      <td>5.0</td>\n",
       "      <td>NaN</td>\n",
       "      <td>additives_and_oxygenates</td>\n",
       "    </tr>\n",
       "    <tr>\n",
       "      <th>1</th>\n",
       "      <td>Austria</td>\n",
       "      <td>Additives and Oxygenates - Exports</td>\n",
       "      <td>1995</td>\n",
       "      <td>Metric tons,  thousand</td>\n",
       "      <td>17.0</td>\n",
       "      <td>NaN</td>\n",
       "      <td>additives_and_oxygenates</td>\n",
       "    </tr>\n",
       "    <tr>\n",
       "      <th>2</th>\n",
       "      <td>Belgium</td>\n",
       "      <td>Additives and Oxygenates - Exports</td>\n",
       "      <td>2014</td>\n",
       "      <td>Metric tons,  thousand</td>\n",
       "      <td>0.0</td>\n",
       "      <td>NaN</td>\n",
       "      <td>additives_and_oxygenates</td>\n",
       "    </tr>\n",
       "    <tr>\n",
       "      <th>3</th>\n",
       "      <td>Belgium</td>\n",
       "      <td>Additives and Oxygenates - Exports</td>\n",
       "      <td>2013</td>\n",
       "      <td>Metric tons,  thousand</td>\n",
       "      <td>0.0</td>\n",
       "      <td>NaN</td>\n",
       "      <td>additives_and_oxygenates</td>\n",
       "    </tr>\n",
       "    <tr>\n",
       "      <th>4</th>\n",
       "      <td>Belgium</td>\n",
       "      <td>Additives and Oxygenates - Exports</td>\n",
       "      <td>2012</td>\n",
       "      <td>Metric tons,  thousand</td>\n",
       "      <td>35.0</td>\n",
       "      <td>NaN</td>\n",
       "      <td>additives_and_oxygenates</td>\n",
       "    </tr>\n",
       "  </tbody>\n",
       "</table>\n",
       "</div>"
      ],
      "text/plain": [
       "  country_or_area               commodity_transaction  year  \\\n",
       "0         Austria  Additives and Oxygenates - Exports  1996   \n",
       "1         Austria  Additives and Oxygenates - Exports  1995   \n",
       "2         Belgium  Additives and Oxygenates - Exports  2014   \n",
       "3         Belgium  Additives and Oxygenates - Exports  2013   \n",
       "4         Belgium  Additives and Oxygenates - Exports  2012   \n",
       "\n",
       "                     unit  quantity  quantity_footnotes  \\\n",
       "0  Metric tons,  thousand       5.0                 NaN   \n",
       "1  Metric tons,  thousand      17.0                 NaN   \n",
       "2  Metric tons,  thousand       0.0                 NaN   \n",
       "3  Metric tons,  thousand       0.0                 NaN   \n",
       "4  Metric tons,  thousand      35.0                 NaN   \n",
       "\n",
       "                   category  \n",
       "0  additives_and_oxygenates  \n",
       "1  additives_and_oxygenates  \n",
       "2  additives_and_oxygenates  \n",
       "3  additives_and_oxygenates  \n",
       "4  additives_and_oxygenates  "
      ]
     },
     "execution_count": 2,
     "metadata": {},
     "output_type": "execute_result"
    }
   ],
   "source": [
    "import pandas as pd\n",
    "import numpy as np\n",
    "df_ = pd.read_csv(filepath_or_buffer = \"/kaggle/input/international-energy-statistics/all_energy_statistics.csv\")\n",
    "df = df_.copy()\n",
    "df.head()\n"
   ]
  },
  {
   "cell_type": "code",
   "execution_count": 3,
   "id": "3551b1b5",
   "metadata": {
    "execution": {
     "iopub.execute_input": "2024-11-21T18:13:16.366754Z",
     "iopub.status.busy": "2024-11-21T18:13:16.366318Z",
     "iopub.status.idle": "2024-11-21T18:13:16.374405Z",
     "shell.execute_reply": "2024-11-21T18:13:16.373276Z"
    },
    "papermill": {
     "duration": 0.036075,
     "end_time": "2024-11-21T18:13:16.376841",
     "exception": false,
     "start_time": "2024-11-21T18:13:16.340766",
     "status": "completed"
    },
    "tags": []
   },
   "outputs": [],
   "source": [
    "import pandas as pd\n",
    "import numpy as np\n",
    "import random\n",
    "\n",
    "def add_random_missing_values(dataframe: pd.DataFrame,\n",
    "                              missing_rate: float = 0.05,\n",
    "                              seed: random = 55) -> pd.DataFrame:\n",
    "    \"\"\"Turns random values to NaN in a DataFrame.\n",
    "\n",
    "    To use this function, you need to import pandas, numpy and random libraries.\n",
    "\n",
    "    Args:\n",
    "        dataframe (pd.DataFrame): DataFrame to be processed.\n",
    "        missing_rate (float): Percentage of missing value rate in float format. Defaults 0.05\n",
    "\n",
    "    Returns:\n",
    "        df_missing (pd.DataFrame): Processed DataFrame object.\n",
    "\n",
    "    \"\"\"\n",
    "    # Get copy of dataframe\n",
    "    df_missing = dataframe.copy()\n",
    "\n",
    "    # Obtain size of dataframe and number total number of missing values\n",
    "    df_size = dataframe.size\n",
    "    num_missing = int(df_size * missing_rate)\n",
    "\n",
    "    # Get random row and column indexes to turn them NaN\n",
    "    for _ in range(num_missing):\n",
    "        row_idx = random.randint(0, dataframe.shape[0] - 1)\n",
    "        col_idx = random.randint(0, dataframe.shape[1] - 1)\n",
    "\n",
    "        df_missing.iat[row_idx, col_idx] = np.nan\n",
    "\n",
    "    return df_missing"
   ]
  },
  {
   "cell_type": "markdown",
   "id": "47b70708",
   "metadata": {
    "papermill": {
     "duration": 0.022212,
     "end_time": "2024-11-21T18:13:16.421632",
     "exception": false,
     "start_time": "2024-11-21T18:13:16.399420",
     "status": "completed"
    },
    "tags": []
   },
   "source": [
    "# 2. Veri Setine İlk Bakış"
   ]
  },
  {
   "cell_type": "code",
   "execution_count": 4,
   "id": "8a80ef87",
   "metadata": {
    "execution": {
     "iopub.execute_input": "2024-11-21T18:13:16.470493Z",
     "iopub.status.busy": "2024-11-21T18:13:16.469439Z",
     "iopub.status.idle": "2024-11-21T18:13:16.482476Z",
     "shell.execute_reply": "2024-11-21T18:13:16.481343Z"
    },
    "papermill": {
     "duration": 0.040167,
     "end_time": "2024-11-21T18:13:16.484759",
     "exception": false,
     "start_time": "2024-11-21T18:13:16.444592",
     "status": "completed"
    },
    "tags": []
   },
   "outputs": [
    {
     "data": {
      "text/html": [
       "<div>\n",
       "<style scoped>\n",
       "    .dataframe tbody tr th:only-of-type {\n",
       "        vertical-align: middle;\n",
       "    }\n",
       "\n",
       "    .dataframe tbody tr th {\n",
       "        vertical-align: top;\n",
       "    }\n",
       "\n",
       "    .dataframe thead th {\n",
       "        text-align: right;\n",
       "    }\n",
       "</style>\n",
       "<table border=\"1\" class=\"dataframe\">\n",
       "  <thead>\n",
       "    <tr style=\"text-align: right;\">\n",
       "      <th></th>\n",
       "      <th>country_or_area</th>\n",
       "      <th>commodity_transaction</th>\n",
       "      <th>year</th>\n",
       "      <th>unit</th>\n",
       "      <th>quantity</th>\n",
       "      <th>quantity_footnotes</th>\n",
       "      <th>category</th>\n",
       "    </tr>\n",
       "  </thead>\n",
       "  <tbody>\n",
       "    <tr>\n",
       "      <th>0</th>\n",
       "      <td>Austria</td>\n",
       "      <td>Additives and Oxygenates - Exports</td>\n",
       "      <td>1996</td>\n",
       "      <td>Metric tons,  thousand</td>\n",
       "      <td>5.0</td>\n",
       "      <td>NaN</td>\n",
       "      <td>additives_and_oxygenates</td>\n",
       "    </tr>\n",
       "    <tr>\n",
       "      <th>1</th>\n",
       "      <td>Austria</td>\n",
       "      <td>Additives and Oxygenates - Exports</td>\n",
       "      <td>1995</td>\n",
       "      <td>Metric tons,  thousand</td>\n",
       "      <td>17.0</td>\n",
       "      <td>NaN</td>\n",
       "      <td>additives_and_oxygenates</td>\n",
       "    </tr>\n",
       "    <tr>\n",
       "      <th>2</th>\n",
       "      <td>Belgium</td>\n",
       "      <td>Additives and Oxygenates - Exports</td>\n",
       "      <td>2014</td>\n",
       "      <td>Metric tons,  thousand</td>\n",
       "      <td>0.0</td>\n",
       "      <td>NaN</td>\n",
       "      <td>additives_and_oxygenates</td>\n",
       "    </tr>\n",
       "  </tbody>\n",
       "</table>\n",
       "</div>"
      ],
      "text/plain": [
       "  country_or_area               commodity_transaction  year  \\\n",
       "0         Austria  Additives and Oxygenates - Exports  1996   \n",
       "1         Austria  Additives and Oxygenates - Exports  1995   \n",
       "2         Belgium  Additives and Oxygenates - Exports  2014   \n",
       "\n",
       "                     unit  quantity  quantity_footnotes  \\\n",
       "0  Metric tons,  thousand       5.0                 NaN   \n",
       "1  Metric tons,  thousand      17.0                 NaN   \n",
       "2  Metric tons,  thousand       0.0                 NaN   \n",
       "\n",
       "                   category  \n",
       "0  additives_and_oxygenates  \n",
       "1  additives_and_oxygenates  \n",
       "2  additives_and_oxygenates  "
      ]
     },
     "execution_count": 4,
     "metadata": {},
     "output_type": "execute_result"
    }
   ],
   "source": [
    "#Veri setinin ilk 3 gözlemini görelim\n",
    "df.head(n=3)\n"
   ]
  },
  {
   "cell_type": "code",
   "execution_count": 5,
   "id": "9ee2e091",
   "metadata": {
    "execution": {
     "iopub.execute_input": "2024-11-21T18:13:16.533121Z",
     "iopub.status.busy": "2024-11-21T18:13:16.532686Z",
     "iopub.status.idle": "2024-11-21T18:13:16.540075Z",
     "shell.execute_reply": "2024-11-21T18:13:16.538992Z"
    },
    "papermill": {
     "duration": 0.034005,
     "end_time": "2024-11-21T18:13:16.542219",
     "exception": false,
     "start_time": "2024-11-21T18:13:16.508214",
     "status": "completed"
    },
    "tags": []
   },
   "outputs": [
    {
     "data": {
      "text/plain": [
       "(1189482, 7)"
      ]
     },
     "execution_count": 5,
     "metadata": {},
     "output_type": "execute_result"
    }
   ],
   "source": [
    "df.shape #(satır, sütün)"
   ]
  },
  {
   "cell_type": "code",
   "execution_count": 6,
   "id": "3301ed15",
   "metadata": {
    "execution": {
     "iopub.execute_input": "2024-11-21T18:13:16.590550Z",
     "iopub.status.busy": "2024-11-21T18:13:16.589324Z",
     "iopub.status.idle": "2024-11-21T18:13:16.596577Z",
     "shell.execute_reply": "2024-11-21T18:13:16.595529Z"
    },
    "papermill": {
     "duration": 0.033742,
     "end_time": "2024-11-21T18:13:16.598674",
     "exception": false,
     "start_time": "2024-11-21T18:13:16.564932",
     "status": "completed"
    },
    "tags": []
   },
   "outputs": [
    {
     "name": "stdout",
     "output_type": "stream",
     "text": [
      "Index(['country_or_area', 'commodity_transaction', 'year', 'unit', 'quantity',\n",
      "       'quantity_footnotes', 'category'],\n",
      "      dtype='object') \n",
      "\n",
      "Veri setinde toplam7 sütun vardır.\n",
      "\n",
      "df.columns'un döndüğü veri tipi: <class 'pandas.core.indexes.base.Index'>\n",
      "\n"
     ]
    }
   ],
   "source": [
    "print(df.columns, '\\n')  #veri setinde hangi sütunların olduğunu görürüz.\n",
    "print(f\"Veri setinde toplam{len(df.columns)} sütun vardır.\\n\")  #Toplam sütun sayısını görürüz.\n",
    "print(f\"df.columns'un döndüğü veri tipi: {type(df.columns)}\\n\") # veri tipini görürüz."
   ]
  },
  {
   "cell_type": "code",
   "execution_count": 7,
   "id": "aa2224a4",
   "metadata": {
    "execution": {
     "iopub.execute_input": "2024-11-21T18:13:16.646177Z",
     "iopub.status.busy": "2024-11-21T18:13:16.645761Z",
     "iopub.status.idle": "2024-11-21T18:13:16.899658Z",
     "shell.execute_reply": "2024-11-21T18:13:16.898432Z"
    },
    "papermill": {
     "duration": 0.280268,
     "end_time": "2024-11-21T18:13:16.902136",
     "exception": false,
     "start_time": "2024-11-21T18:13:16.621868",
     "status": "completed"
    },
    "tags": []
   },
   "outputs": [
    {
     "name": "stdout",
     "output_type": "stream",
     "text": [
      "<class 'pandas.core.frame.DataFrame'>\n",
      "RangeIndex: 1189482 entries, 0 to 1189481\n",
      "Data columns (total 7 columns):\n",
      " #   Column                 Non-Null Count    Dtype  \n",
      "---  ------                 --------------    -----  \n",
      " 0   country_or_area        1189482 non-null  object \n",
      " 1   commodity_transaction  1189482 non-null  object \n",
      " 2   year                   1189482 non-null  int64  \n",
      " 3   unit                   1189482 non-null  object \n",
      " 4   quantity               1189482 non-null  float64\n",
      " 5   quantity_footnotes     163946 non-null   float64\n",
      " 6   category               1189482 non-null  object \n",
      "dtypes: float64(2), int64(1), object(4)\n",
      "memory usage: 63.5+ MB\n"
     ]
    }
   ],
   "source": [
    "df.info() #veri setine ilişkin temel bilgiler"
   ]
  },
  {
   "cell_type": "code",
   "execution_count": 8,
   "id": "6d61a9e9",
   "metadata": {
    "execution": {
     "iopub.execute_input": "2024-11-21T18:13:16.952335Z",
     "iopub.status.busy": "2024-11-21T18:13:16.951938Z",
     "iopub.status.idle": "2024-11-21T18:13:16.960352Z",
     "shell.execute_reply": "2024-11-21T18:13:16.959089Z"
    },
    "papermill": {
     "duration": 0.036801,
     "end_time": "2024-11-21T18:13:16.962709",
     "exception": false,
     "start_time": "2024-11-21T18:13:16.925908",
     "status": "completed"
    },
    "tags": []
   },
   "outputs": [
    {
     "data": {
      "text/plain": [
       "country_or_area           object\n",
       "commodity_transaction     object\n",
       "year                       int64\n",
       "unit                      object\n",
       "quantity                 float64\n",
       "quantity_footnotes       float64\n",
       "category                  object\n",
       "dtype: object"
      ]
     },
     "execution_count": 8,
     "metadata": {},
     "output_type": "execute_result"
    }
   ],
   "source": [
    "df.dtypes #her sütunun veri tipi"
   ]
  },
  {
   "cell_type": "code",
   "execution_count": 9,
   "id": "8c5a8f71",
   "metadata": {
    "execution": {
     "iopub.execute_input": "2024-11-21T18:13:17.022041Z",
     "iopub.status.busy": "2024-11-21T18:13:17.021421Z",
     "iopub.status.idle": "2024-11-21T18:13:17.029771Z",
     "shell.execute_reply": "2024-11-21T18:13:17.028429Z"
    },
    "papermill": {
     "duration": 0.038296,
     "end_time": "2024-11-21T18:13:17.032904",
     "exception": false,
     "start_time": "2024-11-21T18:13:16.994608",
     "status": "completed"
    },
    "tags": []
   },
   "outputs": [],
   "source": [
    "categorical_features = []\n",
    "numerical_features = []\n",
    "for col in df.columns:\n",
    "    if(df[col].dtype==\"object\") or (df[col].dtype==\"categorical\"):\n",
    "        categorical_features.append(col)\n",
    "    else:\n",
    "        numerical_features.append(col)# bir nevi filtreleme yaprak veriyi daha rahat inceledik.\n"
   ]
  },
  {
   "cell_type": "code",
   "execution_count": 10,
   "id": "2d8916f9",
   "metadata": {
    "execution": {
     "iopub.execute_input": "2024-11-21T18:13:17.088197Z",
     "iopub.status.busy": "2024-11-21T18:13:17.087054Z",
     "iopub.status.idle": "2024-11-21T18:13:17.583562Z",
     "shell.execute_reply": "2024-11-21T18:13:17.582279Z"
    },
    "papermill": {
     "duration": 0.527899,
     "end_time": "2024-11-21T18:13:17.586197",
     "exception": false,
     "start_time": "2024-11-21T18:13:17.058298",
     "status": "completed"
    },
    "tags": []
   },
   "outputs": [],
   "source": [
    "for col in df.columns: #tüm sütunları dolaştık\n",
    "    if col in categorical_features: #Eğer sütun adı, categorical_features listesinde yer alıyorsa, bu sütunun kategorik bir değişken olduğu varsayılır.\n",
    "        df[col] = pd.Categorical(df[col]) # bellek kullanımını azaltmak amacıyla verileri kategorik veri türüne dönüştürdük."
   ]
  },
  {
   "cell_type": "code",
   "execution_count": 11,
   "id": "eda23606",
   "metadata": {
    "execution": {
     "iopub.execute_input": "2024-11-21T18:13:17.688401Z",
     "iopub.status.busy": "2024-11-21T18:13:17.688017Z",
     "iopub.status.idle": "2024-11-21T18:13:17.715319Z",
     "shell.execute_reply": "2024-11-21T18:13:17.713915Z"
    },
    "papermill": {
     "duration": 0.108841,
     "end_time": "2024-11-21T18:13:17.717908",
     "exception": false,
     "start_time": "2024-11-21T18:13:17.609067",
     "status": "completed"
    },
    "tags": []
   },
   "outputs": [
    {
     "name": "stdout",
     "output_type": "stream",
     "text": [
      "<class 'pandas.core.frame.DataFrame'>\n",
      "RangeIndex: 1189482 entries, 0 to 1189481\n",
      "Data columns (total 7 columns):\n",
      " #   Column                 Non-Null Count    Dtype   \n",
      "---  ------                 --------------    -----   \n",
      " 0   country_or_area        1189482 non-null  category\n",
      " 1   commodity_transaction  1189482 non-null  category\n",
      " 2   year                   1189482 non-null  int64   \n",
      " 3   unit                   1189482 non-null  category\n",
      " 4   quantity               1189482 non-null  float64 \n",
      " 5   quantity_footnotes     163946 non-null   float64 \n",
      " 6   category               1189482 non-null  category\n",
      "dtypes: category(4), float64(2), int64(1)\n",
      "memory usage: 34.1 MB\n"
     ]
    }
   ],
   "source": [
    "df.info()"
   ]
  },
  {
   "cell_type": "code",
   "execution_count": 12,
   "id": "03543dbb",
   "metadata": {
    "execution": {
     "iopub.execute_input": "2024-11-21T18:13:17.777597Z",
     "iopub.status.busy": "2024-11-21T18:13:17.776495Z",
     "iopub.status.idle": "2024-11-21T18:13:17.934982Z",
     "shell.execute_reply": "2024-11-21T18:13:17.933915Z"
    },
    "papermill": {
     "duration": 0.187273,
     "end_time": "2024-11-21T18:13:17.937236",
     "exception": false,
     "start_time": "2024-11-21T18:13:17.749963",
     "status": "completed"
    },
    "tags": []
   },
   "outputs": [
    {
     "data": {
      "text/html": [
       "<div>\n",
       "<style scoped>\n",
       "    .dataframe tbody tr th:only-of-type {\n",
       "        vertical-align: middle;\n",
       "    }\n",
       "\n",
       "    .dataframe tbody tr th {\n",
       "        vertical-align: top;\n",
       "    }\n",
       "\n",
       "    .dataframe thead th {\n",
       "        text-align: right;\n",
       "    }\n",
       "</style>\n",
       "<table border=\"1\" class=\"dataframe\">\n",
       "  <thead>\n",
       "    <tr style=\"text-align: right;\">\n",
       "      <th></th>\n",
       "      <th>count</th>\n",
       "      <th>mean</th>\n",
       "      <th>std</th>\n",
       "      <th>min</th>\n",
       "      <th>25%</th>\n",
       "      <th>50%</th>\n",
       "      <th>75%</th>\n",
       "      <th>max</th>\n",
       "    </tr>\n",
       "  </thead>\n",
       "  <tbody>\n",
       "    <tr>\n",
       "      <th>year</th>\n",
       "      <td>1189482.0</td>\n",
       "      <td>2002.851554</td>\n",
       "      <td>7.167345e+00</td>\n",
       "      <td>1990.0</td>\n",
       "      <td>1997.0</td>\n",
       "      <td>2003.0</td>\n",
       "      <td>2009.0</td>\n",
       "      <td>2.014000e+03</td>\n",
       "    </tr>\n",
       "    <tr>\n",
       "      <th>quantity</th>\n",
       "      <td>1189482.0</td>\n",
       "      <td>184264.770050</td>\n",
       "      <td>1.585663e+07</td>\n",
       "      <td>-864348.0</td>\n",
       "      <td>14.0</td>\n",
       "      <td>189.0</td>\n",
       "      <td>2265.0</td>\n",
       "      <td>6.680329e+09</td>\n",
       "    </tr>\n",
       "    <tr>\n",
       "      <th>quantity_footnotes</th>\n",
       "      <td>163946.0</td>\n",
       "      <td>1.000000</td>\n",
       "      <td>0.000000e+00</td>\n",
       "      <td>1.0</td>\n",
       "      <td>1.0</td>\n",
       "      <td>1.0</td>\n",
       "      <td>1.0</td>\n",
       "      <td>1.000000e+00</td>\n",
       "    </tr>\n",
       "  </tbody>\n",
       "</table>\n",
       "</div>"
      ],
      "text/plain": [
       "                        count           mean           std       min     25%  \\\n",
       "year                1189482.0    2002.851554  7.167345e+00    1990.0  1997.0   \n",
       "quantity            1189482.0  184264.770050  1.585663e+07 -864348.0    14.0   \n",
       "quantity_footnotes   163946.0       1.000000  0.000000e+00       1.0     1.0   \n",
       "\n",
       "                       50%     75%           max  \n",
       "year                2003.0  2009.0  2.014000e+03  \n",
       "quantity             189.0  2265.0  6.680329e+09  \n",
       "quantity_footnotes     1.0     1.0  1.000000e+00  "
      ]
     },
     "execution_count": 12,
     "metadata": {},
     "output_type": "execute_result"
    }
   ],
   "source": [
    "df.describe().T  #numerik verilerin medyan, standart sapma, maksimum ve minimum değerleri gibi istatiksel değerlerini gösterir. "
   ]
  },
  {
   "cell_type": "markdown",
   "id": "e8f0647d",
   "metadata": {
    "papermill": {
     "duration": 0.023812,
     "end_time": "2024-11-21T18:13:17.984198",
     "exception": false,
     "start_time": "2024-11-21T18:13:17.960386",
     "status": "completed"
    },
    "tags": []
   },
   "source": [
    "# 3. Eksik Veri Analizi"
   ]
  },
  {
   "cell_type": "code",
   "execution_count": 13,
   "id": "7bd0468a",
   "metadata": {
    "execution": {
     "iopub.execute_input": "2024-11-21T18:13:18.034364Z",
     "iopub.status.busy": "2024-11-21T18:13:18.033380Z",
     "iopub.status.idle": "2024-11-21T18:13:18.053345Z",
     "shell.execute_reply": "2024-11-21T18:13:18.051808Z"
    },
    "papermill": {
     "duration": 0.046952,
     "end_time": "2024-11-21T18:13:18.055872",
     "exception": false,
     "start_time": "2024-11-21T18:13:18.008920",
     "status": "completed"
    },
    "tags": []
   },
   "outputs": [
    {
     "data": {
      "text/plain": [
       "country_or_area                0\n",
       "commodity_transaction          0\n",
       "year                           0\n",
       "unit                           0\n",
       "quantity                       0\n",
       "quantity_footnotes       1025536\n",
       "category                       0\n",
       "dtype: int64"
      ]
     },
     "execution_count": 13,
     "metadata": {},
     "output_type": "execute_result"
    }
   ],
   "source": [
    "df.isna().sum() #herbir sütun için kaç tane eksik nokta var gösterir."
   ]
  },
  {
   "cell_type": "code",
   "execution_count": 14,
   "id": "0842c74a",
   "metadata": {
    "execution": {
     "iopub.execute_input": "2024-11-21T18:13:18.105917Z",
     "iopub.status.busy": "2024-11-21T18:13:18.105535Z",
     "iopub.status.idle": "2024-11-21T18:13:18.122558Z",
     "shell.execute_reply": "2024-11-21T18:13:18.121429Z"
    },
    "papermill": {
     "duration": 0.044637,
     "end_time": "2024-11-21T18:13:18.124785",
     "exception": false,
     "start_time": "2024-11-21T18:13:18.080148",
     "status": "completed"
    },
    "tags": []
   },
   "outputs": [
    {
     "data": {
      "text/plain": [
       "1025536"
      ]
     },
     "execution_count": 14,
     "metadata": {},
     "output_type": "execute_result"
    }
   ],
   "source": [
    "df.isna().sum().sum() #veri setindeki toplam eksik nokta sayısı"
   ]
  },
  {
   "cell_type": "code",
   "execution_count": 15,
   "id": "b2305cbf",
   "metadata": {
    "execution": {
     "iopub.execute_input": "2024-11-21T18:13:18.174473Z",
     "iopub.status.busy": "2024-11-21T18:13:18.174090Z",
     "iopub.status.idle": "2024-11-21T18:13:18.200805Z",
     "shell.execute_reply": "2024-11-21T18:13:18.199663Z"
    },
    "papermill": {
     "duration": 0.05387,
     "end_time": "2024-11-21T18:13:18.203116",
     "exception": false,
     "start_time": "2024-11-21T18:13:18.149246",
     "status": "completed"
    },
    "tags": []
   },
   "outputs": [
    {
     "name": "stdout",
     "output_type": "stream",
     "text": [
      "Veri seti içerisinde toplam 7300838 adet eksik olmayan, 1025536 eksik nokta var.\n"
     ]
    }
   ],
   "source": [
    "print(f\"Veri seti içerisinde toplam {df.notnull().sum().sum()} adet eksik olmayan, {df.isnull().sum().sum()} eksik nokta var.\")"
   ]
  },
  {
   "cell_type": "code",
   "execution_count": 16,
   "id": "393a6bc9",
   "metadata": {
    "execution": {
     "iopub.execute_input": "2024-11-21T18:13:18.252726Z",
     "iopub.status.busy": "2024-11-21T18:13:18.251984Z",
     "iopub.status.idle": "2024-11-21T18:13:18.306116Z",
     "shell.execute_reply": "2024-11-21T18:13:18.305072Z"
    },
    "papermill": {
     "duration": 0.081361,
     "end_time": "2024-11-21T18:13:18.308343",
     "exception": false,
     "start_time": "2024-11-21T18:13:18.226982",
     "status": "completed"
    },
    "tags": []
   },
   "outputs": [
    {
     "data": {
      "text/html": [
       "<div>\n",
       "<style scoped>\n",
       "    .dataframe tbody tr th:only-of-type {\n",
       "        vertical-align: middle;\n",
       "    }\n",
       "\n",
       "    .dataframe tbody tr th {\n",
       "        vertical-align: top;\n",
       "    }\n",
       "\n",
       "    .dataframe thead th {\n",
       "        text-align: right;\n",
       "    }\n",
       "</style>\n",
       "<table border=\"1\" class=\"dataframe\">\n",
       "  <thead>\n",
       "    <tr style=\"text-align: right;\">\n",
       "      <th></th>\n",
       "      <th>country_or_area</th>\n",
       "      <th>commodity_transaction</th>\n",
       "      <th>year</th>\n",
       "      <th>unit</th>\n",
       "      <th>quantity</th>\n",
       "      <th>quantity_footnotes</th>\n",
       "      <th>category</th>\n",
       "    </tr>\n",
       "  </thead>\n",
       "  <tbody>\n",
       "    <tr>\n",
       "      <th>0</th>\n",
       "      <td>Austria</td>\n",
       "      <td>Additives and Oxygenates - Exports</td>\n",
       "      <td>1996</td>\n",
       "      <td>Metric tons,  thousand</td>\n",
       "      <td>5.0</td>\n",
       "      <td>NaN</td>\n",
       "      <td>additives_and_oxygenates</td>\n",
       "    </tr>\n",
       "    <tr>\n",
       "      <th>1</th>\n",
       "      <td>Austria</td>\n",
       "      <td>Additives and Oxygenates - Exports</td>\n",
       "      <td>1995</td>\n",
       "      <td>Metric tons,  thousand</td>\n",
       "      <td>17.0</td>\n",
       "      <td>NaN</td>\n",
       "      <td>additives_and_oxygenates</td>\n",
       "    </tr>\n",
       "    <tr>\n",
       "      <th>2</th>\n",
       "      <td>Belgium</td>\n",
       "      <td>Additives and Oxygenates - Exports</td>\n",
       "      <td>2014</td>\n",
       "      <td>Metric tons,  thousand</td>\n",
       "      <td>0.0</td>\n",
       "      <td>NaN</td>\n",
       "      <td>additives_and_oxygenates</td>\n",
       "    </tr>\n",
       "    <tr>\n",
       "      <th>3</th>\n",
       "      <td>Belgium</td>\n",
       "      <td>Additives and Oxygenates - Exports</td>\n",
       "      <td>2013</td>\n",
       "      <td>Metric tons,  thousand</td>\n",
       "      <td>0.0</td>\n",
       "      <td>NaN</td>\n",
       "      <td>additives_and_oxygenates</td>\n",
       "    </tr>\n",
       "    <tr>\n",
       "      <th>4</th>\n",
       "      <td>Belgium</td>\n",
       "      <td>Additives and Oxygenates - Exports</td>\n",
       "      <td>2012</td>\n",
       "      <td>Metric tons,  thousand</td>\n",
       "      <td>35.0</td>\n",
       "      <td>NaN</td>\n",
       "      <td>additives_and_oxygenates</td>\n",
       "    </tr>\n",
       "  </tbody>\n",
       "</table>\n",
       "</div>"
      ],
      "text/plain": [
       "  country_or_area               commodity_transaction  year  \\\n",
       "0         Austria  Additives and Oxygenates - Exports  1996   \n",
       "1         Austria  Additives and Oxygenates - Exports  1995   \n",
       "2         Belgium  Additives and Oxygenates - Exports  2014   \n",
       "3         Belgium  Additives and Oxygenates - Exports  2013   \n",
       "4         Belgium  Additives and Oxygenates - Exports  2012   \n",
       "\n",
       "                     unit  quantity  quantity_footnotes  \\\n",
       "0  Metric tons,  thousand       5.0                 NaN   \n",
       "1  Metric tons,  thousand      17.0                 NaN   \n",
       "2  Metric tons,  thousand       0.0                 NaN   \n",
       "3  Metric tons,  thousand       0.0                 NaN   \n",
       "4  Metric tons,  thousand      35.0                 NaN   \n",
       "\n",
       "                   category  \n",
       "0  additives_and_oxygenates  \n",
       "1  additives_and_oxygenates  \n",
       "2  additives_and_oxygenates  \n",
       "3  additives_and_oxygenates  \n",
       "4  additives_and_oxygenates  "
      ]
     },
     "execution_count": 16,
     "metadata": {},
     "output_type": "execute_result"
    }
   ],
   "source": [
    "df[df.isnull().any(axis=1)][:5]# veri setinde herhangi bir yerinde eksik gözlem olan satırları gösterir."
   ]
  },
  {
   "cell_type": "code",
   "execution_count": 17,
   "id": "a0610af7",
   "metadata": {
    "execution": {
     "iopub.execute_input": "2024-11-21T18:13:18.357665Z",
     "iopub.status.busy": "2024-11-21T18:13:18.357270Z",
     "iopub.status.idle": "2024-11-21T18:14:01.713988Z",
     "shell.execute_reply": "2024-11-21T18:14:01.712566Z"
    },
    "papermill": {
     "duration": 43.407824,
     "end_time": "2024-11-21T18:14:01.740167",
     "exception": false,
     "start_time": "2024-11-21T18:13:18.332343",
     "status": "completed"
    },
    "tags": []
   },
   "outputs": [
    {
     "name": "stdout",
     "output_type": "stream",
     "text": [
      "Requirement already satisfied: missingno in /opt/conda/lib/python3.10/site-packages (0.5.2)\r\n",
      "Requirement already satisfied: numpy in /opt/conda/lib/python3.10/site-packages (from missingno) (1.26.4)\r\n",
      "Requirement already satisfied: matplotlib in /opt/conda/lib/python3.10/site-packages (from missingno) (3.7.5)\r\n",
      "Requirement already satisfied: scipy in /opt/conda/lib/python3.10/site-packages (from missingno) (1.14.1)\r\n",
      "Requirement already satisfied: seaborn in /opt/conda/lib/python3.10/site-packages (from missingno) (0.12.2)\r\n",
      "Requirement already satisfied: contourpy>=1.0.1 in /opt/conda/lib/python3.10/site-packages (from matplotlib->missingno) (1.2.1)\r\n",
      "Requirement already satisfied: cycler>=0.10 in /opt/conda/lib/python3.10/site-packages (from matplotlib->missingno) (0.12.1)\r\n",
      "Requirement already satisfied: fonttools>=4.22.0 in /opt/conda/lib/python3.10/site-packages (from matplotlib->missingno) (4.53.0)\r\n",
      "Requirement already satisfied: kiwisolver>=1.0.1 in /opt/conda/lib/python3.10/site-packages (from matplotlib->missingno) (1.4.5)\r\n",
      "Requirement already satisfied: packaging>=20.0 in /opt/conda/lib/python3.10/site-packages (from matplotlib->missingno) (21.3)\r\n",
      "Requirement already satisfied: pillow>=6.2.0 in /opt/conda/lib/python3.10/site-packages (from matplotlib->missingno) (10.3.0)\r\n",
      "Requirement already satisfied: pyparsing>=2.3.1 in /opt/conda/lib/python3.10/site-packages (from matplotlib->missingno) (3.1.2)\r\n",
      "Requirement already satisfied: python-dateutil>=2.7 in /opt/conda/lib/python3.10/site-packages (from matplotlib->missingno) (2.9.0.post0)\r\n",
      "Requirement already satisfied: pandas>=0.25 in /opt/conda/lib/python3.10/site-packages (from seaborn->missingno) (2.2.3)\r\n",
      "Requirement already satisfied: pytz>=2020.1 in /opt/conda/lib/python3.10/site-packages (from pandas>=0.25->seaborn->missingno) (2024.1)\r\n",
      "Requirement already satisfied: tzdata>=2022.7 in /opt/conda/lib/python3.10/site-packages (from pandas>=0.25->seaborn->missingno) (2024.1)\r\n",
      "Requirement already satisfied: six>=1.5 in /opt/conda/lib/python3.10/site-packages (from python-dateutil>=2.7->matplotlib->missingno) (1.16.0)\r\n",
      "Note: you may need to restart the kernel to use updated packages.\n"
     ]
    }
   ],
   "source": [
    "pip install missingno"
   ]
  },
  {
   "cell_type": "code",
   "execution_count": 18,
   "id": "e4ded90a",
   "metadata": {
    "execution": {
     "iopub.execute_input": "2024-11-21T18:14:01.792270Z",
     "iopub.status.busy": "2024-11-21T18:14:01.791770Z",
     "iopub.status.idle": "2024-11-21T18:14:04.564257Z",
     "shell.execute_reply": "2024-11-21T18:14:04.563123Z"
    },
    "papermill": {
     "duration": 2.801058,
     "end_time": "2024-11-21T18:14:04.566877",
     "exception": false,
     "start_time": "2024-11-21T18:14:01.765819",
     "status": "completed"
    },
    "tags": []
   },
   "outputs": [
    {
     "name": "stdout",
     "output_type": "stream",
     "text": [
      "  country_or_area               commodity_transaction  year  \\\n",
      "0         Austria  Additives and Oxygenates - Exports  1996   \n",
      "1         Austria  Additives and Oxygenates - Exports  1995   \n",
      "2         Belgium  Additives and Oxygenates - Exports  2014   \n",
      "3         Belgium  Additives and Oxygenates - Exports  2013   \n",
      "4         Belgium  Additives and Oxygenates - Exports  2012   \n",
      "\n",
      "                     unit  quantity  quantity_footnotes  \\\n",
      "0  Metric tons,  thousand       5.0                 NaN   \n",
      "1  Metric tons,  thousand      17.0                 NaN   \n",
      "2  Metric tons,  thousand       0.0                 NaN   \n",
      "3  Metric tons,  thousand       0.0                 NaN   \n",
      "4  Metric tons,  thousand      35.0                 NaN   \n",
      "\n",
      "                   category  \n",
      "0  additives_and_oxygenates  \n",
      "1  additives_and_oxygenates  \n",
      "2  additives_and_oxygenates  \n",
      "3  additives_and_oxygenates  \n",
      "4  additives_and_oxygenates  \n"
     ]
    },
    {
     "data": {
      "image/png": "[encoded data removed]",
      "text/plain": [
       "<Figure size 1000x600 with 3 Axes>"
      ]
     },
     "metadata": {},
     "output_type": "display_data"
    }
   ],
   "source": [
    "import pandas as pd\n",
    "df = pd.read_csv('/kaggle/input/international-energy-statistics/all_energy_statistics.csv')\n",
    "\n",
    "# İlk birkaç satırı kontrol edelim\n",
    "print(df.head())\n",
    "import missingno as msno\n",
    "import matplotlib.pyplot as plt\n",
    "\n",
    "# Eksik veri görselleştirelim\n",
    "msno.bar(df=df, figsize=(10, 6), fontsize=12, color=\"skyblue\")\n",
    "\n",
    "# Grafiği gösterelim\n",
    "plt.show()"
   ]
  },
  {
   "cell_type": "code",
   "execution_count": 19,
   "id": "fe755496",
   "metadata": {
    "execution": {
     "iopub.execute_input": "2024-11-21T18:14:04.619686Z",
     "iopub.status.busy": "2024-11-21T18:14:04.619210Z",
     "iopub.status.idle": "2024-11-21T18:14:07.374457Z",
     "shell.execute_reply": "2024-11-21T18:14:07.372528Z"
    },
    "papermill": {
     "duration": 2.783998,
     "end_time": "2024-11-21T18:14:07.376808",
     "exception": false,
     "start_time": "2024-11-21T18:14:04.592810",
     "status": "completed"
    },
    "tags": []
   },
   "outputs": [
    {
     "data": {
      "image/png": "[encoded data removed]",
      "text/plain": [
       "<Figure size 1000x600 with 2 Axes>"
      ]
     },
     "metadata": {},
     "output_type": "display_data"
    }
   ],
   "source": [
    "msno.matrix(df=df, figsize=(10, 6), fontsize=12)\n",
    "plt.show()"
   ]
  },
  {
   "cell_type": "code",
   "execution_count": 20,
   "id": "4419cd19",
   "metadata": {
    "execution": {
     "iopub.execute_input": "2024-11-21T18:14:07.431557Z",
     "iopub.status.busy": "2024-11-21T18:14:07.431128Z",
     "iopub.status.idle": "2024-11-21T18:14:07.999281Z",
     "shell.execute_reply": "2024-11-21T18:14:07.997988Z"
    },
    "papermill": {
     "duration": 0.598437,
     "end_time": "2024-11-21T18:14:08.001590",
     "exception": false,
     "start_time": "2024-11-21T18:14:07.403153",
     "status": "completed"
    },
    "tags": []
   },
   "outputs": [
    {
     "data": {
      "image/png": "[encoded data removed]",
      "text/plain": [
       "<Figure size 1000x600 with 2 Axes>"
      ]
     },
     "metadata": {},
     "output_type": "display_data"
    }
   ],
   "source": [
    "msno.heatmap(df=df,figsize= (10,6), fontsize= 10); #bir nevi korelasyon"
   ]
  },
  {
   "cell_type": "markdown",
   "id": "d9104793",
   "metadata": {
    "papermill": {
     "duration": 0.027622,
     "end_time": "2024-11-21T18:14:08.056732",
     "exception": false,
     "start_time": "2024-11-21T18:14:08.029110",
     "status": "completed"
    },
    "tags": []
   },
   "source": [
    "# 4.  Eksik Verilerin Silinmesi"
   ]
  },
  {
   "cell_type": "code",
   "execution_count": 21,
   "id": "5ad102e0",
   "metadata": {
    "execution": {
     "iopub.execute_input": "2024-11-21T18:14:08.113483Z",
     "iopub.status.busy": "2024-11-21T18:14:08.113071Z",
     "iopub.status.idle": "2024-11-21T18:14:08.362364Z",
     "shell.execute_reply": "2024-11-21T18:14:08.361144Z"
    },
    "papermill": {
     "duration": 0.279637,
     "end_time": "2024-11-21T18:14:08.364726",
     "exception": false,
     "start_time": "2024-11-21T18:14:08.085089",
     "status": "completed"
    },
    "tags": []
   },
   "outputs": [
    {
     "data": {
      "text/html": [
       "<div>\n",
       "<style scoped>\n",
       "    .dataframe tbody tr th:only-of-type {\n",
       "        vertical-align: middle;\n",
       "    }\n",
       "\n",
       "    .dataframe tbody tr th {\n",
       "        vertical-align: top;\n",
       "    }\n",
       "\n",
       "    .dataframe thead th {\n",
       "        text-align: right;\n",
       "    }\n",
       "</style>\n",
       "<table border=\"1\" class=\"dataframe\">\n",
       "  <thead>\n",
       "    <tr style=\"text-align: right;\">\n",
       "      <th></th>\n",
       "      <th>country_or_area</th>\n",
       "      <th>commodity_transaction</th>\n",
       "      <th>year</th>\n",
       "      <th>unit</th>\n",
       "      <th>quantity</th>\n",
       "      <th>quantity_footnotes</th>\n",
       "      <th>category</th>\n",
       "    </tr>\n",
       "  </thead>\n",
       "  <tbody>\n",
       "    <tr>\n",
       "      <th>622</th>\n",
       "      <td>Colombia</td>\n",
       "      <td>Additives and Oxygenates - Production</td>\n",
       "      <td>2014</td>\n",
       "      <td>Metric tons,  thousand</td>\n",
       "      <td>34.53</td>\n",
       "      <td>1.0</td>\n",
       "      <td>additives_and_oxygenates</td>\n",
       "    </tr>\n",
       "    <tr>\n",
       "      <th>1369</th>\n",
       "      <td>Colombia</td>\n",
       "      <td>Additives and Oxygenates - Total energy supply</td>\n",
       "      <td>2014</td>\n",
       "      <td>Metric tons,  thousand</td>\n",
       "      <td>34.53</td>\n",
       "      <td>1.0</td>\n",
       "      <td>additives_and_oxygenates</td>\n",
       "    </tr>\n",
       "    <tr>\n",
       "      <th>1886</th>\n",
       "      <td>Colombia</td>\n",
       "      <td>Additives and Oxygenates - transfers and recyc...</td>\n",
       "      <td>2014</td>\n",
       "      <td>Metric tons,  thousand</td>\n",
       "      <td>34.53</td>\n",
       "      <td>1.0</td>\n",
       "      <td>additives_and_oxygenates</td>\n",
       "    </tr>\n",
       "    <tr>\n",
       "      <th>2250</th>\n",
       "      <td>Jordan</td>\n",
       "      <td>Additives and Oxygenates - Transformation</td>\n",
       "      <td>2014</td>\n",
       "      <td>Metric tons,  thousand</td>\n",
       "      <td>103.00</td>\n",
       "      <td>1.0</td>\n",
       "      <td>additives_and_oxygenates</td>\n",
       "    </tr>\n",
       "    <tr>\n",
       "      <th>2251</th>\n",
       "      <td>Jordan</td>\n",
       "      <td>Additives and Oxygenates - Transformation</td>\n",
       "      <td>2013</td>\n",
       "      <td>Metric tons,  thousand</td>\n",
       "      <td>101.00</td>\n",
       "      <td>1.0</td>\n",
       "      <td>additives_and_oxygenates</td>\n",
       "    </tr>\n",
       "  </tbody>\n",
       "</table>\n",
       "</div>"
      ],
      "text/plain": [
       "     country_or_area                              commodity_transaction  year  \\\n",
       "622         Colombia              Additives and Oxygenates - Production  2014   \n",
       "1369        Colombia     Additives and Oxygenates - Total energy supply  2014   \n",
       "1886        Colombia  Additives and Oxygenates - transfers and recyc...  2014   \n",
       "2250          Jordan          Additives and Oxygenates - Transformation  2014   \n",
       "2251          Jordan          Additives and Oxygenates - Transformation  2013   \n",
       "\n",
       "                        unit  quantity  quantity_footnotes  \\\n",
       "622   Metric tons,  thousand     34.53                 1.0   \n",
       "1369  Metric tons,  thousand     34.53                 1.0   \n",
       "1886  Metric tons,  thousand     34.53                 1.0   \n",
       "2250  Metric tons,  thousand    103.00                 1.0   \n",
       "2251  Metric tons,  thousand    101.00                 1.0   \n",
       "\n",
       "                      category  \n",
       "622   additives_and_oxygenates  \n",
       "1369  additives_and_oxygenates  \n",
       "1886  additives_and_oxygenates  \n",
       "2250  additives_and_oxygenates  \n",
       "2251  additives_and_oxygenates  "
      ]
     },
     "execution_count": 21,
     "metadata": {},
     "output_type": "execute_result"
    }
   ],
   "source": [
    "df.dropna(inplace= False)[:5] #verideki eksik değerleri geçici olarak kaldırır"
   ]
  },
  {
   "cell_type": "code",
   "execution_count": 22,
   "id": "18c5b2a5",
   "metadata": {
    "execution": {
     "iopub.execute_input": "2024-11-21T18:14:08.418946Z",
     "iopub.status.busy": "2024-11-21T18:14:08.418551Z",
     "iopub.status.idle": "2024-11-21T18:14:08.697347Z",
     "shell.execute_reply": "2024-11-21T18:14:08.696195Z"
    },
    "papermill": {
     "duration": 0.308793,
     "end_time": "2024-11-21T18:14:08.699828",
     "exception": false,
     "start_time": "2024-11-21T18:14:08.391035",
     "status": "completed"
    },
    "tags": []
   },
   "outputs": [
    {
     "data": {
      "text/html": [
       "<div>\n",
       "<style scoped>\n",
       "    .dataframe tbody tr th:only-of-type {\n",
       "        vertical-align: middle;\n",
       "    }\n",
       "\n",
       "    .dataframe tbody tr th {\n",
       "        vertical-align: top;\n",
       "    }\n",
       "\n",
       "    .dataframe thead th {\n",
       "        text-align: right;\n",
       "    }\n",
       "</style>\n",
       "<table border=\"1\" class=\"dataframe\">\n",
       "  <thead>\n",
       "    <tr style=\"text-align: right;\">\n",
       "      <th></th>\n",
       "      <th>country_or_area</th>\n",
       "      <th>commodity_transaction</th>\n",
       "      <th>year</th>\n",
       "      <th>unit</th>\n",
       "      <th>quantity</th>\n",
       "      <th>quantity_footnotes</th>\n",
       "      <th>category</th>\n",
       "    </tr>\n",
       "  </thead>\n",
       "  <tbody>\n",
       "    <tr>\n",
       "      <th>0</th>\n",
       "      <td>Austria</td>\n",
       "      <td>Additives and Oxygenates - Exports</td>\n",
       "      <td>1996</td>\n",
       "      <td>Metric tons,  thousand</td>\n",
       "      <td>5.0</td>\n",
       "      <td>NaN</td>\n",
       "      <td>additives_and_oxygenates</td>\n",
       "    </tr>\n",
       "    <tr>\n",
       "      <th>1</th>\n",
       "      <td>Austria</td>\n",
       "      <td>Additives and Oxygenates - Exports</td>\n",
       "      <td>1995</td>\n",
       "      <td>Metric tons,  thousand</td>\n",
       "      <td>17.0</td>\n",
       "      <td>NaN</td>\n",
       "      <td>additives_and_oxygenates</td>\n",
       "    </tr>\n",
       "    <tr>\n",
       "      <th>2</th>\n",
       "      <td>Belgium</td>\n",
       "      <td>Additives and Oxygenates - Exports</td>\n",
       "      <td>2014</td>\n",
       "      <td>Metric tons,  thousand</td>\n",
       "      <td>0.0</td>\n",
       "      <td>NaN</td>\n",
       "      <td>additives_and_oxygenates</td>\n",
       "    </tr>\n",
       "    <tr>\n",
       "      <th>3</th>\n",
       "      <td>Belgium</td>\n",
       "      <td>Additives and Oxygenates - Exports</td>\n",
       "      <td>2013</td>\n",
       "      <td>Metric tons,  thousand</td>\n",
       "      <td>0.0</td>\n",
       "      <td>NaN</td>\n",
       "      <td>additives_and_oxygenates</td>\n",
       "    </tr>\n",
       "    <tr>\n",
       "      <th>4</th>\n",
       "      <td>Belgium</td>\n",
       "      <td>Additives and Oxygenates - Exports</td>\n",
       "      <td>2012</td>\n",
       "      <td>Metric tons,  thousand</td>\n",
       "      <td>35.0</td>\n",
       "      <td>NaN</td>\n",
       "      <td>additives_and_oxygenates</td>\n",
       "    </tr>\n",
       "  </tbody>\n",
       "</table>\n",
       "</div>"
      ],
      "text/plain": [
       "  country_or_area               commodity_transaction  year  \\\n",
       "0         Austria  Additives and Oxygenates - Exports  1996   \n",
       "1         Austria  Additives and Oxygenates - Exports  1995   \n",
       "2         Belgium  Additives and Oxygenates - Exports  2014   \n",
       "3         Belgium  Additives and Oxygenates - Exports  2013   \n",
       "4         Belgium  Additives and Oxygenates - Exports  2012   \n",
       "\n",
       "                     unit  quantity  quantity_footnotes  \\\n",
       "0  Metric tons,  thousand       5.0                 NaN   \n",
       "1  Metric tons,  thousand      17.0                 NaN   \n",
       "2  Metric tons,  thousand       0.0                 NaN   \n",
       "3  Metric tons,  thousand       0.0                 NaN   \n",
       "4  Metric tons,  thousand      35.0                 NaN   \n",
       "\n",
       "                   category  \n",
       "0  additives_and_oxygenates  \n",
       "1  additives_and_oxygenates  \n",
       "2  additives_and_oxygenates  \n",
       "3  additives_and_oxygenates  \n",
       "4  additives_and_oxygenates  "
      ]
     },
     "execution_count": 22,
     "metadata": {},
     "output_type": "execute_result"
    }
   ],
   "source": [
    "df.dropna(how= 'all')[:5] #sadece bütün değerleri eksik olan bir gözlemi silmek istersek"
   ]
  },
  {
   "cell_type": "code",
   "execution_count": 23,
   "id": "4506cb53",
   "metadata": {
    "execution": {
     "iopub.execute_input": "2024-11-21T18:14:08.757343Z",
     "iopub.status.busy": "2024-11-21T18:14:08.756592Z",
     "iopub.status.idle": "2024-11-21T18:14:09.050559Z",
     "shell.execute_reply": "2024-11-21T18:14:09.049185Z"
    },
    "papermill": {
     "duration": 0.325364,
     "end_time": "2024-11-21T18:14:09.053220",
     "exception": false,
     "start_time": "2024-11-21T18:14:08.727856",
     "status": "completed"
    },
    "tags": []
   },
   "outputs": [
    {
     "data": {
      "text/html": [
       "<div>\n",
       "<style scoped>\n",
       "    .dataframe tbody tr th:only-of-type {\n",
       "        vertical-align: middle;\n",
       "    }\n",
       "\n",
       "    .dataframe tbody tr th {\n",
       "        vertical-align: top;\n",
       "    }\n",
       "\n",
       "    .dataframe thead th {\n",
       "        text-align: right;\n",
       "    }\n",
       "</style>\n",
       "<table border=\"1\" class=\"dataframe\">\n",
       "  <thead>\n",
       "    <tr style=\"text-align: right;\">\n",
       "      <th></th>\n",
       "      <th>country_or_area</th>\n",
       "      <th>commodity_transaction</th>\n",
       "      <th>year</th>\n",
       "      <th>unit</th>\n",
       "      <th>quantity</th>\n",
       "      <th>category</th>\n",
       "    </tr>\n",
       "  </thead>\n",
       "  <tbody>\n",
       "    <tr>\n",
       "      <th>0</th>\n",
       "      <td>Austria</td>\n",
       "      <td>Additives and Oxygenates - Exports</td>\n",
       "      <td>1996</td>\n",
       "      <td>Metric tons,  thousand</td>\n",
       "      <td>5.0</td>\n",
       "      <td>additives_and_oxygenates</td>\n",
       "    </tr>\n",
       "    <tr>\n",
       "      <th>1</th>\n",
       "      <td>Austria</td>\n",
       "      <td>Additives and Oxygenates - Exports</td>\n",
       "      <td>1995</td>\n",
       "      <td>Metric tons,  thousand</td>\n",
       "      <td>17.0</td>\n",
       "      <td>additives_and_oxygenates</td>\n",
       "    </tr>\n",
       "    <tr>\n",
       "      <th>2</th>\n",
       "      <td>Belgium</td>\n",
       "      <td>Additives and Oxygenates - Exports</td>\n",
       "      <td>2014</td>\n",
       "      <td>Metric tons,  thousand</td>\n",
       "      <td>0.0</td>\n",
       "      <td>additives_and_oxygenates</td>\n",
       "    </tr>\n",
       "    <tr>\n",
       "      <th>3</th>\n",
       "      <td>Belgium</td>\n",
       "      <td>Additives and Oxygenates - Exports</td>\n",
       "      <td>2013</td>\n",
       "      <td>Metric tons,  thousand</td>\n",
       "      <td>0.0</td>\n",
       "      <td>additives_and_oxygenates</td>\n",
       "    </tr>\n",
       "    <tr>\n",
       "      <th>4</th>\n",
       "      <td>Belgium</td>\n",
       "      <td>Additives and Oxygenates - Exports</td>\n",
       "      <td>2012</td>\n",
       "      <td>Metric tons,  thousand</td>\n",
       "      <td>35.0</td>\n",
       "      <td>additives_and_oxygenates</td>\n",
       "    </tr>\n",
       "    <tr>\n",
       "      <th>...</th>\n",
       "      <td>...</td>\n",
       "      <td>...</td>\n",
       "      <td>...</td>\n",
       "      <td>...</td>\n",
       "      <td>...</td>\n",
       "      <td>...</td>\n",
       "    </tr>\n",
       "    <tr>\n",
       "      <th>1189477</th>\n",
       "      <td>Viet Nam</td>\n",
       "      <td>Electricity - total wind production</td>\n",
       "      <td>2012</td>\n",
       "      <td>Kilowatt-hours, million</td>\n",
       "      <td>92.0</td>\n",
       "      <td>wind_electricity</td>\n",
       "    </tr>\n",
       "    <tr>\n",
       "      <th>1189478</th>\n",
       "      <td>Viet Nam</td>\n",
       "      <td>Electricity - total wind production</td>\n",
       "      <td>2011</td>\n",
       "      <td>Kilowatt-hours, million</td>\n",
       "      <td>87.0</td>\n",
       "      <td>wind_electricity</td>\n",
       "    </tr>\n",
       "    <tr>\n",
       "      <th>1189479</th>\n",
       "      <td>Viet Nam</td>\n",
       "      <td>Electricity - total wind production</td>\n",
       "      <td>2010</td>\n",
       "      <td>Kilowatt-hours, million</td>\n",
       "      <td>50.0</td>\n",
       "      <td>wind_electricity</td>\n",
       "    </tr>\n",
       "    <tr>\n",
       "      <th>1189480</th>\n",
       "      <td>Viet Nam</td>\n",
       "      <td>Electricity - total wind production</td>\n",
       "      <td>2009</td>\n",
       "      <td>Kilowatt-hours, million</td>\n",
       "      <td>10.0</td>\n",
       "      <td>wind_electricity</td>\n",
       "    </tr>\n",
       "    <tr>\n",
       "      <th>1189481</th>\n",
       "      <td>Viet Nam</td>\n",
       "      <td>Electricity - total wind production</td>\n",
       "      <td>2008</td>\n",
       "      <td>Kilowatt-hours, million</td>\n",
       "      <td>1.0</td>\n",
       "      <td>wind_electricity</td>\n",
       "    </tr>\n",
       "  </tbody>\n",
       "</table>\n",
       "<p>1189482 rows × 6 columns</p>\n",
       "</div>"
      ],
      "text/plain": [
       "        country_or_area                commodity_transaction  year  \\\n",
       "0               Austria   Additives and Oxygenates - Exports  1996   \n",
       "1               Austria   Additives and Oxygenates - Exports  1995   \n",
       "2               Belgium   Additives and Oxygenates - Exports  2014   \n",
       "3               Belgium   Additives and Oxygenates - Exports  2013   \n",
       "4               Belgium   Additives and Oxygenates - Exports  2012   \n",
       "...                 ...                                  ...   ...   \n",
       "1189477        Viet Nam  Electricity - total wind production  2012   \n",
       "1189478        Viet Nam  Electricity - total wind production  2011   \n",
       "1189479        Viet Nam  Electricity - total wind production  2010   \n",
       "1189480        Viet Nam  Electricity - total wind production  2009   \n",
       "1189481        Viet Nam  Electricity - total wind production  2008   \n",
       "\n",
       "                            unit  quantity                  category  \n",
       "0         Metric tons,  thousand       5.0  additives_and_oxygenates  \n",
       "1         Metric tons,  thousand      17.0  additives_and_oxygenates  \n",
       "2         Metric tons,  thousand       0.0  additives_and_oxygenates  \n",
       "3         Metric tons,  thousand       0.0  additives_and_oxygenates  \n",
       "4         Metric tons,  thousand      35.0  additives_and_oxygenates  \n",
       "...                          ...       ...                       ...  \n",
       "1189477  Kilowatt-hours, million      92.0          wind_electricity  \n",
       "1189478  Kilowatt-hours, million      87.0          wind_electricity  \n",
       "1189479  Kilowatt-hours, million      50.0          wind_electricity  \n",
       "1189480  Kilowatt-hours, million      10.0          wind_electricity  \n",
       "1189481  Kilowatt-hours, million       1.0          wind_electricity  \n",
       "\n",
       "[1189482 rows x 6 columns]"
      ]
     },
     "execution_count": 23,
     "metadata": {},
     "output_type": "execute_result"
    }
   ],
   "source": [
    "df.dropna(axis=1) #eksik veriye sahip sütunları kaldırır"
   ]
  },
  {
   "cell_type": "code",
   "execution_count": 24,
   "id": "5978ffc3",
   "metadata": {
    "execution": {
     "iopub.execute_input": "2024-11-21T18:14:09.109454Z",
     "iopub.status.busy": "2024-11-21T18:14:09.109092Z",
     "iopub.status.idle": "2024-11-21T18:14:10.138867Z",
     "shell.execute_reply": "2024-11-21T18:14:10.137626Z"
    },
    "papermill": {
     "duration": 1.060395,
     "end_time": "2024-11-21T18:14:10.141281",
     "exception": false,
     "start_time": "2024-11-21T18:14:09.080886",
     "status": "completed"
    },
    "tags": []
   },
   "outputs": [
    {
     "name": "stdout",
     "output_type": "stream",
     "text": [
      "Eksik veriler kontrol ediliyor...\n",
      "Toplam hücre sayısı: 8326374\n",
      "Toplam eksik değer sayısı: 1026982\n",
      "Eksik verilerin yüzdesi: 12.33%\n"
     ]
    }
   ],
   "source": [
    "# Eksik değerleri algılamak için kontrol\n",
    "print(\"Eksik veriler kontrol ediliyor...\")\n",
    "df.replace(\"\", float(\"NaN\"), inplace=True)  # Boş stringleri NaN yap\n",
    "df.replace(-1, float(\"NaN\"), inplace=True)  # Özel eksiklikleri NaN yap\n",
    "\n",
    "# Toplam hücre sayısı\n",
    "total_cells = df.size\n",
    "\n",
    "# Eksik değerlerin sayısı\n",
    "missing_values = df.isnull().sum().sum()\n",
    "\n",
    "# Eksik değerlerin yüzdesi\n",
    "missing_rate = (missing_values / total_cells) * 100 if total_cells > 0 else 0\n",
    "\n",
    "# Sonuçları yazdır\n",
    "print(f\"Toplam hücre sayısı: {total_cells}\")\n",
    "print(f\"Toplam eksik değer sayısı: {missing_values}\")\n",
    "print(f\"Eksik verilerin yüzdesi: {missing_rate:.2f}%\")"
   ]
  },
  {
   "cell_type": "code",
   "execution_count": 25,
   "id": "18bad800",
   "metadata": {
    "execution": {
     "iopub.execute_input": "2024-11-21T18:14:10.203104Z",
     "iopub.status.busy": "2024-11-21T18:14:10.202674Z",
     "iopub.status.idle": "2024-11-21T18:14:10.265814Z",
     "shell.execute_reply": "2024-11-21T18:14:10.264637Z"
    },
    "papermill": {
     "duration": 0.096815,
     "end_time": "2024-11-21T18:14:10.268670",
     "exception": false,
     "start_time": "2024-11-21T18:14:10.171855",
     "status": "completed"
    },
    "tags": []
   },
   "outputs": [
    {
     "data": {
      "text/html": [
       "<div>\n",
       "<style scoped>\n",
       "    .dataframe tbody tr th:only-of-type {\n",
       "        vertical-align: middle;\n",
       "    }\n",
       "\n",
       "    .dataframe tbody tr th {\n",
       "        vertical-align: top;\n",
       "    }\n",
       "\n",
       "    .dataframe thead th {\n",
       "        text-align: right;\n",
       "    }\n",
       "</style>\n",
       "<table border=\"1\" class=\"dataframe\">\n",
       "  <thead>\n",
       "    <tr style=\"text-align: right;\">\n",
       "      <th></th>\n",
       "      <th>country_or_area</th>\n",
       "      <th>commodity_transaction</th>\n",
       "      <th>year</th>\n",
       "      <th>unit</th>\n",
       "      <th>quantity</th>\n",
       "      <th>quantity_footnotes</th>\n",
       "      <th>category</th>\n",
       "    </tr>\n",
       "  </thead>\n",
       "  <tbody>\n",
       "    <tr>\n",
       "      <th>0</th>\n",
       "      <td>Austria</td>\n",
       "      <td>Additives and Oxygenates - Exports</td>\n",
       "      <td>1996</td>\n",
       "      <td>Metric tons,  thousand</td>\n",
       "      <td>5.0</td>\n",
       "      <td>NaN</td>\n",
       "      <td>additives_and_oxygenates</td>\n",
       "    </tr>\n",
       "    <tr>\n",
       "      <th>1</th>\n",
       "      <td>Austria</td>\n",
       "      <td>Additives and Oxygenates - Exports</td>\n",
       "      <td>1995</td>\n",
       "      <td>Metric tons,  thousand</td>\n",
       "      <td>17.0</td>\n",
       "      <td>NaN</td>\n",
       "      <td>additives_and_oxygenates</td>\n",
       "    </tr>\n",
       "    <tr>\n",
       "      <th>2</th>\n",
       "      <td>Belgium</td>\n",
       "      <td>Additives and Oxygenates - Exports</td>\n",
       "      <td>2014</td>\n",
       "      <td>Metric tons,  thousand</td>\n",
       "      <td>0.0</td>\n",
       "      <td>NaN</td>\n",
       "      <td>additives_and_oxygenates</td>\n",
       "    </tr>\n",
       "  </tbody>\n",
       "</table>\n",
       "</div>"
      ],
      "text/plain": [
       "  country_or_area               commodity_transaction  year  \\\n",
       "0         Austria  Additives and Oxygenates - Exports  1996   \n",
       "1         Austria  Additives and Oxygenates - Exports  1995   \n",
       "2         Belgium  Additives and Oxygenates - Exports  2014   \n",
       "\n",
       "                     unit  quantity  quantity_footnotes  \\\n",
       "0  Metric tons,  thousand       5.0                 NaN   \n",
       "1  Metric tons,  thousand      17.0                 NaN   \n",
       "2  Metric tons,  thousand       0.0                 NaN   \n",
       "\n",
       "                   category  \n",
       "0  additives_and_oxygenates  \n",
       "1  additives_and_oxygenates  \n",
       "2  additives_and_oxygenates  "
      ]
     },
     "execution_count": 25,
     "metadata": {},
     "output_type": "execute_result"
    }
   ],
   "source": [
    "df_fillna = df.copy()\n",
    "df_fillna.head(3) #veri setinin bir kopyasını doldurma işlemleri için oluşturdum."
   ]
  },
  {
   "cell_type": "code",
   "execution_count": 26,
   "id": "6880e91c",
   "metadata": {
    "execution": {
     "iopub.execute_input": "2024-11-21T18:14:10.329362Z",
     "iopub.status.busy": "2024-11-21T18:14:10.328933Z",
     "iopub.status.idle": "2024-11-21T18:14:10.561131Z",
     "shell.execute_reply": "2024-11-21T18:14:10.560009Z"
    },
    "papermill": {
     "duration": 0.265744,
     "end_time": "2024-11-21T18:14:10.563443",
     "exception": false,
     "start_time": "2024-11-21T18:14:10.297699",
     "status": "completed"
    },
    "tags": []
   },
   "outputs": [
    {
     "data": {
      "text/plain": [
       "country_or_area                0\n",
       "commodity_transaction          0\n",
       "year                           0\n",
       "unit                           0\n",
       "quantity                    1446\n",
       "quantity_footnotes       1025536\n",
       "category                       0\n",
       "dtype: int64"
      ]
     },
     "execution_count": 26,
     "metadata": {},
     "output_type": "execute_result"
    }
   ],
   "source": [
    "#veri çerçevesinde her sütunda kaç eksik (NaN) değer olduğunu gösterir veri çerçevesinde her sütunda kaç eksik (NaN) değer olduğunu görürüz.\n",
    "df_fillna.isna().sum()"
   ]
  },
  {
   "cell_type": "markdown",
   "id": "3eed43fb",
   "metadata": {
    "papermill": {
     "duration": 0.026871,
     "end_time": "2024-11-21T18:14:10.617669",
     "exception": false,
     "start_time": "2024-11-21T18:14:10.590798",
     "status": "completed"
    },
    "tags": []
   },
   "source": [
    "# 5. Sayısal Değişkenlerin Doldurulması"
   ]
  },
  {
   "cell_type": "code",
   "execution_count": 27,
   "id": "bc3b5d91",
   "metadata": {
    "execution": {
     "iopub.execute_input": "2024-11-21T18:14:10.673795Z",
     "iopub.status.busy": "2024-11-21T18:14:10.673356Z",
     "iopub.status.idle": "2024-11-21T18:14:10.782351Z",
     "shell.execute_reply": "2024-11-21T18:14:10.781026Z"
    },
    "papermill": {
     "duration": 0.139737,
     "end_time": "2024-11-21T18:14:10.784549",
     "exception": false,
     "start_time": "2024-11-21T18:14:10.644812",
     "status": "completed"
    },
    "tags": []
   },
   "outputs": [
    {
     "data": {
      "text/html": [
       "<div>\n",
       "<style scoped>\n",
       "    .dataframe tbody tr th:only-of-type {\n",
       "        vertical-align: middle;\n",
       "    }\n",
       "\n",
       "    .dataframe tbody tr th {\n",
       "        vertical-align: top;\n",
       "    }\n",
       "\n",
       "    .dataframe thead th {\n",
       "        text-align: right;\n",
       "    }\n",
       "</style>\n",
       "<table border=\"1\" class=\"dataframe\">\n",
       "  <thead>\n",
       "    <tr style=\"text-align: right;\">\n",
       "      <th></th>\n",
       "      <th>country_or_area</th>\n",
       "      <th>commodity_transaction</th>\n",
       "      <th>year</th>\n",
       "      <th>unit</th>\n",
       "      <th>quantity</th>\n",
       "      <th>quantity_footnotes</th>\n",
       "      <th>category</th>\n",
       "    </tr>\n",
       "  </thead>\n",
       "  <tbody>\n",
       "    <tr>\n",
       "      <th>0</th>\n",
       "      <td>Austria</td>\n",
       "      <td>Additives and Oxygenates - Exports</td>\n",
       "      <td>1996</td>\n",
       "      <td>Metric tons,  thousand</td>\n",
       "      <td>5.0</td>\n",
       "      <td>1.0</td>\n",
       "      <td>additives_and_oxygenates</td>\n",
       "    </tr>\n",
       "    <tr>\n",
       "      <th>1</th>\n",
       "      <td>Austria</td>\n",
       "      <td>Additives and Oxygenates - Exports</td>\n",
       "      <td>1995</td>\n",
       "      <td>Metric tons,  thousand</td>\n",
       "      <td>17.0</td>\n",
       "      <td>1.0</td>\n",
       "      <td>additives_and_oxygenates</td>\n",
       "    </tr>\n",
       "    <tr>\n",
       "      <th>2</th>\n",
       "      <td>Belgium</td>\n",
       "      <td>Additives and Oxygenates - Exports</td>\n",
       "      <td>2014</td>\n",
       "      <td>Metric tons,  thousand</td>\n",
       "      <td>0.0</td>\n",
       "      <td>1.0</td>\n",
       "      <td>additives_and_oxygenates</td>\n",
       "    </tr>\n",
       "    <tr>\n",
       "      <th>3</th>\n",
       "      <td>Belgium</td>\n",
       "      <td>Additives and Oxygenates - Exports</td>\n",
       "      <td>2013</td>\n",
       "      <td>Metric tons,  thousand</td>\n",
       "      <td>0.0</td>\n",
       "      <td>1.0</td>\n",
       "      <td>additives_and_oxygenates</td>\n",
       "    </tr>\n",
       "    <tr>\n",
       "      <th>4</th>\n",
       "      <td>Belgium</td>\n",
       "      <td>Additives and Oxygenates - Exports</td>\n",
       "      <td>2012</td>\n",
       "      <td>Metric tons,  thousand</td>\n",
       "      <td>35.0</td>\n",
       "      <td>1.0</td>\n",
       "      <td>additives_and_oxygenates</td>\n",
       "    </tr>\n",
       "  </tbody>\n",
       "</table>\n",
       "</div>"
      ],
      "text/plain": [
       "  country_or_area               commodity_transaction  year  \\\n",
       "0         Austria  Additives and Oxygenates - Exports  1996   \n",
       "1         Austria  Additives and Oxygenates - Exports  1995   \n",
       "2         Belgium  Additives and Oxygenates - Exports  2014   \n",
       "3         Belgium  Additives and Oxygenates - Exports  2013   \n",
       "4         Belgium  Additives and Oxygenates - Exports  2012   \n",
       "\n",
       "                     unit  quantity  quantity_footnotes  \\\n",
       "0  Metric tons,  thousand       5.0                 1.0   \n",
       "1  Metric tons,  thousand      17.0                 1.0   \n",
       "2  Metric tons,  thousand       0.0                 1.0   \n",
       "3  Metric tons,  thousand       0.0                 1.0   \n",
       "4  Metric tons,  thousand      35.0                 1.0   \n",
       "\n",
       "                   category  \n",
       "0  additives_and_oxygenates  \n",
       "1  additives_and_oxygenates  \n",
       "2  additives_and_oxygenates  \n",
       "3  additives_and_oxygenates  \n",
       "4  additives_and_oxygenates  "
      ]
     },
     "execution_count": 27,
     "metadata": {},
     "output_type": "execute_result"
    }
   ],
   "source": [
    "# Sayısal sütunları belirleme\n",
    "numerical_columns = df.select_dtypes(include=['float64', 'int64']).columns\n",
    "\n",
    "# Eksik değerleri sütunların ortalamaları ile doldurma\n",
    "df[numerical_columns] = df[numerical_columns].fillna(df[numerical_columns].mean())\n",
    "\n",
    "# Kontrol etmek için ilk birkaç satırını görüntüleme\n",
    "df.head()\n"
   ]
  },
  {
   "cell_type": "code",
   "execution_count": 28,
   "id": "6500e6fb",
   "metadata": {
    "execution": {
     "iopub.execute_input": "2024-11-21T18:14:10.841431Z",
     "iopub.status.busy": "2024-11-21T18:14:10.841052Z",
     "iopub.status.idle": "2024-11-21T18:14:10.980118Z",
     "shell.execute_reply": "2024-11-21T18:14:10.978807Z"
    },
    "papermill": {
     "duration": 0.170037,
     "end_time": "2024-11-21T18:14:10.982313",
     "exception": false,
     "start_time": "2024-11-21T18:14:10.812276",
     "status": "completed"
    },
    "tags": []
   },
   "outputs": [
    {
     "data": {
      "text/html": [
       "<div>\n",
       "<style scoped>\n",
       "    .dataframe tbody tr th:only-of-type {\n",
       "        vertical-align: middle;\n",
       "    }\n",
       "\n",
       "    .dataframe tbody tr th {\n",
       "        vertical-align: top;\n",
       "    }\n",
       "\n",
       "    .dataframe thead th {\n",
       "        text-align: right;\n",
       "    }\n",
       "</style>\n",
       "<table border=\"1\" class=\"dataframe\">\n",
       "  <thead>\n",
       "    <tr style=\"text-align: right;\">\n",
       "      <th></th>\n",
       "      <th>count</th>\n",
       "      <th>mean</th>\n",
       "      <th>std</th>\n",
       "      <th>min</th>\n",
       "      <th>25%</th>\n",
       "      <th>50%</th>\n",
       "      <th>75%</th>\n",
       "      <th>max</th>\n",
       "    </tr>\n",
       "  </thead>\n",
       "  <tbody>\n",
       "    <tr>\n",
       "      <th>year</th>\n",
       "      <td>1189482.0</td>\n",
       "      <td>2002.851554</td>\n",
       "      <td>7.167345e+00</td>\n",
       "      <td>1990.0</td>\n",
       "      <td>1997.0</td>\n",
       "      <td>2003.0</td>\n",
       "      <td>2009.0</td>\n",
       "      <td>2.014000e+03</td>\n",
       "    </tr>\n",
       "    <tr>\n",
       "      <th>quantity</th>\n",
       "      <td>1189482.0</td>\n",
       "      <td>184489.046338</td>\n",
       "      <td>1.585663e+07</td>\n",
       "      <td>-864348.0</td>\n",
       "      <td>14.0</td>\n",
       "      <td>191.0</td>\n",
       "      <td>2297.0</td>\n",
       "      <td>6.680329e+09</td>\n",
       "    </tr>\n",
       "    <tr>\n",
       "      <th>quantity_footnotes</th>\n",
       "      <td>1189482.0</td>\n",
       "      <td>1.000000</td>\n",
       "      <td>0.000000e+00</td>\n",
       "      <td>1.0</td>\n",
       "      <td>1.0</td>\n",
       "      <td>1.0</td>\n",
       "      <td>1.0</td>\n",
       "      <td>1.000000e+00</td>\n",
       "    </tr>\n",
       "  </tbody>\n",
       "</table>\n",
       "</div>"
      ],
      "text/plain": [
       "                        count           mean           std       min     25%  \\\n",
       "year                1189482.0    2002.851554  7.167345e+00    1990.0  1997.0   \n",
       "quantity            1189482.0  184489.046338  1.585663e+07 -864348.0    14.0   \n",
       "quantity_footnotes  1189482.0       1.000000  0.000000e+00       1.0     1.0   \n",
       "\n",
       "                       50%     75%           max  \n",
       "year                2003.0  2009.0  2.014000e+03  \n",
       "quantity             191.0  2297.0  6.680329e+09  \n",
       "quantity_footnotes     1.0     1.0  1.000000e+00  "
      ]
     },
     "execution_count": 28,
     "metadata": {},
     "output_type": "execute_result"
    }
   ],
   "source": [
    "df.describe().T"
   ]
  },
  {
   "cell_type": "code",
   "execution_count": 29,
   "id": "79cbb9a3",
   "metadata": {
    "execution": {
     "iopub.execute_input": "2024-11-21T18:14:11.042065Z",
     "iopub.status.busy": "2024-11-21T18:14:11.041099Z",
     "iopub.status.idle": "2024-11-21T18:14:23.053025Z",
     "shell.execute_reply": "2024-11-21T18:14:23.051916Z"
    },
    "papermill": {
     "duration": 12.043926,
     "end_time": "2024-11-21T18:14:23.055412",
     "exception": false,
     "start_time": "2024-11-21T18:14:11.011486",
     "status": "completed"
    },
    "tags": []
   },
   "outputs": [
    {
     "name": "stderr",
     "output_type": "stream",
     "text": [
      "/opt/conda/lib/python3.10/site-packages/seaborn/_oldcore.py:1119: FutureWarning: use_inf_as_na option is deprecated and will be removed in a future version. Convert inf values to NaN before operating instead.\n",
      "  with pd.option_context('mode.use_inf_as_na', True):\n"
     ]
    },
    {
     "data": {
      "image/png": "[encoded data removed]",
      "text/plain": [
       "<Figure size 1000x600 with 1 Axes>"
      ]
     },
     "metadata": {},
     "output_type": "display_data"
    },
    {
     "name": "stderr",
     "output_type": "stream",
     "text": [
      "/opt/conda/lib/python3.10/site-packages/seaborn/_oldcore.py:1119: FutureWarning: use_inf_as_na option is deprecated and will be removed in a future version. Convert inf values to NaN before operating instead.\n",
      "  with pd.option_context('mode.use_inf_as_na', True):\n"
     ]
    },
    {
     "data": {
      "image/png": "[encoded data removed]",
      "text/plain": [
       "<Figure size 1000x600 with 1 Axes>"
      ]
     },
     "metadata": {},
     "output_type": "display_data"
    },
    {
     "name": "stderr",
     "output_type": "stream",
     "text": [
      "/opt/conda/lib/python3.10/site-packages/seaborn/_oldcore.py:1119: FutureWarning: use_inf_as_na option is deprecated and will be removed in a future version. Convert inf values to NaN before operating instead.\n",
      "  with pd.option_context('mode.use_inf_as_na', True):\n"
     ]
    },
    {
     "data": {
      "image/png": "[encoded data removed]",
      "text/plain": [
       "<Figure size 1000x600 with 1 Axes>"
      ]
     },
     "metadata": {},
     "output_type": "display_data"
    }
   ],
   "source": [
    "# Numerik sütunlar listesi \n",
    "numerical_features = df_fillna.select_dtypes(include=['number']).columns\n",
    "\n",
    "# Her numerik sütun için histogram çizme\n",
    "for col in numerical_features:\n",
    "    plt.figure(figsize=(10, 6))  # Grafik boyutunu ayarlamak için\n",
    "    sns.histplot(df_fillna[col], kde=True, bins=30)  # KDE ile histogram\n",
    "    plt.title(f'Histogram of {col}')  # Başlık\n",
    "    plt.xlabel('Values')  # X ekseni etiket\n",
    "    plt.ylabel('Frequency')  # Y ekseni etiket\n",
    "    plt.show()"
   ]
  },
  {
   "cell_type": "markdown",
   "id": "205e69a8",
   "metadata": {
    "papermill": {
     "duration": 0.033047,
     "end_time": "2024-11-21T18:14:23.119486",
     "exception": false,
     "start_time": "2024-11-21T18:14:23.086439",
     "status": "completed"
    },
    "tags": []
   },
   "source": [
    "# 6. Kategorik Değişkenlerin Doldurulması\n",
    "\r\n"
   ]
  },
  {
   "cell_type": "code",
   "execution_count": 30,
   "id": "2306bf39",
   "metadata": {
    "execution": {
     "iopub.execute_input": "2024-11-21T18:14:23.184104Z",
     "iopub.status.busy": "2024-11-21T18:14:23.182971Z",
     "iopub.status.idle": "2024-11-21T18:14:23.985161Z",
     "shell.execute_reply": "2024-11-21T18:14:23.983476Z"
    },
    "papermill": {
     "duration": 0.836526,
     "end_time": "2024-11-21T18:14:23.987710",
     "exception": false,
     "start_time": "2024-11-21T18:14:23.151184",
     "status": "completed"
    },
    "tags": []
   },
   "outputs": [
    {
     "name": "stdout",
     "output_type": "stream",
     "text": [
      "Orijinal veri seti:\n",
      "        country_or_area                commodity_transaction  year  \\\n",
      "0               Austria   Additives and Oxygenates - Exports  1996   \n",
      "1               Austria   Additives and Oxygenates - Exports  1995   \n",
      "2               Belgium   Additives and Oxygenates - Exports  2014   \n",
      "3               Belgium   Additives and Oxygenates - Exports  2013   \n",
      "4               Belgium   Additives and Oxygenates - Exports  2012   \n",
      "...                 ...                                  ...   ...   \n",
      "1189477        Viet Nam  Electricity - total wind production  2012   \n",
      "1189478        Viet Nam  Electricity - total wind production  2011   \n",
      "1189479        Viet Nam  Electricity - total wind production  2010   \n",
      "1189480        Viet Nam  Electricity - total wind production  2009   \n",
      "1189481        Viet Nam  Electricity - total wind production  2008   \n",
      "\n",
      "                            unit  quantity  quantity_footnotes  \\\n",
      "0         Metric tons,  thousand       5.0                 1.0   \n",
      "1         Metric tons,  thousand      17.0                 1.0   \n",
      "2         Metric tons,  thousand       0.0                 1.0   \n",
      "3         Metric tons,  thousand       0.0                 1.0   \n",
      "4         Metric tons,  thousand      35.0                 1.0   \n",
      "...                          ...       ...                 ...   \n",
      "1189477  Kilowatt-hours, million      92.0                 1.0   \n",
      "1189478  Kilowatt-hours, million      87.0                 1.0   \n",
      "1189479  Kilowatt-hours, million      50.0                 1.0   \n",
      "1189480  Kilowatt-hours, million      10.0                 1.0   \n",
      "1189481  Kilowatt-hours, million       1.0                 1.0   \n",
      "\n",
      "                         category  \n",
      "0        additives_and_oxygenates  \n",
      "1        additives_and_oxygenates  \n",
      "2        additives_and_oxygenates  \n",
      "3        additives_and_oxygenates  \n",
      "4        additives_and_oxygenates  \n",
      "...                           ...  \n",
      "1189477          wind_electricity  \n",
      "1189478          wind_electricity  \n",
      "1189479          wind_electricity  \n",
      "1189480          wind_electricity  \n",
      "1189481          wind_electricity  \n",
      "\n",
      "[1189482 rows x 7 columns]\n",
      "\n",
      "Eksik değerler doldurulmuş veri seti:\n",
      "        country_or_area                commodity_transaction  year  \\\n",
      "0               Austria   Additives and Oxygenates - Exports  1996   \n",
      "1               Austria   Additives and Oxygenates - Exports  1995   \n",
      "2               Belgium   Additives and Oxygenates - Exports  2014   \n",
      "3               Belgium   Additives and Oxygenates - Exports  2013   \n",
      "4               Belgium   Additives and Oxygenates - Exports  2012   \n",
      "...                 ...                                  ...   ...   \n",
      "1189477        Viet Nam  Electricity - total wind production  2012   \n",
      "1189478        Viet Nam  Electricity - total wind production  2011   \n",
      "1189479        Viet Nam  Electricity - total wind production  2010   \n",
      "1189480        Viet Nam  Electricity - total wind production  2009   \n",
      "1189481        Viet Nam  Electricity - total wind production  2008   \n",
      "\n",
      "                            unit  quantity  quantity_footnotes  \\\n",
      "0         Metric tons,  thousand       5.0                 1.0   \n",
      "1         Metric tons,  thousand      17.0                 1.0   \n",
      "2         Metric tons,  thousand       0.0                 1.0   \n",
      "3         Metric tons,  thousand       0.0                 1.0   \n",
      "4         Metric tons,  thousand      35.0                 1.0   \n",
      "...                          ...       ...                 ...   \n",
      "1189477  Kilowatt-hours, million      92.0                 1.0   \n",
      "1189478  Kilowatt-hours, million      87.0                 1.0   \n",
      "1189479  Kilowatt-hours, million      50.0                 1.0   \n",
      "1189480  Kilowatt-hours, million      10.0                 1.0   \n",
      "1189481  Kilowatt-hours, million       1.0                 1.0   \n",
      "\n",
      "                         category  \n",
      "0        additives_and_oxygenates  \n",
      "1        additives_and_oxygenates  \n",
      "2        additives_and_oxygenates  \n",
      "3        additives_and_oxygenates  \n",
      "4        additives_and_oxygenates  \n",
      "...                           ...  \n",
      "1189477          wind_electricity  \n",
      "1189478          wind_electricity  \n",
      "1189479          wind_electricity  \n",
      "1189480          wind_electricity  \n",
      "1189481          wind_electricity  \n",
      "\n",
      "[1189482 rows x 7 columns]\n"
     ]
    }
   ],
   "source": [
    "\n",
    "print(\"Orijinal veri seti:\")\n",
    "print(df)\n",
    "\n",
    "# 1. Kategorik sütunları belirleme\n",
    "categorical_columns = df.select_dtypes(include=['object', 'category']).columns\n",
    "\n",
    "# Kategorik değişkenlerin mod ile doldurulması\n",
    "for col in categorical_columns:\n",
    "    mode_value = df[col].mode()[0]  # En çok tekrar eden değeri al\n",
    "    df[col] = df[col].fillna(mode_value)\n",
    "\n",
    "# 2. Sayısal sütunları belirleme\n",
    "numerical_columns = df.select_dtypes(include=['float64', 'int64']).columns\n",
    "\n",
    "# Sayısal değişkenlerin ortalama ile doldurulması\n",
    "df[numerical_columns] = df[numerical_columns].fillna(df[numerical_columns].mean())\n",
    "\n",
    "print(\"\\nEksik değerler doldurulmuş veri seti:\")\n",
    "print(df)\n"
   ]
  },
  {
   "cell_type": "code",
   "execution_count": 31,
   "id": "2ccc50bc",
   "metadata": {
    "execution": {
     "iopub.execute_input": "2024-11-21T18:14:24.049737Z",
     "iopub.status.busy": "2024-11-21T18:14:24.049293Z",
     "iopub.status.idle": "2024-11-21T18:14:24.192657Z",
     "shell.execute_reply": "2024-11-21T18:14:24.190897Z"
    },
    "papermill": {
     "duration": 0.177742,
     "end_time": "2024-11-21T18:14:24.195560",
     "exception": false,
     "start_time": "2024-11-21T18:14:24.017818",
     "status": "completed"
    },
    "tags": []
   },
   "outputs": [
    {
     "name": "stderr",
     "output_type": "stream",
     "text": [
      "/tmp/ipykernel_17/2007046586.py:1: FutureWarning: Series.fillna with 'method' is deprecated and will raise in a future version. Use obj.ffill() or obj.bfill() instead.\n",
      "  df_fillna[\"commodity_transaction\"].fillna(method = \"bfill\")\n"
     ]
    },
    {
     "data": {
      "text/plain": [
       "0           Additives and Oxygenates - Exports\n",
       "1           Additives and Oxygenates - Exports\n",
       "2           Additives and Oxygenates - Exports\n",
       "3           Additives and Oxygenates - Exports\n",
       "4           Additives and Oxygenates - Exports\n",
       "                          ...                 \n",
       "1189477    Electricity - total wind production\n",
       "1189478    Electricity - total wind production\n",
       "1189479    Electricity - total wind production\n",
       "1189480    Electricity - total wind production\n",
       "1189481    Electricity - total wind production\n",
       "Name: commodity_transaction, Length: 1189482, dtype: object"
      ]
     },
     "execution_count": 31,
     "metadata": {},
     "output_type": "execute_result"
    }
   ],
   "source": [
    "df_fillna[\"commodity_transaction\"].fillna(method = \"bfill\")"
   ]
  },
  {
   "cell_type": "code",
   "execution_count": 32,
   "id": "9c1cea4e",
   "metadata": {
    "execution": {
     "iopub.execute_input": "2024-11-21T18:14:24.260892Z",
     "iopub.status.busy": "2024-11-21T18:14:24.260468Z",
     "iopub.status.idle": "2024-11-21T18:14:24.397938Z",
     "shell.execute_reply": "2024-11-21T18:14:24.396471Z"
    },
    "papermill": {
     "duration": 0.173592,
     "end_time": "2024-11-21T18:14:24.400753",
     "exception": false,
     "start_time": "2024-11-21T18:14:24.227161",
     "status": "completed"
    },
    "tags": []
   },
   "outputs": [
    {
     "name": "stderr",
     "output_type": "stream",
     "text": [
      "/tmp/ipykernel_17/4152976679.py:2: FutureWarning: Series.fillna with 'method' is deprecated and will raise in a future version. Use obj.ffill() or obj.bfill() instead.\n",
      "  df_fillna[\"commodity_transaction\"].fillna(method = \"ffill\")\n"
     ]
    },
    {
     "data": {
      "text/plain": [
       "0           Additives and Oxygenates - Exports\n",
       "1           Additives and Oxygenates - Exports\n",
       "2           Additives and Oxygenates - Exports\n",
       "3           Additives and Oxygenates - Exports\n",
       "4           Additives and Oxygenates - Exports\n",
       "                          ...                 \n",
       "1189477    Electricity - total wind production\n",
       "1189478    Electricity - total wind production\n",
       "1189479    Electricity - total wind production\n",
       "1189480    Electricity - total wind production\n",
       "1189481    Electricity - total wind production\n",
       "Name: commodity_transaction, Length: 1189482, dtype: object"
      ]
     },
     "execution_count": 32,
     "metadata": {},
     "output_type": "execute_result"
    }
   ],
   "source": [
    "# Sonraki değer ile doldurma işlemi\n",
    "df_fillna[\"commodity_transaction\"].fillna(method = \"ffill\")"
   ]
  },
  {
   "cell_type": "code",
   "execution_count": 33,
   "id": "5fc1cfdc",
   "metadata": {
    "execution": {
     "iopub.execute_input": "2024-11-21T18:14:24.464250Z",
     "iopub.status.busy": "2024-11-21T18:14:24.463858Z",
     "iopub.status.idle": "2024-11-21T18:14:25.135394Z",
     "shell.execute_reply": "2024-11-21T18:14:25.133790Z"
    },
    "papermill": {
     "duration": 0.705176,
     "end_time": "2024-11-21T18:14:25.137639",
     "exception": true,
     "start_time": "2024-11-21T18:14:24.432463",
     "status": "failed"
    },
    "tags": []
   },
   "outputs": [
    {
     "ename": "NameError",
     "evalue": "name 'df_filled' is not defined",
     "output_type": "error",
     "traceback": [
      "\u001b[0;31m---------------------------------------------------------------------------\u001b[0m",
      "\u001b[0;31mNameError\u001b[0m                                 Traceback (most recent call last)",
      "Cell \u001b[0;32mIn[33], line 2\u001b[0m\n\u001b[1;32m      1\u001b[0m \u001b[38;5;66;03m# Eksik değerlerin doldurulduğu hücreleri bul\u001b[39;00m\n\u001b[0;32m----> 2\u001b[0m filled_mask \u001b[38;5;241m=\u001b[39m df\u001b[38;5;241m.\u001b[39misna() \u001b[38;5;241m&\u001b[39m \u001b[38;5;241m~\u001b[39m\u001b[43mdf_filled\u001b[49m\u001b[38;5;241m.\u001b[39misna()\n\u001b[1;32m      4\u001b[0m \u001b[38;5;66;03m# Sadece doldurulan hücreleri göster\u001b[39;00m\n\u001b[1;32m      5\u001b[0m \u001b[38;5;28;01mfor\u001b[39;00m col \u001b[38;5;129;01min\u001b[39;00m filled_mask\u001b[38;5;241m.\u001b[39mcolumns:\n",
      "\u001b[0;31mNameError\u001b[0m: name 'df_filled' is not defined"
     ]
    }
   ],
   "source": [
    "# Eksik değerlerin doldurulduğu hücreleri bul\n",
    "filled_mask = df.isna() & ~df_filled.isna()\n",
    "\n",
    "# Sadece doldurulan hücreleri göster\n",
    "for col in filled_mask.columns:\n",
    "    print(f\"{col} sütununda doldurulan hücreler:\")\n",
    "    print(df_filled[col][filled_mask[col]])\n",
    "\n",
    "\n"
   ]
  },
  {
   "cell_type": "markdown",
   "id": "43980506",
   "metadata": {
    "papermill": {
     "duration": null,
     "end_time": null,
     "exception": null,
     "start_time": null,
     "status": "pending"
    },
    "tags": []
   },
   "source": [
    "# 7. Kategorik Değişken Analizi"
   ]
  },
  {
   "cell_type": "code",
   "execution_count": null,
   "id": "0b363774",
   "metadata": {
    "execution": {
     "iopub.execute_input": "2024-11-20T19:50:02.783785Z",
     "iopub.status.busy": "2024-11-20T19:50:02.783418Z",
     "iopub.status.idle": "2024-11-20T19:50:03.222830Z",
     "shell.execute_reply": "2024-11-20T19:50:03.221702Z",
     "shell.execute_reply.started": "2024-11-20T19:50:02.783734Z"
    },
    "papermill": {
     "duration": null,
     "end_time": null,
     "exception": null,
     "start_time": null,
     "status": "pending"
    },
    "tags": []
   },
   "outputs": [],
   "source": [
    "df = df.copy()\n",
    "df.info()"
   ]
  },
  {
   "cell_type": "code",
   "execution_count": null,
   "id": "149ded9a",
   "metadata": {
    "execution": {
     "iopub.execute_input": "2024-11-20T19:50:25.774471Z",
     "iopub.status.busy": "2024-11-20T19:50:25.774091Z",
     "iopub.status.idle": "2024-11-20T19:50:25.809187Z",
     "shell.execute_reply": "2024-11-20T19:50:25.808162Z",
     "shell.execute_reply.started": "2024-11-20T19:50:25.774439Z"
    },
    "papermill": {
     "duration": null,
     "end_time": null,
     "exception": null,
     "start_time": null,
     "status": "pending"
    },
    "tags": []
   },
   "outputs": [],
   "source": [
    "# Kategorik değişkenlere ilk bakış\n",
    "df_categorical = df.select_dtypes(include = \"object\")\n",
    "df_categorical.head(3)"
   ]
  },
  {
   "cell_type": "code",
   "execution_count": null,
   "id": "9dc0848f",
   "metadata": {
    "execution": {
     "iopub.execute_input": "2024-11-20T19:51:37.856521Z",
     "iopub.status.busy": "2024-11-20T19:51:37.856172Z",
     "iopub.status.idle": "2024-11-20T19:51:37.970991Z",
     "shell.execute_reply": "2024-11-20T19:51:37.970023Z",
     "shell.execute_reply.started": "2024-11-20T19:51:37.856491Z"
    },
    "papermill": {
     "duration": null,
     "end_time": null,
     "exception": null,
     "start_time": null,
     "status": "pending"
    },
    "tags": []
   },
   "outputs": [],
   "source": [
    "# Kategorik bir değişkendeki benzersiz değerleri gözlemlemek için unique() kullanabiliriz.\n",
    "df_categorical[\"commodity_transaction\"].unique()"
   ]
  },
  {
   "cell_type": "code",
   "execution_count": null,
   "id": "89b51710",
   "metadata": {
    "execution": {
     "iopub.execute_input": "2024-11-20T19:51:59.542925Z",
     "iopub.status.busy": "2024-11-20T19:51:59.541913Z",
     "iopub.status.idle": "2024-11-20T19:51:59.850575Z",
     "shell.execute_reply": "2024-11-20T19:51:59.849241Z",
     "shell.execute_reply.started": "2024-11-20T19:51:59.542883Z"
    },
    "papermill": {
     "duration": null,
     "end_time": null,
     "exception": null,
     "start_time": null,
     "status": "pending"
    },
    "tags": []
   },
   "outputs": [],
   "source": [
    "# Kategorik değişkenlerdeki benzersiz değerlerin sayısını görebilmek için nunique() kullanabiliriz.\n",
    "for col in df_categorical.columns:\n",
    "    print(f'There are {df_categorical[col].nunique()} unique values in \"{col}\" categorical feature.\\n')"
   ]
  },
  {
   "cell_type": "code",
   "execution_count": null,
   "id": "90d4a7b6",
   "metadata": {
    "execution": {
     "iopub.execute_input": "2024-11-20T19:52:22.462380Z",
     "iopub.status.busy": "2024-11-20T19:52:22.461449Z",
     "iopub.status.idle": "2024-11-20T19:52:22.777539Z",
     "shell.execute_reply": "2024-11-20T19:52:22.776413Z",
     "shell.execute_reply.started": "2024-11-20T19:52:22.462308Z"
    },
    "papermill": {
     "duration": null,
     "end_time": null,
     "exception": null,
     "start_time": null,
     "status": "pending"
    },
    "tags": []
   },
   "outputs": [],
   "source": [
    "# Her bir kategorik değişken için toplam gözlem sayısını value_counts() ile buluyoruz.\n",
    "for col in df_categorical.columns:\n",
    "    print(f'{df_categorical[col].value_counts()}\\n', 5*\"*********\")"
   ]
  },
  {
   "cell_type": "code",
   "execution_count": null,
   "id": "6dac36bb",
   "metadata": {
    "execution": {
     "iopub.execute_input": "2024-11-20T19:53:04.708167Z",
     "iopub.status.busy": "2024-11-20T19:53:04.707185Z",
     "iopub.status.idle": "2024-11-20T19:53:04.833907Z",
     "shell.execute_reply": "2024-11-20T19:53:04.832748Z",
     "shell.execute_reply.started": "2024-11-20T19:53:04.708123Z"
    },
    "papermill": {
     "duration": null,
     "end_time": null,
     "exception": null,
     "start_time": null,
     "status": "pending"
    },
    "tags": []
   },
   "outputs": [],
   "source": [
    "# Kategorik bir değişkende bulunan kategorik değerleri bir liste haline getirip sonra kullanabiliriz.\n",
    "comp_categories = df[\"commodity_transaction\"].unique().tolist()[::-1]\n",
    "comp_categories"
   ]
  },
  {
   "cell_type": "code",
   "execution_count": null,
   "id": "77b4644e",
   "metadata": {
    "execution": {
     "iopub.execute_input": "2024-11-20T19:54:30.632662Z",
     "iopub.status.busy": "2024-11-20T19:54:30.632298Z",
     "iopub.status.idle": "2024-11-20T19:54:30.694333Z",
     "shell.execute_reply": "2024-11-20T19:54:30.693270Z",
     "shell.execute_reply.started": "2024-11-20T19:54:30.632632Z"
    },
    "papermill": {
     "duration": null,
     "end_time": null,
     "exception": null,
     "start_time": null,
     "status": "pending"
    },
    "tags": []
   },
   "outputs": [],
   "source": [
    "# Ordinal değişken nasıl oluşturulur?\n",
    "from pandas.api.types import CategoricalDtype\n",
    "\n",
    "df[\"company_size\"] = df[\"commodity_transaction\"].astype(CategoricalDtype(categories = comp_categories, ordered = True))\n",
    "df[\"company_size\"].head()"
   ]
  },
  {
   "cell_type": "markdown",
   "id": "2008ae2f",
   "metadata": {
    "papermill": {
     "duration": null,
     "end_time": null,
     "exception": null,
     "start_time": null,
     "status": "pending"
    },
    "tags": []
   },
   "source": [
    "**astype('category')** \n",
    "\n",
    "Bu yöntem, bir sütunu doğrudan kategori türüne dönüştürmek için kullanılır."
   ]
  },
  {
   "cell_type": "markdown",
   "id": "c7f9c361",
   "metadata": {
    "papermill": {
     "duration": null,
     "end_time": null,
     "exception": null,
     "start_time": null,
     "status": "pending"
    },
    "tags": []
   },
   "source": [
    "**CategoricalDtype** \n",
    "\n",
    "Bu yöntem, kategoriler üzerinde daha fazla kontrol sağlar. Örneğin:\n",
    "\n",
    "\n",
    "* Kategorilerin sıralamasını belirtebilirsiniz.\n",
    "* Kullanılacak kategorileri manuel olarak tanımlayabilirsiniz.\n"
   ]
  },
  {
   "cell_type": "code",
   "execution_count": null,
   "id": "77cbcd05",
   "metadata": {
    "execution": {
     "iopub.execute_input": "2024-11-20T20:14:51.235984Z",
     "iopub.status.busy": "2024-11-20T20:14:51.235569Z",
     "iopub.status.idle": "2024-11-20T20:14:53.011411Z",
     "shell.execute_reply": "2024-11-20T20:14:53.010258Z",
     "shell.execute_reply.started": "2024-11-20T20:14:51.235923Z"
    },
    "papermill": {
     "duration": null,
     "end_time": null,
     "exception": null,
     "start_time": null,
     "status": "pending"
    },
    "tags": []
   },
   "outputs": [],
   "source": [
    "#Kullanacağımız kütüphaneleri yükleyelim.\n",
    "import pandas as pd\n",
    "import numpy as np\n",
    "df_ = pd.read_csv(filepath_or_buffer = \"/kaggle/input/international-energy-statistics/all_energy_statistics.csv\")\n",
    "\n",
    "#görselleştirme kütüphaneleri\n",
    "import matplotlib.pyplot as plt\n",
    "import seaborn as sns\n",
    "df['unit'].value_counts().plot.barh();"
   ]
  },
  {
   "cell_type": "code",
   "execution_count": null,
   "id": "df1bb64b",
   "metadata": {
    "execution": {
     "iopub.execute_input": "2024-11-20T20:17:31.537521Z",
     "iopub.status.busy": "2024-11-20T20:17:31.537087Z",
     "iopub.status.idle": "2024-11-20T20:17:33.308118Z",
     "shell.execute_reply": "2024-11-20T20:17:33.306876Z",
     "shell.execute_reply.started": "2024-11-20T20:17:31.537486Z"
    },
    "papermill": {
     "duration": null,
     "end_time": null,
     "exception": null,
     "start_time": null,
     "status": "pending"
    },
    "tags": []
   },
   "outputs": [],
   "source": [
    "#her bir kategori için gözlem sayısını, en çok görülen kategoriden en az görülen kategoriye doğru sıralı bir şekilde sıralayım.\n",
    "sns.countplot(data = df,\n",
    "              y = \"unit\",\n",
    "              hue = \"unit\",\n",
    "              order = df[\"unit\"].value_counts().index,\n",
    "              palette = \"Set1\");"
   ]
  },
  {
   "cell_type": "code",
   "execution_count": null,
   "id": "b8a4c604",
   "metadata": {
    "execution": {
     "iopub.execute_input": "2024-11-20T20:18:06.706688Z",
     "iopub.status.busy": "2024-11-20T20:18:06.706251Z",
     "iopub.status.idle": "2024-11-20T20:18:22.411587Z",
     "shell.execute_reply": "2024-11-20T20:18:22.410231Z",
     "shell.execute_reply.started": "2024-11-20T20:18:06.706653Z"
    },
    "papermill": {
     "duration": null,
     "end_time": null,
     "exception": null,
     "start_time": null,
     "status": "pending"
    },
    "tags": []
   },
   "outputs": [],
   "source": [
    "#çubuk grafiğiyle veriy inceleyelim.\n",
    "sns.barplot(data = df, x = \"unit\", y = df.unit.index);"
   ]
  },
  {
   "cell_type": "code",
   "execution_count": null,
   "id": "a33ff4d5",
   "metadata": {
    "execution": {
     "iopub.execute_input": "2024-11-21T06:36:04.883566Z",
     "iopub.status.busy": "2024-11-21T06:36:04.883207Z",
     "iopub.status.idle": "2024-11-21T06:36:09.902325Z",
     "shell.execute_reply": "2024-11-21T06:36:09.901124Z",
     "shell.execute_reply.started": "2024-11-21T06:36:04.883537Z"
    },
    "papermill": {
     "duration": null,
     "end_time": null,
     "exception": null,
     "start_time": null,
     "status": "pending"
    },
    "tags": []
   },
   "outputs": [],
   "source": [
    "import seaborn as sns\n",
    "import matplotlib.pyplot as plt\n",
    "df_ = pd.read_csv(filepath_or_buffer = \"/kaggle/input/international-energy-statistics/all_energy_statistics.csv\")\n",
    "df = df_.copy()\n",
    "# catplot görselleştirme\n",
    "sns.catplot(data=df, \n",
    "            x=\"category\", \n",
    "            y=\"quantity\", \n",
    "            kind=\"box\",  # Çubuk grafik yerine kutu grafiği, alternatif: kind=\"bar\"\n",
    "            aspect=5, \n",
    "            height=10)\n",
    "\n",
    "# Grafik başlığı ve eksen düzenlemeleri\n",
    "plt.title(\"Kategoriye Göre İşlem Miktarları\")\n",
    "plt.xlabel(\"Kategori\")\n",
    "plt.ylabel(\"Miktar\")\n",
    "plt.xticks(rotation=45)\n",
    "plt.show()\n"
   ]
  },
  {
   "cell_type": "code",
   "execution_count": null,
   "id": "0872632a",
   "metadata": {
    "execution": {
     "iopub.execute_input": "2024-11-21T07:03:20.289643Z",
     "iopub.status.busy": "2024-11-21T07:03:20.289200Z",
     "iopub.status.idle": "2024-11-21T07:03:22.384829Z",
     "shell.execute_reply": "2024-11-21T07:03:22.383137Z",
     "shell.execute_reply.started": "2024-11-21T07:03:20.289603Z"
    },
    "papermill": {
     "duration": null,
     "end_time": null,
     "exception": null,
     "start_time": null,
     "status": "pending"
    },
    "tags": []
   },
   "outputs": [],
   "source": [
    "import matplotlib.pyplot as plt\n",
    "import seaborn as sns\n",
    "\n",
    "# Barplot oluşturma\n",
    "plt.figure(figsize=(15, 8))\n",
    "sns.barplot(data=df,\n",
    "            x=\"category\",  # Kategorik değişken\n",
    "            y=\"quantity\",  # Sayısal değişken\n",
    "            hue=\"commodity_transaction\",  # Gruplandırma için kategorik değişken\n",
    "            palette=\"Set2\")\n",
    "\n",
    "# Grafik başlığı ve eksen düzenlemeleri\n",
    "plt.title(\"Kategoriye ve İşlem Türüne Göre Miktarlar\", fontsize=16)\n",
    "plt.xlabel(\"Kategori\", fontsize=14)\n",
    "plt.ylabel(\"Miktar\", fontsize=14)\n",
    "plt.xticks(rotation=45)\n",
    "plt.legend(title=\"İşlem Türü\")\n",
    "plt.show()\n"
   ]
  },
  {
   "cell_type": "markdown",
   "id": "5ca9f8fd",
   "metadata": {
    "papermill": {
     "duration": null,
     "end_time": null,
     "exception": null,
     "start_time": null,
     "status": "pending"
    },
    "tags": []
   },
   "source": [
    "**Kategorik Gruplama (groupby) İşlemleri** "
   ]
  },
  {
   "cell_type": "code",
   "execution_count": null,
   "id": "40c178ba",
   "metadata": {
    "execution": {
     "iopub.execute_input": "2024-11-21T07:15:36.272607Z",
     "iopub.status.busy": "2024-11-21T07:15:36.272189Z",
     "iopub.status.idle": "2024-11-21T07:15:36.455143Z",
     "shell.execute_reply": "2024-11-21T07:15:36.454076Z",
     "shell.execute_reply.started": "2024-11-21T07:15:36.272571Z"
    },
    "papermill": {
     "duration": null,
     "end_time": null,
     "exception": null,
     "start_time": null,
     "status": "pending"
    },
    "tags": []
   },
   "outputs": [],
   "source": [
    "df_numerical.describe().T\n"
   ]
  },
  {
   "cell_type": "code",
   "execution_count": null,
   "id": "abe793d7",
   "metadata": {
    "execution": {
     "iopub.execute_input": "2024-11-21T06:30:25.391237Z",
     "iopub.status.busy": "2024-11-21T06:30:25.390822Z",
     "iopub.status.idle": "2024-11-21T06:30:25.486965Z",
     "shell.execute_reply": "2024-11-21T06:30:25.485963Z",
     "shell.execute_reply.started": "2024-11-21T06:30:25.391194Z"
    },
    "papermill": {
     "duration": null,
     "end_time": null,
     "exception": null,
     "start_time": null,
     "status": "pending"
    },
    "tags": []
   },
   "outputs": [],
   "source": [
    "\n",
    "# Kategorilere göre toplam miktar\n",
    "category_group = df_.groupby('category')['quantity'].sum()\n",
    "\n",
    "print(category_group)\n"
   ]
  },
  {
   "cell_type": "code",
   "execution_count": null,
   "id": "c48e9225",
   "metadata": {
    "execution": {
     "iopub.execute_input": "2024-11-21T06:30:40.303456Z",
     "iopub.status.busy": "2024-11-21T06:30:40.303036Z",
     "iopub.status.idle": "2024-11-21T06:30:40.392338Z",
     "shell.execute_reply": "2024-11-21T06:30:40.391107Z",
     "shell.execute_reply.started": "2024-11-21T06:30:40.303422Z"
    },
    "papermill": {
     "duration": null,
     "end_time": null,
     "exception": null,
     "start_time": null,
     "status": "pending"
    },
    "tags": []
   },
   "outputs": [],
   "source": [
    "# Ülkelere göre ortalama miktar\n",
    "country_avg = df_.groupby('country_or_area')['quantity'].mean()\n",
    "\n",
    "print(country_avg)\n"
   ]
  },
  {
   "cell_type": "code",
   "execution_count": null,
   "id": "7cf59d52",
   "metadata": {
    "execution": {
     "iopub.execute_input": "2024-11-21T06:30:58.903916Z",
     "iopub.status.busy": "2024-11-21T06:30:58.903502Z",
     "iopub.status.idle": "2024-11-21T06:30:58.929661Z",
     "shell.execute_reply": "2024-11-21T06:30:58.928562Z",
     "shell.execute_reply.started": "2024-11-21T06:30:58.903879Z"
    },
    "papermill": {
     "duration": null,
     "end_time": null,
     "exception": null,
     "start_time": null,
     "status": "pending"
    },
    "tags": []
   },
   "outputs": [],
   "source": [
    "# Yıllara göre toplam miktar\n",
    "yearly_sum = df_.groupby('year')['quantity'].sum()\n",
    "\n",
    "print(yearly_sum)\n"
   ]
  },
  {
   "cell_type": "code",
   "execution_count": null,
   "id": "8aba1e69",
   "metadata": {
    "execution": {
     "iopub.execute_input": "2024-11-21T06:31:13.102116Z",
     "iopub.status.busy": "2024-11-21T06:31:13.101698Z",
     "iopub.status.idle": "2024-11-21T06:31:13.282680Z",
     "shell.execute_reply": "2024-11-21T06:31:13.281506Z",
     "shell.execute_reply.started": "2024-11-21T06:31:13.102082Z"
    },
    "papermill": {
     "duration": null,
     "end_time": null,
     "exception": null,
     "start_time": null,
     "status": "pending"
    },
    "tags": []
   },
   "outputs": [],
   "source": [
    "# Ülke ve kategori bazında toplam miktar\n",
    "multi_group = df_.groupby(['country_or_area', 'category'])['quantity'].sum()\n",
    "\n",
    "print(multi_group)\n"
   ]
  },
  {
   "cell_type": "code",
   "execution_count": null,
   "id": "4c554800",
   "metadata": {
    "execution": {
     "iopub.execute_input": "2024-11-21T06:31:25.472343Z",
     "iopub.status.busy": "2024-11-21T06:31:25.471927Z",
     "iopub.status.idle": "2024-11-21T06:31:25.570111Z",
     "shell.execute_reply": "2024-11-21T06:31:25.568955Z",
     "shell.execute_reply.started": "2024-11-21T06:31:25.472310Z"
    },
    "papermill": {
     "duration": null,
     "end_time": null,
     "exception": null,
     "start_time": null,
     "status": "pending"
    },
    "tags": []
   },
   "outputs": [],
   "source": [
    "# Kategorilere göre toplam miktarı büyükten küçüğe sıralama\n",
    "sorted_category = df_.groupby('category')['quantity'].sum().sort_values(ascending=False)\n",
    "\n",
    "print(sorted_category)\n"
   ]
  },
  {
   "cell_type": "code",
   "execution_count": null,
   "id": "d2b0319a",
   "metadata": {
    "execution": {
     "iopub.execute_input": "2024-11-21T06:31:47.964583Z",
     "iopub.status.busy": "2024-11-21T06:31:47.964162Z",
     "iopub.status.idle": "2024-11-21T06:31:48.077448Z",
     "shell.execute_reply": "2024-11-21T06:31:48.076252Z",
     "shell.execute_reply.started": "2024-11-21T06:31:47.964548Z"
    },
    "papermill": {
     "duration": null,
     "end_time": null,
     "exception": null,
     "start_time": null,
     "status": "pending"
    },
    "tags": []
   },
   "outputs": [],
   "source": [
    "# Gruplama ile toplam ve ortalama hesaplama\n",
    "group_stats = df_.groupby('category')['quantity'].agg(['sum', 'mean'])\n",
    "\n",
    "print(group_stats)\n"
   ]
  },
  {
   "cell_type": "code",
   "execution_count": null,
   "id": "92fd46d7",
   "metadata": {
    "execution": {
     "iopub.execute_input": "2024-11-21T06:32:07.887139Z",
     "iopub.status.busy": "2024-11-21T06:32:07.886722Z",
     "iopub.status.idle": "2024-11-21T06:32:07.992194Z",
     "shell.execute_reply": "2024-11-21T06:32:07.991030Z",
     "shell.execute_reply.started": "2024-11-21T06:32:07.887105Z"
    },
    "papermill": {
     "duration": null,
     "end_time": null,
     "exception": null,
     "start_time": null,
     "status": "pending"
    },
    "tags": []
   },
   "outputs": [],
   "source": [
    "# Belirli bir ülke için yıllık toplam\n",
    "country_yearly = df_[df_['country_or_area'] == 'Austria'].groupby('year')['quantity'].sum()\n",
    "\n",
    "print(country_yearly)\n"
   ]
  },
  {
   "cell_type": "code",
   "execution_count": null,
   "id": "539071e6",
   "metadata": {
    "execution": {
     "iopub.execute_input": "2024-11-21T06:32:37.516544Z",
     "iopub.status.busy": "2024-11-21T06:32:37.516116Z",
     "iopub.status.idle": "2024-11-21T06:32:37.608292Z",
     "shell.execute_reply": "2024-11-21T06:32:37.607139Z",
     "shell.execute_reply.started": "2024-11-21T06:32:37.516509Z"
    },
    "papermill": {
     "duration": null,
     "end_time": null,
     "exception": null,
     "start_time": null,
     "status": "pending"
    },
    "tags": []
   },
   "outputs": [],
   "source": [
    "# Her kategori için en yüksek işlem miktarı\n",
    "max_per_category = df_.groupby('category')['quantity'].max()\n",
    "\n",
    "print(max_per_category)\n"
   ]
  },
  {
   "cell_type": "code",
   "execution_count": null,
   "id": "f8cbfa9c",
   "metadata": {
    "execution": {
     "iopub.execute_input": "2024-11-21T06:42:45.323846Z",
     "iopub.status.busy": "2024-11-21T06:42:45.322949Z",
     "iopub.status.idle": "2024-11-21T06:42:45.476638Z",
     "shell.execute_reply": "2024-11-21T06:42:45.475308Z",
     "shell.execute_reply.started": "2024-11-21T06:42:45.323800Z"
    },
    "papermill": {
     "duration": null,
     "end_time": null,
     "exception": null,
     "start_time": null,
     "status": "pending"
    },
    "tags": []
   },
   "outputs": [],
   "source": [
    "    \n",
    "give_stats(dataframe = df)"
   ]
  },
  {
   "cell_type": "code",
   "execution_count": null,
   "id": "8429f512",
   "metadata": {
    "execution": {
     "iopub.execute_input": "2024-11-21T06:32:53.527188Z",
     "iopub.status.busy": "2024-11-21T06:32:53.526751Z",
     "iopub.status.idle": "2024-11-21T06:32:53.950407Z",
     "shell.execute_reply": "2024-11-21T06:32:53.949261Z",
     "shell.execute_reply.started": "2024-11-21T06:32:53.527150Z"
    },
    "papermill": {
     "duration": null,
     "end_time": null,
     "exception": null,
     "start_time": null,
     "status": "pending"
    },
    "tags": []
   },
   "outputs": [],
   "source": [
    "import matplotlib.pyplot as plt\n",
    "\n",
    "# Yıllara göre toplam miktarı görselleştirme\n",
    "yearly_sum = df_.groupby('year')['quantity'].sum()\n",
    "yearly_sum.plot(kind='bar', figsize=(12, 6), title=\"Yıllara Göre Toplam Miktar\")\n",
    "\n",
    "plt.show()\n"
   ]
  },
  {
   "cell_type": "code",
   "execution_count": null,
   "id": "403c0eea",
   "metadata": {
    "execution": {
     "iopub.execute_input": "2024-11-21T06:47:36.434228Z",
     "iopub.status.busy": "2024-11-21T06:47:36.433827Z",
     "iopub.status.idle": "2024-11-21T06:47:41.694387Z",
     "shell.execute_reply": "2024-11-21T06:47:41.693196Z",
     "shell.execute_reply.started": "2024-11-21T06:47:36.434194Z"
    },
    "papermill": {
     "duration": null,
     "end_time": null,
     "exception": null,
     "start_time": null,
     "status": "pending"
    },
    "tags": []
   },
   "outputs": [],
   "source": [
    "# kdeplot ise ilgili numerik değişkenin yoğunluğunu gösterir.\n",
    "sns.kdeplot(df['quantity'], fill = True);"
   ]
  },
  {
   "cell_type": "markdown",
   "id": "8f106329",
   "metadata": {
    "papermill": {
     "duration": null,
     "end_time": null,
     "exception": null,
     "start_time": null,
     "status": "pending"
    },
    "tags": []
   },
   "source": [
    "# 8. Sürekli Değişken Analizi"
   ]
  },
  {
   "cell_type": "code",
   "execution_count": null,
   "id": "8b260936",
   "metadata": {
    "execution": {
     "iopub.execute_input": "2024-11-21T07:22:38.240032Z",
     "iopub.status.busy": "2024-11-21T07:22:38.239602Z",
     "iopub.status.idle": "2024-11-21T07:22:38.260027Z",
     "shell.execute_reply": "2024-11-21T07:22:38.258932Z",
     "shell.execute_reply.started": "2024-11-21T07:22:38.239995Z"
    },
    "papermill": {
     "duration": null,
     "end_time": null,
     "exception": null,
     "start_time": null,
     "status": "pending"
    },
    "tags": []
   },
   "outputs": [],
   "source": [
    "# Veri setindeki numerik kolonları seçmek için aşağıdaki yapıyı kullanabiliriz.\n",
    "\n",
    "df_numerical = df.select_dtypes(include = [\"float64\", \"int64\"])\n",
    "df_numerical.head()"
   ]
  },
  {
   "cell_type": "code",
   "execution_count": null,
   "id": "31515351",
   "metadata": {
    "execution": {
     "iopub.execute_input": "2024-11-21T07:22:28.647015Z",
     "iopub.status.busy": "2024-11-21T07:22:28.645095Z",
     "iopub.status.idle": "2024-11-21T07:22:28.804493Z",
     "shell.execute_reply": "2024-11-21T07:22:28.803251Z",
     "shell.execute_reply.started": "2024-11-21T07:22:28.646945Z"
    },
    "papermill": {
     "duration": null,
     "end_time": null,
     "exception": null,
     "start_time": null,
     "status": "pending"
    },
    "tags": []
   },
   "outputs": [],
   "source": [
    "df_numerical.describe().T"
   ]
  },
  {
   "cell_type": "code",
   "execution_count": null,
   "id": "3ac85387",
   "metadata": {
    "execution": {
     "iopub.execute_input": "2024-11-21T07:23:38.418584Z",
     "iopub.status.busy": "2024-11-21T07:23:38.418170Z",
     "iopub.status.idle": "2024-11-21T07:23:38.426853Z",
     "shell.execute_reply": "2024-11-21T07:23:38.425420Z",
     "shell.execute_reply.started": "2024-11-21T07:23:38.418552Z"
    },
    "papermill": {
     "duration": null,
     "end_time": null,
     "exception": null,
     "start_time": null,
     "status": "pending"
    },
    "tags": []
   },
   "outputs": [],
   "source": [
    "# Bir veri setindeki numerik kolonların istatistiksel bilgilerine erişmek için basitçe bu tarz bir fonksiyon yazabiliriz.\n",
    "\n",
    "def give_stats(dataframe: pd.DataFrame) -> None:\n",
    "    \"\"\"Prints statistical information for numerical columns.\n",
    "\n",
    "    Args:\n",
    "        dataframe (pd.DataFrame): DataFrame object.\n",
    "    \n",
    "    Return:\n",
    "        None\n",
    "    \n",
    "    \"\"\"\n",
    "\n",
    "    num_df = dataframe.select_dtypes(include = [\"float\", \"int\"])\n",
    "\n",
    "    for col in num_df.columns:\n",
    "        print(f\"**********{col}**********\")\n",
    "        print(f\"Mean value of {col} is {num_df[col].mean():.2f}\")\n",
    "        print(f\"Std value of {col} is {num_df[col].std():.2f}\")\n",
    "        print(f\"Max value of {col} is {num_df[col].max()}\")\n",
    "        print(f\"Min value of {col} is {num_df[col].min()}\")\n",
    "        print(f\"Count value of {col} is {num_df[col].count()}\")\n",
    "        print(f\"Median value of {col} is {num_df[col].median()}\\n\")\n",
    "    \n",
    "    \n"
   ]
  },
  {
   "cell_type": "code",
   "execution_count": null,
   "id": "07c53129",
   "metadata": {
    "execution": {
     "iopub.execute_input": "2024-11-21T07:23:44.272414Z",
     "iopub.status.busy": "2024-11-21T07:23:44.271974Z",
     "iopub.status.idle": "2024-11-21T07:23:44.421547Z",
     "shell.execute_reply": "2024-11-21T07:23:44.420255Z",
     "shell.execute_reply.started": "2024-11-21T07:23:44.272377Z"
    },
    "papermill": {
     "duration": null,
     "end_time": null,
     "exception": null,
     "start_time": null,
     "status": "pending"
    },
    "tags": []
   },
   "outputs": [],
   "source": [
    "give_stats(dataframe = df)"
   ]
  },
  {
   "cell_type": "code",
   "execution_count": null,
   "id": "ec7f5205",
   "metadata": {
    "execution": {
     "iopub.execute_input": "2024-11-21T07:36:39.537410Z",
     "iopub.status.busy": "2024-11-21T07:36:39.536897Z",
     "iopub.status.idle": "2024-11-21T07:36:40.584275Z",
     "shell.execute_reply": "2024-11-21T07:36:40.583054Z",
     "shell.execute_reply.started": "2024-11-21T07:36:39.537371Z"
    },
    "papermill": {
     "duration": null,
     "end_time": null,
     "exception": null,
     "start_time": null,
     "status": "pending"
    },
    "tags": []
   },
   "outputs": [],
   "source": [
    "#Yoğunluk dağılımını görmek için KDE grafiğini kullanabiliriz.\n",
    "sns.kdeplot(df['quantity'], fill=True, color=\"green\", alpha=0.5)\n",
    "plt.title(\"Miktar Yoğunluk Dağılımı\", fontsize=16)\n",
    "plt.xlabel(\"Miktar\", fontsize=14)\n",
    "plt.ylabel(\"Yoğunluk\", fontsize=14)\n",
    "plt.show()\n",
    "\n"
   ]
  },
  {
   "cell_type": "code",
   "execution_count": null,
   "id": "9dab8a36",
   "metadata": {
    "execution": {
     "iopub.execute_input": "2024-11-21T07:38:42.179694Z",
     "iopub.status.busy": "2024-11-21T07:38:42.179181Z",
     "iopub.status.idle": "2024-11-21T07:38:42.492478Z",
     "shell.execute_reply": "2024-11-21T07:38:42.491163Z",
     "shell.execute_reply.started": "2024-11-21T07:38:42.179643Z"
    },
    "papermill": {
     "duration": null,
     "end_time": null,
     "exception": null,
     "start_time": null,
     "status": "pending"
    },
    "tags": []
   },
   "outputs": [],
   "source": [
    "import pandas as pd\n",
    "import seaborn as sns\n",
    "import matplotlib.pyplot as plt\n",
    "\n",
    "# Sadece sayısal sütunları seç\n",
    "numeric_df = df.select_dtypes(include=['float', 'int'])\n",
    "\n",
    "# Eksik değerleri temizle\n",
    "numeric_df = numeric_df.dropna()  # Tüm eksik değer içeren satırları sil\n",
    "\n",
    "# Korelasyon matrisini oluştur\n",
    "correlation_matrix = numeric_df.corr()\n",
    "\n",
    "# Korelasyon matrisini görselleştir\n",
    "sns.heatmap(correlation_matrix, annot=True, cmap=\"coolwarm\", fmt=\".2f\")\n",
    "plt.title(\"Korelasyon Matrisi\", fontsize=16)\n",
    "plt.show()\n"
   ]
  },
  {
   "cell_type": "code",
   "execution_count": null,
   "id": "4a128d80",
   "metadata": {
    "execution": {
     "iopub.execute_input": "2024-11-21T07:39:08.056156Z",
     "iopub.status.busy": "2024-11-21T07:39:08.055263Z",
     "iopub.status.idle": "2024-11-21T07:39:08.099105Z",
     "shell.execute_reply": "2024-11-21T07:39:08.097852Z",
     "shell.execute_reply.started": "2024-11-21T07:39:08.056110Z"
    },
    "papermill": {
     "duration": null,
     "end_time": null,
     "exception": null,
     "start_time": null,
     "status": "pending"
    },
    "tags": []
   },
   "outputs": [],
   "source": [
    "pivot_table = df.pivot_table(values='quantity', index='category', columns='year', aggfunc='mean')\n",
    "print(pivot_table)\n"
   ]
  },
  {
   "cell_type": "code",
   "execution_count": null,
   "id": "0b1fe00e",
   "metadata": {
    "execution": {
     "iopub.execute_input": "2024-11-21T07:43:40.768512Z",
     "iopub.status.busy": "2024-11-21T07:43:40.767419Z",
     "iopub.status.idle": "2024-11-21T07:43:50.093364Z",
     "shell.execute_reply": "2024-11-21T07:43:50.092125Z",
     "shell.execute_reply.started": "2024-11-21T07:43:40.768455Z"
    },
    "papermill": {
     "duration": null,
     "end_time": null,
     "exception": null,
     "start_time": null,
     "status": "pending"
    },
    "tags": []
   },
   "outputs": [],
   "source": [
    "sns.scatterplot(data=df, x='quantity', y='quantity_footnotes', hue='category', alpha=0.7)\n",
    "plt.title(\"Miktar ve Dipnot Miktarları Arasındaki İlişki\", fontsize=16)\n",
    "plt.xlabel(\"Miktar\", fontsize=14)\n",
    "plt.ylabel(\"Dipnot Miktarları\", fontsize=14)\n",
    "plt.legend(title=\"Kategori\")\n",
    "plt.show()\n"
   ]
  },
  {
   "cell_type": "markdown",
   "id": "6e2ef42a",
   "metadata": {
    "papermill": {
     "duration": null,
     "end_time": null,
     "exception": null,
     "start_time": null,
     "status": "pending"
    },
    "tags": []
   },
   "source": [
    "Değerler çok geniş bir aralıkta dağılmış halde. Daha anlamlı bir grafik için  logaritmik dönüşüm grafiği daha okunabilir hale getirebilir:"
   ]
  },
  {
   "cell_type": "code",
   "execution_count": null,
   "id": "e291b7bf",
   "metadata": {
    "execution": {
     "iopub.execute_input": "2024-11-21T08:01:46.962841Z",
     "iopub.status.busy": "2024-11-21T08:01:46.962314Z",
     "iopub.status.idle": "2024-11-21T08:01:52.284534Z",
     "shell.execute_reply": "2024-11-21T08:01:52.283301Z",
     "shell.execute_reply.started": "2024-11-21T08:01:46.962799Z"
    },
    "papermill": {
     "duration": null,
     "end_time": null,
     "exception": null,
     "start_time": null,
     "status": "pending"
    },
    "tags": []
   },
   "outputs": [],
   "source": [
    "import numpy as np\n",
    "\n",
    "# Logaritmik dönüşüm\n",
    "df['quantity_log'] = np.log1p(df['quantity'])\n",
    "df['quantity_footnotes_log'] = np.log1p(df['quantity_footnotes'])\n",
    "\n",
    "# Logaritmik dönüşümle scatterplot\n",
    "plt.figure(figsize=(12, 8))\n",
    "sns.scatterplot(data=df, x='quantity_log', y='quantity_footnotes_log', hue='category', alpha=0.7)\n",
    "plt.title(\"Miktar ve Dipnot Miktarları Arasındaki İlişki (Logaritmik)\", fontsize=16)\n",
    "plt.xlabel(\"Logaritmik Miktar\", fontsize=14)\n",
    "plt.ylabel(\"Logaritmik Dipnot Miktarları\", fontsize=14)\n",
    "plt.legend(title=\"Kategori\", bbox_to_anchor=(1.05, 1), loc='upper left')\n",
    "plt.show()\n"
   ]
  },
  {
   "cell_type": "markdown",
   "id": "addec448",
   "metadata": {
    "papermill": {
     "duration": null,
     "end_time": null,
     "exception": null,
     "start_time": null,
     "status": "pending"
    },
    "tags": []
   },
   "source": [
    "Eğer çok fazla kategori grafiği karmaşıklaştırıyor, sadece en büyük veya en önemli kategorileri seçelim ve en küçük kategorileri seçip karşılaştıralım. Bu, grafik karmaşıklığını azaltır ve odaklanmayı kolaylaştırır."
   ]
  },
  {
   "cell_type": "code",
   "execution_count": null,
   "id": "d3723e8a",
   "metadata": {
    "execution": {
     "iopub.execute_input": "2024-11-21T08:10:24.063433Z",
     "iopub.status.busy": "2024-11-21T08:10:24.062792Z",
     "iopub.status.idle": "2024-11-21T08:10:26.658015Z",
     "shell.execute_reply": "2024-11-21T08:10:26.656867Z",
     "shell.execute_reply.started": "2024-11-21T08:10:24.063378Z"
    },
    "papermill": {
     "duration": null,
     "end_time": null,
     "exception": null,
     "start_time": null,
     "status": "pending"
    },
    "tags": []
   },
   "outputs": [],
   "source": [
    "# En büyük 10 kategori\n",
    "top_10_categories = df.groupby('category')['quantity'].sum().nlargest(10).index\n",
    "df_top_10 = df[df['category'].isin(top_10_categories)]\n",
    "\n",
    "# En küçük 10 kategori\n",
    "bottom_10_categories = df.groupby('category')['quantity'].sum().nsmallest(10).index\n",
    "df_bottom_10 = df[df['category'].isin(bottom_10_categories)]\n",
    "\n",
    "# En büyük ve en küçük kategorileri birleştirme\n",
    "df_comparison = pd.concat([df_top_10, df_bottom_10])\n",
    "df_comparison['Category Type'] = df_comparison['category'].apply(\n",
    "    lambda x: 'Top 10' if x in top_10_categories else 'Bottom 10'\n",
    ")\n",
    "\n",
    "# Scatterplot\n",
    "plt.figure(figsize=(15, 10))\n",
    "sns.scatterplot(\n",
    "    data=df_comparison, \n",
    "    x='quantity_log', \n",
    "    y='quantity_footnotes_log', \n",
    "    hue='Category Type', \n",
    "    style='category', \n",
    "    alpha=0.7, \n",
    "    palette={\"Top 10\": \"blue\", \"Bottom 10\": \"red\"}\n",
    ")\n",
    "plt.title(\"En Büyük ve En Küçük 10 Kategorinin Karşılaştırması (Logaritmik)\", fontsize=16)\n",
    "plt.xlabel(\"Logaritmik Miktar\", fontsize=14)\n",
    "plt.ylabel(\"Logaritmik Dipnot Miktarları\", fontsize=14)\n",
    "plt.legend(title=\"Kategori Türü ve Kategoriler\", bbox_to_anchor=(1.05, 1), loc='upper left')\n",
    "plt.show()\n"
   ]
  },
  {
   "cell_type": "markdown",
   "id": "5d95ebd0",
   "metadata": {
    "papermill": {
     "duration": null,
     "end_time": null,
     "exception": null,
     "start_time": null,
     "status": "pending"
    },
    "tags": []
   },
   "source": [
    "Daha iyi bir değerlendirme için en büyük 10 kategoriyle en küçük 10 kategoriye daha detaylı bakalım."
   ]
  },
  {
   "cell_type": "code",
   "execution_count": null,
   "id": "4743bdc0",
   "metadata": {
    "execution": {
     "iopub.execute_input": "2024-11-21T08:12:42.624167Z",
     "iopub.status.busy": "2024-11-21T08:12:42.623647Z",
     "iopub.status.idle": "2024-11-21T08:12:42.896200Z",
     "shell.execute_reply": "2024-11-21T08:12:42.894955Z",
     "shell.execute_reply.started": "2024-11-21T08:12:42.624126Z"
    },
    "papermill": {
     "duration": null,
     "end_time": null,
     "exception": null,
     "start_time": null,
     "status": "pending"
    },
    "tags": []
   },
   "outputs": [],
   "source": [
    "# Ortalama değerlerin hesaplanması\n",
    "top_mean = df_top_10['quantity_log'].mean()\n",
    "bottom_mean = df_bottom_10['quantity_log'].mean()\n",
    "\n",
    "# Barplot\n",
    "plt.figure(figsize=(8, 6))\n",
    "sns.barplot(x=[\"Top 10\", \"Bottom 10\"], y=[top_mean, bottom_mean], palette=[\"blue\", \"red\"])\n",
    "plt.title(\"En Büyük ve En Küçük 10 Kategorinin Ortalama Logaritmik Miktarı\", fontsize=16)\n",
    "plt.xlabel(\"Kategori Türü\", fontsize=14)\n",
    "plt.ylabel(\"Ortalama Logaritmik Miktar\", fontsize=14)\n",
    "plt.show()\n"
   ]
  },
  {
   "cell_type": "code",
   "execution_count": null,
   "id": "24a1c383",
   "metadata": {
    "execution": {
     "iopub.execute_input": "2024-11-21T08:13:54.558476Z",
     "iopub.status.busy": "2024-11-21T08:13:54.557967Z",
     "iopub.status.idle": "2024-11-21T08:13:55.809360Z",
     "shell.execute_reply": "2024-11-21T08:13:55.808122Z",
     "shell.execute_reply.started": "2024-11-21T08:13:54.558434Z"
    },
    "papermill": {
     "duration": null,
     "end_time": null,
     "exception": null,
     "start_time": null,
     "status": "pending"
    },
    "tags": []
   },
   "outputs": [],
   "source": [
    "plt.figure(figsize=(12, 8))\n",
    "sns.stripplot(data=df_comparison, x=\"Category Type\", y=\"quantity_log\", palette={\"Top 10\": \"blue\", \"Bottom 10\": \"red\"})\n",
    "plt.title(\"En Büyük ve En Küçük 10 Kategorinin Logaritmik Miktar Karşılaştırması\", fontsize=16)\n",
    "plt.xlabel(\"Kategori Türü\", fontsize=14)\n",
    "plt.ylabel(\"Logaritmik Miktar\", fontsize=14)\n",
    "plt.show()\n"
   ]
  },
  {
   "cell_type": "code",
   "execution_count": null,
   "id": "0e62f408",
   "metadata": {
    "execution": {
     "iopub.execute_input": "2024-11-21T08:14:29.950967Z",
     "iopub.status.busy": "2024-11-21T08:14:29.950502Z",
     "iopub.status.idle": "2024-11-21T08:14:30.185121Z",
     "shell.execute_reply": "2024-11-21T08:14:30.183842Z",
     "shell.execute_reply.started": "2024-11-21T08:14:29.950926Z"
    },
    "papermill": {
     "duration": null,
     "end_time": null,
     "exception": null,
     "start_time": null,
     "status": "pending"
    },
    "tags": []
   },
   "outputs": [],
   "source": [
    "# Eğer 'quantity' üzerine yoğunlaşmak istiyorsanız:\n",
    "plt.figure(figsize=(12, 8))\n",
    "sns.boxplot(data=df_comparison, x=\"Category Type\", y=\"quantity_log\", palette={\"Top 10\": \"blue\", \"Bottom 10\": \"red\"})\n",
    "plt.title(\"En Büyük ve En Küçük 10 Kategorinin Logaritmik Miktar Karşılaştırması\", fontsize=16)\n",
    "plt.xlabel(\"Kategori Türü\", fontsize=14)\n",
    "plt.ylabel(\"Logaritmik Miktar\", fontsize=14)\n",
    "plt.show()\n"
   ]
  },
  {
   "cell_type": "markdown",
   "id": "4f7a5827",
   "metadata": {
    "papermill": {
     "duration": null,
     "end_time": null,
     "exception": null,
     "start_time": null,
     "status": "pending"
    },
    "tags": []
   },
   "source": [
    "\n",
    "**Violin plot:**\n",
    "- Her bir kategori için miktarların yoğunluğunu (density) görselleştirir.\n",
    "- Kutu grafiği (boxplot) gibi medyan ve çeyrekler (quartiles) gibi temel istatistiksel bilgileri içerir.\n",
    "- Ayrıca dağılımın şeklini (asimetrik veya simetrik) ve uç değerleri (outliers) de görmeyi sağlar.\n",
    "\n"
   ]
  },
  {
   "cell_type": "code",
   "execution_count": null,
   "id": "29ba6e91",
   "metadata": {
    "execution": {
     "iopub.execute_input": "2024-11-21T08:20:51.248269Z",
     "iopub.status.busy": "2024-11-21T08:20:51.247496Z",
     "iopub.status.idle": "2024-11-21T08:20:53.792516Z",
     "shell.execute_reply": "2024-11-21T08:20:53.791063Z",
     "shell.execute_reply.started": "2024-11-21T08:20:51.248223Z"
    },
    "papermill": {
     "duration": null,
     "end_time": null,
     "exception": null,
     "start_time": null,
     "status": "pending"
    },
    "tags": []
   },
   "outputs": [],
   "source": [
    "import warnings\n",
    "warnings.filterwarnings(\"ignore\", category=FutureWarning)  # FutureWarning mesajlarını kapat\n",
    "\n",
    "# En büyük 10 kategoriyi seç\n",
    "top_10_categories = df.groupby('category')['quantity'].sum(numeric_only=True).nlargest(10).index\n",
    "df_top_10 = df[df['category'].isin(top_10_categories)]\n",
    "\n",
    "# En küçük 10 kategoriyi seç\n",
    "bottom_10_categories = df.groupby('category')['quantity'].sum(numeric_only=True).nsmallest(10).index\n",
    "df_bottom_10 = df[df['category'].isin(bottom_10_categories)]\n",
    "\n",
    "# Yıllık toplamları hesapla\n",
    "top_10_trend = df_top_10.groupby(['year', 'category'])['quantity'].sum(numeric_only=True).reset_index()\n",
    "bottom_10_trend = df_bottom_10.groupby(['year', 'category'])['quantity'].sum(numeric_only=True).reset_index()\n",
    "\n",
    "# En büyük 10 kategori için yıllık değişim\n",
    "plt.figure(figsize=(15, 8))\n",
    "sns.lineplot(data=top_10_trend, x='year', y='quantity', hue='category', palette='tab10')\n",
    "plt.title(\"En Büyük 10 Kategorinin Yıllık Miktar Değişimi\", fontsize=16)\n",
    "plt.xlabel(\"Yıl\", fontsize=14)\n",
    "plt.ylabel(\"Miktar\", fontsize=14)\n",
    "plt.legend(title=\"Kategori\", bbox_to_anchor=(1.05, 1), loc='upper left')\n",
    "plt.show()\n",
    "\n",
    "# En küçük 10 kategori için yıllık değişim\n",
    "plt.figure(figsize=(15, 8))\n",
    "sns.lineplot(data=bottom_10_trend, x='year', y='quantity', hue='category', palette='tab10')\n",
    "plt.title(\"En Küçük 10 Kategorinin Yıllık Miktar Değişimi\", fontsize=16)\n",
    "plt.xlabel(\"Yıl\", fontsize=14)\n",
    "plt.ylabel(\"Miktar\", fontsize=14)\n",
    "plt.legend(title=\"Kategori\", bbox_to_anchor=(1.05, 1), loc='upper left')\n",
    "plt.show()\n"
   ]
  },
  {
   "cell_type": "code",
   "execution_count": null,
   "id": "d55e7907",
   "metadata": {
    "execution": {
     "iopub.execute_input": "2024-11-21T08:24:38.892387Z",
     "iopub.status.busy": "2024-11-21T08:24:38.891260Z",
     "iopub.status.idle": "2024-11-21T08:24:45.191151Z",
     "shell.execute_reply": "2024-11-21T08:24:45.189904Z",
     "shell.execute_reply.started": "2024-11-21T08:24:38.892324Z"
    },
    "papermill": {
     "duration": null,
     "end_time": null,
     "exception": null,
     "start_time": null,
     "status": "pending"
    },
    "tags": []
   },
   "outputs": [],
   "source": [
    "\n",
    "df_top_10 = df_top_10.copy()\n",
    "\n",
    "# Yüzdelik değişim hesaplayalım\n",
    "df_top_10['percentage_change'] = df_top_10.groupby('category')['quantity'].pct_change() * 100\n",
    "\n",
    "# Yüzdelik değişimi görselleştirme\n",
    "plt.figure(figsize=(15, 8))\n",
    "sns.lineplot(data=df_top_10, x='year', y='percentage_change', hue='category', palette='tab10')\n",
    "plt.title(\"En Büyük 10 Kategorinin Yıllık Yüzdelik Değişimi\", fontsize=16)\n",
    "plt.xlabel(\"Yıl\", fontsize=14)\n",
    "plt.ylabel(\"Yüzdelik Değişim (%)\", fontsize=14)\n",
    "plt.legend(title=\"Kategori\", bbox_to_anchor=(1.05, 1), loc='upper left')\n",
    "plt.show()\n"
   ]
  },
  {
   "cell_type": "code",
   "execution_count": null,
   "id": "38a230ba",
   "metadata": {
    "execution": {
     "iopub.execute_input": "2024-11-21T08:25:29.460339Z",
     "iopub.status.busy": "2024-11-21T08:25:29.459285Z",
     "iopub.status.idle": "2024-11-21T08:25:31.823378Z",
     "shell.execute_reply": "2024-11-21T08:25:31.822118Z",
     "shell.execute_reply.started": "2024-11-21T08:25:29.460291Z"
    },
    "papermill": {
     "duration": null,
     "end_time": null,
     "exception": null,
     "start_time": null,
     "status": "pending"
    },
    "tags": []
   },
   "outputs": [],
   "source": [
    "plt.figure(figsize=(15, 8))\n",
    "sns.lineplot(data=top_10_trend, x='year', y='quantity', hue='category', palette='tab10')\n",
    "plt.yscale('log')\n",
    "plt.title(\"En Büyük 10 Kategorinin Yıllık Logaritmik Trend Analizi\", fontsize=16)\n",
    "plt.show()\n"
   ]
  },
  {
   "cell_type": "code",
   "execution_count": null,
   "id": "003df002",
   "metadata": {
    "execution": {
     "iopub.execute_input": "2024-11-21T07:55:40.255933Z",
     "iopub.status.busy": "2024-11-21T07:55:40.255468Z",
     "iopub.status.idle": "2024-11-21T07:55:42.361652Z",
     "shell.execute_reply": "2024-11-21T07:55:42.360478Z",
     "shell.execute_reply.started": "2024-11-21T07:55:40.255883Z"
    },
    "papermill": {
     "duration": null,
     "end_time": null,
     "exception": null,
     "start_time": null,
     "status": "pending"
    },
    "tags": []
   },
   "outputs": [],
   "source": [
    "\n",
    "import numpy as np\n",
    "import seaborn as sns\n",
    "import matplotlib.pyplot as plt\n",
    "\n",
    "# Negatif ve NaN değerleri temizleme\n",
    "df = df[df['quantity'] >= 0]\n",
    "df = df.dropna(subset=['quantity'])\n",
    "\n",
    "# Logaritmik dönüşüm\n",
    "df['quantity_log'] = np.log1p(df['quantity'])\n",
    "\n",
    "# `category` sütununun doğru türde olduğundan emin olun\n",
    "if df['category'].dtype != 'category':\n",
    "    df['category'] = df['category'].astype('category')\n",
    "\n",
    "# Violin plot\n",
    "plt.figure(figsize=(15, 8))\n",
    "sns.violinplot(data=df, x=\"category\", y=\"quantity_log\", palette=\"coolwarm\")\n",
    "plt.xticks(rotation=45)\n",
    "plt.title(\"Kategorilere Göre Miktar Dağılımı (Logaritmik)\", fontsize=16)\n",
    "plt.xlabel(\"Kategori\", fontsize=14)\n",
    "plt.ylabel(\"Logaritmik Miktar\", fontsize=14)\n",
    "plt.xticks(rotation=90)  # Etiketleri 90 derece döndür\n",
    "plt.show()\n",
    "\n"
   ]
  },
  {
   "cell_type": "markdown",
   "id": "b25fbf35",
   "metadata": {
    "papermill": {
     "duration": null,
     "end_time": null,
     "exception": null,
     "start_time": null,
     "status": "pending"
    },
    "tags": []
   },
   "source": [
    "Logaritmik dönüşüm (logarithmic scale):\n",
    "- Veride çok büyük ve çok küçük değerlerin dengesizliğini azaltmak için kullanılmıştır.\n",
    "- Bu dönüşüm, büyük değerlerin etkisini küçültür ve dağılımların daha dengeli bir şekilde görünmesini sağlar.\n",
    "\n",
    "Grafik, kategorilere göre miktarların (quantity) dağılımını karşılaştırmayı ve kategori bazında hangi grupların daha yüksek veya düşük değerlere sahip olduğunu anlamayı kolaylaştırır."
   ]
  },
  {
   "cell_type": "markdown",
   "id": "d138e461",
   "metadata": {
    "papermill": {
     "duration": null,
     "end_time": null,
     "exception": null,
     "start_time": null,
     "status": "pending"
    },
    "tags": []
   },
   "source": [
    "#  9. Aykırı Değer Analizi"
   ]
  },
  {
   "cell_type": "code",
   "execution_count": null,
   "id": "c3acbfc8",
   "metadata": {
    "execution": {
     "iopub.execute_input": "2024-11-21T07:45:40.594465Z",
     "iopub.status.busy": "2024-11-21T07:45:40.593299Z",
     "iopub.status.idle": "2024-11-21T07:45:40.848822Z",
     "shell.execute_reply": "2024-11-21T07:45:40.847603Z",
     "shell.execute_reply.started": "2024-11-21T07:45:40.594403Z"
    },
    "papermill": {
     "duration": null,
     "end_time": null,
     "exception": null,
     "start_time": null,
     "status": "pending"
    },
    "tags": []
   },
   "outputs": [],
   "source": [
    "sns.boxplot(data=df, x='quantity', color=\"orange\")\n",
    "plt.title(\"Miktar için Kutu Grafiği\", fontsize=14)\n",
    "plt.xlabel(\"Miktar\", fontsize=10)\n",
    "plt.show()\n"
   ]
  },
  {
   "cell_type": "markdown",
   "id": "5c8c708c",
   "metadata": {
    "papermill": {
     "duration": null,
     "end_time": null,
     "exception": null,
     "start_time": null,
     "status": "pending"
    },
    "tags": []
   },
   "source": [
    "Daha anlamlı bir grafik için logaritmik kutu grafiği yapalım."
   ]
  },
  {
   "cell_type": "code",
   "execution_count": null,
   "id": "40cc0063",
   "metadata": {
    "execution": {
     "iopub.execute_input": "2024-11-21T08:27:19.146012Z",
     "iopub.status.busy": "2024-11-21T08:27:19.145528Z",
     "iopub.status.idle": "2024-11-21T08:27:19.291309Z",
     "shell.execute_reply": "2024-11-21T08:27:19.289591Z",
     "shell.execute_reply.started": "2024-11-21T08:27:19.145973Z"
    },
    "papermill": {
     "duration": null,
     "end_time": null,
     "exception": null,
     "start_time": null,
     "status": "pending"
    },
    "tags": []
   },
   "outputs": [],
   "source": [
    "# Miktar sütununda logaritmik dönüşüm\n",
    "df['quantity_log'] = np.log1p(df['quantity'])  # Log(1 + x) dönüşümü\n",
    "\n",
    "# Logaritmik dönüşüm sonrası kutu grafiği\n",
    "sns.boxplot(data=df, x='quantity_log', color=\"orange\")\n",
    "plt.title(\"Logaritmik Miktar için Kutu Grafiği\", fontsize=14)\n",
    "plt.xlabel(\"Logaritmik Miktar\", fontsize=10)\n",
    "plt.show()\n"
   ]
  },
  {
   "cell_type": "code",
   "execution_count": null,
   "id": "c2d0a12a",
   "metadata": {
    "execution": {
     "iopub.execute_input": "2024-11-21T16:28:46.529443Z",
     "iopub.status.busy": "2024-11-21T16:28:46.529034Z",
     "iopub.status.idle": "2024-11-21T16:28:50.542384Z",
     "shell.execute_reply": "2024-11-21T16:28:50.540926Z",
     "shell.execute_reply.started": "2024-11-21T16:28:46.529406Z"
    },
    "papermill": {
     "duration": null,
     "end_time": null,
     "exception": null,
     "start_time": null,
     "status": "pending"
    },
    "tags": []
   },
   "outputs": [],
   "source": [
    "import pandas as pd\n",
    "import numpy as np\n",
    "df_ = pd.read_csv(filepath_or_buffer = \"/kaggle/input/international-energy-statistics/all_energy_statistics.csv\")\n",
    "df = df_.copy()\n",
    "# Veri setindeki sütunları kontrol etme\n",
    "print(\"Veri setindeki sütunlar:\")\n",
    "print(df.columns)\n",
    "\n",
    "# Örnek: 'quantity' sütununu seçme\n",
    "if 'quantity' in df.columns:\n",
    "    df_quantity = df['quantity']\n",
    "    print(\"\\n'quantity' sütununun ilk 5 değeri:\")\n",
    "    print(df_quantity.head())\n",
    "else:\n",
    "    print(\"\\n'quantity' sütunu veri setinde bulunamadı.\")\n",
    "\n",
    "# Örnek: 'quantity_footnotes' sütununu seçme\n",
    "if 'quantity_footnotes' in df.columns:\n",
    "    df_quantity_footnotes = df['quantity_footnotes']\n",
    "    print(\"\\n'quantity_footnotes' sütununun ilk 5 değeri:\")\n",
    "    print(df_quantity_footnotes.head())\n",
    "else:\n",
    "    print(\"\\n'quantity_footnotes' sütunu veri setinde bulunamadı.\")\n"
   ]
  },
  {
   "cell_type": "code",
   "execution_count": null,
   "id": "dcb9f8ae",
   "metadata": {
    "execution": {
     "iopub.execute_input": "2024-11-21T16:32:59.188315Z",
     "iopub.status.busy": "2024-11-21T16:32:59.187931Z",
     "iopub.status.idle": "2024-11-21T16:32:59.233205Z",
     "shell.execute_reply": "2024-11-21T16:32:59.231901Z",
     "shell.execute_reply.started": "2024-11-21T16:32:59.188284Z"
    },
    "papermill": {
     "duration": null,
     "end_time": null,
     "exception": null,
     "start_time": null,
     "status": "pending"
    },
    "tags": []
   },
   "outputs": [],
   "source": [
    "# Analiz için 'quantity' sütununu seçme\n",
    "df_quantity = df['quantity']\n",
    "\n",
    "# Quantile değerlerin belirlenmesi\n",
    "Q1 = df_quantity.quantile(0.25)  # İlk çeyreklik (Q1)\n",
    "Q3 = df_quantity.quantile(0.75)  # Üçüncü çeyreklik (Q3)\n",
    "\n",
    "print(\"İlk Çeyreklik (Q1):\", Q1)\n",
    "print(\"Üçüncü Çeyreklik (Q3):\", Q3)\n",
    "\n",
    "# IQR (Interquartile Range) değerinin belirlenmesi\n",
    "IQR = Q3 - Q1\n",
    "print(\"IQR (Çeyrekler Arası Aralık):\", IQR)\n",
    "\n",
    "# Alt ve üst sınırların belirlenmesi\n",
    "lower_fence = Q1 - 1.5 * IQR  # Alt sınır\n",
    "upper_fence = Q3 + 1.5 * IQR  # Üst sınır\n",
    "\n",
    "print(\"Alt Sınır (Lower Fence):\", lower_fence)\n",
    "print(\"Üst Sınır (Upper Fence):\", upper_fence)\n",
    "\n",
    "# Aşırı değerlerin (outliers) belirlenmesi\n",
    "outliers = df_quantity[(df_quantity < lower_fence) | (df_quantity > upper_fence)]\n",
    "print(\"\\nAşırı Değerler (Outliers):\")\n",
    "print(outliers)\n"
   ]
  },
  {
   "cell_type": "code",
   "execution_count": null,
   "id": "b352021f",
   "metadata": {
    "execution": {
     "iopub.execute_input": "2024-11-21T16:34:48.839726Z",
     "iopub.status.busy": "2024-11-21T16:34:48.839241Z",
     "iopub.status.idle": "2024-11-21T16:34:48.855087Z",
     "shell.execute_reply": "2024-11-21T16:34:48.853538Z",
     "shell.execute_reply.started": "2024-11-21T16:34:48.839685Z"
    },
    "papermill": {
     "duration": null,
     "end_time": null,
     "exception": null,
     "start_time": null,
     "status": "pending"
    },
    "tags": []
   },
   "outputs": [],
   "source": [
    "# Upper_fence üzerinde kalan aykırı gözlemlerin index değerlerini, daha sonra kullanmak üzere bir değişkende tutabiliriz.\n",
    "outlier_idx = df_quantity[df_quantity > upper_fence].index\n",
    "\n",
    "outlier_idx"
   ]
  },
  {
   "cell_type": "code",
   "execution_count": null,
   "id": "78102199",
   "metadata": {
    "execution": {
     "iopub.execute_input": "2024-11-21T16:34:58.115335Z",
     "iopub.status.busy": "2024-11-21T16:34:58.114902Z",
     "iopub.status.idle": "2024-11-21T16:34:58.128381Z",
     "shell.execute_reply": "2024-11-21T16:34:58.127285Z",
     "shell.execute_reply.started": "2024-11-21T16:34:58.115299Z"
    },
    "papermill": {
     "duration": null,
     "end_time": null,
     "exception": null,
     "start_time": null,
     "status": "pending"
    },
    "tags": []
   },
   "outputs": [],
   "source": [
    "df_quantity[df_quantity > upper_fence]"
   ]
  },
  {
   "cell_type": "code",
   "execution_count": null,
   "id": "d1d74f96",
   "metadata": {
    "execution": {
     "iopub.execute_input": "2024-11-21T16:35:25.604496Z",
     "iopub.status.busy": "2024-11-21T16:35:25.604102Z",
     "iopub.status.idle": "2024-11-21T16:35:25.672774Z",
     "shell.execute_reply": "2024-11-21T16:35:25.671494Z",
     "shell.execute_reply.started": "2024-11-21T16:35:25.604462Z"
    },
    "papermill": {
     "duration": null,
     "end_time": null,
     "exception": null,
     "start_time": null,
     "status": "pending"
    },
    "tags": []
   },
   "outputs": [],
   "source": [
    "#Aykırı Gözlemlerin Silinmesi\n",
    "df_del = df[~(df_quantity > upper_fence)]\n",
    "\n",
    "df_del"
   ]
  },
  {
   "cell_type": "code",
   "execution_count": null,
   "id": "d23b8f36",
   "metadata": {
    "execution": {
     "iopub.execute_input": "2024-11-21T16:35:51.095944Z",
     "iopub.status.busy": "2024-11-21T16:35:51.095432Z",
     "iopub.status.idle": "2024-11-21T16:35:52.163252Z",
     "shell.execute_reply": "2024-11-21T16:35:52.162039Z",
     "shell.execute_reply.started": "2024-11-21T16:35:51.095894Z"
    },
    "papermill": {
     "duration": null,
     "end_time": null,
     "exception": null,
     "start_time": null,
     "status": "pending"
    },
    "tags": []
   },
   "outputs": [],
   "source": [
    "plt.figure(figsize = (8, 6))\n",
    "sns.boxplot(data = df_del,\n",
    "            y = df_del[\"quantity\"],\n",
    "            orient = \"v\");"
   ]
  },
  {
   "cell_type": "markdown",
   "id": "bb5c19c1",
   "metadata": {
    "papermill": {
     "duration": null,
     "end_time": null,
     "exception": null,
     "start_time": null,
     "status": "pending"
    },
    "tags": []
   },
   "source": [
    "Büyük bir veri aralığıyla uğraştığımızdan logaritmik bir grafik daha etkili bir sonuç verecektir."
   ]
  },
  {
   "cell_type": "code",
   "execution_count": null,
   "id": "2a0fb3b6",
   "metadata": {
    "execution": {
     "iopub.execute_input": "2024-11-21T16:37:03.259954Z",
     "iopub.status.busy": "2024-11-21T16:37:03.259541Z",
     "iopub.status.idle": "2024-11-21T16:37:03.487195Z",
     "shell.execute_reply": "2024-11-21T16:37:03.485980Z",
     "shell.execute_reply.started": "2024-11-21T16:37:03.259917Z"
    },
    "papermill": {
     "duration": null,
     "end_time": null,
     "exception": null,
     "start_time": null,
     "status": "pending"
    },
    "tags": []
   },
   "outputs": [],
   "source": [
    "# Logaritmik dönüşüm\n",
    "df_del[\"quantity_log\"] = np.log1p(df_del[\"quantity\"])  # log(1 + x) kullanıyoruz\n",
    "\n",
    "# Log dönüşümlü boxplot\n",
    "plt.figure(figsize=(8, 6))\n",
    "sns.boxplot(data=df_del, y=\"quantity_log\", orient=\"v\", color=\"orange\")\n",
    "plt.title(\"Logaritmik Miktar için Kutu Grafiği\", fontsize=14)\n",
    "plt.ylabel(\"Logaritmik Miktar\", fontsize=12)\n",
    "plt.show()\n"
   ]
  },
  {
   "cell_type": "markdown",
   "id": "136858e7",
   "metadata": {
    "papermill": {
     "duration": null,
     "end_time": null,
     "exception": null,
     "start_time": null,
     "status": "pending"
    },
    "tags": []
   },
   "source": [
    "**AYKIRI GÖZLEMLERİN DOLDURULMASI**"
   ]
  },
  {
   "cell_type": "markdown",
   "id": "1afda596",
   "metadata": {
    "papermill": {
     "duration": null,
     "end_time": null,
     "exception": null,
     "start_time": null,
     "status": "pending"
    },
    "tags": []
   },
   "source": [
    "**Ortalama Değer ile Doldurma**"
   ]
  },
  {
   "cell_type": "code",
   "execution_count": null,
   "id": "a0310f93",
   "metadata": {
    "execution": {
     "iopub.execute_input": "2024-11-21T16:39:02.843895Z",
     "iopub.status.busy": "2024-11-21T16:39:02.843451Z",
     "iopub.status.idle": "2024-11-21T16:39:02.856231Z",
     "shell.execute_reply": "2024-11-21T16:39:02.854767Z",
     "shell.execute_reply.started": "2024-11-21T16:39:02.843856Z"
    },
    "papermill": {
     "duration": null,
     "end_time": null,
     "exception": null,
     "start_time": null,
     "status": "pending"
    },
    "tags": []
   },
   "outputs": [],
   "source": [
    "df.loc[df_quantity > upper_fence, \"quantity\"] = df_quantity.mean()"
   ]
  },
  {
   "cell_type": "code",
   "execution_count": null,
   "id": "f000883b",
   "metadata": {
    "execution": {
     "iopub.execute_input": "2024-11-21T16:39:45.815545Z",
     "iopub.status.busy": "2024-11-21T16:39:45.815129Z",
     "iopub.status.idle": "2024-11-21T16:39:45.829176Z",
     "shell.execute_reply": "2024-11-21T16:39:45.828071Z",
     "shell.execute_reply.started": "2024-11-21T16:39:45.815508Z"
    },
    "papermill": {
     "duration": null,
     "end_time": null,
     "exception": null,
     "start_time": null,
     "status": "pending"
    },
    "tags": []
   },
   "outputs": [],
   "source": [
    "df.loc[df_quantity > upper_fence, \"quantity\"]"
   ]
  },
  {
   "cell_type": "code",
   "execution_count": null,
   "id": "46b20da3",
   "metadata": {
    "execution": {
     "iopub.execute_input": "2024-11-21T16:42:12.553270Z",
     "iopub.status.busy": "2024-11-21T16:42:12.552860Z",
     "iopub.status.idle": "2024-11-21T16:42:12.824071Z",
     "shell.execute_reply": "2024-11-21T16:42:12.822778Z",
     "shell.execute_reply.started": "2024-11-21T16:42:12.553234Z"
    },
    "papermill": {
     "duration": null,
     "end_time": null,
     "exception": null,
     "start_time": null,
     "status": "pending"
    },
    "tags": []
   },
   "outputs": [],
   "source": [
    "# Logaritmik dönüşüm uygulama\n",
    "df_del[\"salary_in_usd_log\"] = np.log1p(df_del[\"quantity\"])  # log(1 + x) dönüşümü\n",
    "\n",
    "# Log dönüşümlü boxplot\n",
    "plt.figure(figsize=(8, 6))\n",
    "sns.boxplot(data=df_del, y=\"quantity_log\", orient=\"v\", color=\"orange\")\n",
    "plt.title(\"Logaritmik Quantity için Kutu Grafiği\", fontsize=14)\n",
    "plt.ylabel(\"Logaritmik Quantity\", fontsize=12)\n",
    "plt.show()\n"
   ]
  },
  {
   "cell_type": "markdown",
   "id": "626fea9f",
   "metadata": {
    "papermill": {
     "duration": null,
     "end_time": null,
     "exception": null,
     "start_time": null,
     "status": "pending"
    },
    "tags": []
   },
   "source": [
    "****"
   ]
  },
  {
   "cell_type": "markdown",
   "id": "06d11990",
   "metadata": {
    "papermill": {
     "duration": null,
     "end_time": null,
     "exception": null,
     "start_time": null,
     "status": "pending"
    },
    "tags": []
   },
   "source": [
    "**Baskılama Yöntemi**"
   ]
  },
  {
   "cell_type": "markdown",
   "id": "d42783ae",
   "metadata": {
    "papermill": {
     "duration": null,
     "end_time": null,
     "exception": null,
     "start_time": null,
     "status": "pending"
    },
    "tags": []
   },
   "source": [
    "Baskılama yöntemi (Capping), veri analitiği ve veri ön işleme süreçlerinde kullanılan bir yöntemdir ve genellikle aşırı değerlerin (outliers) etkisini azaltmak veya kontrol altına almak için uygulanır. Bu yöntem, verideki aşırı değerleri belirli bir sınırla değiştirerek, onların analiz üzerindeki etkilerini sınırlamayı amaçlar."
   ]
  },
  {
   "cell_type": "code",
   "execution_count": null,
   "id": "744542dd",
   "metadata": {
    "execution": {
     "iopub.execute_input": "2024-11-21T16:45:03.955469Z",
     "iopub.status.busy": "2024-11-21T16:45:03.955014Z",
     "iopub.status.idle": "2024-11-21T16:45:04.022349Z",
     "shell.execute_reply": "2024-11-21T16:45:04.021113Z",
     "shell.execute_reply.started": "2024-11-21T16:45:03.955431Z"
    },
    "papermill": {
     "duration": null,
     "end_time": null,
     "exception": null,
     "start_time": null,
     "status": "pending"
    },
    "tags": []
   },
   "outputs": [],
   "source": [
    "# Quantile değerlerin hesaplanması\n",
    "Q1 = df['quantity'].quantile(0.25)\n",
    "Q3 = df['quantity'].quantile(0.75)\n",
    "IQR = Q3 - Q1\n",
    "\n",
    "# Alt ve üst sınırların belirlenmesi\n",
    "lower_fence = Q1 - 1.5 * IQR\n",
    "upper_fence = Q3 + 1.5 * IQR\n",
    "\n",
    "# Baskılama yöntemi ile aşırı değerlerin sınırlanması\n",
    "df['quantity_capped'] = df['quantity'].clip(lower=lower_fence, upper=upper_fence)\n",
    "\n",
    "# Sonuçların karşılaştırılması\n",
    "print(\"Orijinal Verilerdeki Min-Max:\")\n",
    "print(df['quantity'].min(), \"-\", df['quantity'].max())\n",
    "\n",
    "print(\"\\nBaskılanmış Verilerdeki Min-Max:\")\n",
    "print(df['quantity_capped'].min(), \"-\", df['quantity_capped'].max())\n"
   ]
  },
  {
   "cell_type": "code",
   "execution_count": null,
   "id": "2e34591c",
   "metadata": {
    "execution": {
     "iopub.execute_input": "2024-11-21T16:47:05.308862Z",
     "iopub.status.busy": "2024-11-21T16:47:05.308497Z",
     "iopub.status.idle": "2024-11-21T16:47:05.577120Z",
     "shell.execute_reply": "2024-11-21T16:47:05.575735Z",
     "shell.execute_reply.started": "2024-11-21T16:47:05.308833Z"
    },
    "papermill": {
     "duration": null,
     "end_time": null,
     "exception": null,
     "start_time": null,
     "status": "pending"
    },
    "tags": []
   },
   "outputs": [],
   "source": [
    "# Logaritmik dönüşüm uygulama\n",
    "df_del[\"quantity_log\"] = np.log1p(df_del[\"quantity\"])  # log(1 + x) dönüşümü\n",
    "\n",
    "# Log dönüşümlü boxplot\n",
    "plt.figure(figsize=(8, 6))\n",
    "sns.boxplot(data=df_del, y=\"quantity_log\", orient=\"v\", color=\"orange\")\n",
    "plt.title(\"Logaritmik Quantity için Kutu Grafiği\", fontsize=14)\n",
    "plt.ylabel(\"Logaritmik Quantity\", fontsize=12)\n",
    "plt.show()\n"
   ]
  },
  {
   "cell_type": "markdown",
   "id": "3c8fbe3f",
   "metadata": {
    "papermill": {
     "duration": null,
     "end_time": null,
     "exception": null,
     "start_time": null,
     "status": "pending"
    },
    "tags": []
   },
   "source": [
    "**Local Outlier Factor (LOF)**\n",
    "Local Outlier Factor (LOF), bir veri kümesindeki aykırı değerleri tespit etmek için kullanılan bir densite tabanlı (yoğunluk temelli) yöntemdir. Aykırı değer analizi, makine öğrenmesi, veri temizleme ve anormallik tespiti gibi birçok alanda önemlidir. LOF yöntemi, her veri noktasını komşularıyla kıyaslayarak lokal yoğunluk farklılıklarını ölçer ve bu sayede aykırı değerleri tespit eder."
   ]
  },
  {
   "cell_type": "markdown",
   "id": "95c7713d",
   "metadata": {
    "papermill": {
     "duration": null,
     "end_time": null,
     "exception": null,
     "start_time": null,
     "status": "pending"
    },
    "tags": []
   },
   "source": [
    "**LOF Nasıl Çalışır?**\n",
    "\n",
    "**1.**  Yoğunluk Temelli Analiz: LOF, bir veri noktasının çevresindeki (komşularındaki) yoğunluğu hesaplar.\n",
    "Eğer bir veri noktası, komşularına kıyasla daha düşük bir yoğunluğa sahipse, bu nokta bir aykırı değer olarak değerlendirilir.\n",
    "\n",
    "**2.** Komşuların Belirlenmesi: Her veri noktasının çevresindeki k komşu belirlenir (genellikle n_neighbors ile belirlenir).\n",
    "Komşular, mesafeye dayalı olarak seçilir (örneğin, Euclidean mesafesi).\n",
    "\n",
    "**3.:** LOF Skoru: Her veri noktasına bir LOF skoru atanır:\n",
    "LOF Skoru ≈ 1: Normal (yoğunluk açısından benzer).\n",
    "LOF Skoru > 1: Aykırı (komşularına göre daha düşük yoğunlukta).\n",
    "LOF Skoru < 1: Komşularından daha yüksek yoğunlukta (genelde nadirdir).\n",
    "\n",
    "**4.** Aykırı Değer Tespiti: LOF sonucu -1 (aykırı) ve 1 (normal) olarak sınıflandırılır.\n",
    "Ayrıca negatif LOF skorları, aykırılık derecesini ifade eder (daha düşük skor, daha güçlü aykırılık).\n"
   ]
  },
  {
   "cell_type": "code",
   "execution_count": null,
   "id": "09941ce5",
   "metadata": {
    "execution": {
     "iopub.execute_input": "2024-11-21T17:36:53.736170Z",
     "iopub.status.busy": "2024-11-21T17:36:53.735706Z",
     "iopub.status.idle": "2024-11-21T17:37:02.345165Z",
     "shell.execute_reply": "2024-11-21T17:37:02.343830Z",
     "shell.execute_reply.started": "2024-11-21T17:36:53.736130Z"
    },
    "papermill": {
     "duration": null,
     "end_time": null,
     "exception": null,
     "start_time": null,
     "status": "pending"
    },
    "tags": []
   },
   "outputs": [],
   "source": [
    "from sklearn.neighbors import LocalOutlierFactor\n",
    "import pandas as pd\n",
    "\n",
    "# Ensure the data is clean before applying LOF\n",
    "# Drop rows with NaN or infinite values\n",
    "df_clean = df.replace([float(\"inf\"), -float(\"inf\")], pd.NA).dropna()\n",
    "\n",
    "# Select numerical columns for LOF\n",
    "numerical_columns = df_clean.select_dtypes(include=['float64', 'int64']).columns\n",
    "numerical_data = df_clean[numerical_columns]\n",
    "\n",
    "# Apply Local Outlier Factor (LOF)\n",
    "lof = LocalOutlierFactor(n_neighbors=20, contamination=0.05)\n",
    "df_clean['LOF_Score'] = lof.fit_predict(numerical_data)\n",
    "\n",
    "# Separate outliers and inliers\n",
    "outliers = df_clean[df_clean['LOF_Score'] == -1]\n",
    "inliers = df_clean[df_clean['LOF_Score'] == 1]\n",
    "\n",
    "# Display the results\n",
    "outliers_count = outliers.shape[0]\n",
    "print(f\"Number of outliers detected: {outliers_count}\")\n",
    "print(\"Outliers:\")\n",
    "print(outliers)\n",
    "\n",
    "# Save the cleaned dataset with LOF scores\n",
    "df_clean.to_csv(\"lof_results.csv\", index=False)\n",
    "print(\"The dataset with LOF scores has been saved as 'lof_results.csv'.\")\n",
    "\n",
    "\n",
    "\n",
    "\n"
   ]
  },
  {
   "cell_type": "code",
   "execution_count": null,
   "id": "e64ea31b",
   "metadata": {
    "execution": {
     "iopub.execute_input": "2024-11-21T17:52:59.119918Z",
     "iopub.status.busy": "2024-11-21T17:52:59.119500Z",
     "iopub.status.idle": "2024-11-21T17:53:12.271749Z",
     "shell.execute_reply": "2024-11-21T17:53:12.270330Z",
     "shell.execute_reply.started": "2024-11-21T17:52:59.119874Z"
    },
    "papermill": {
     "duration": null,
     "end_time": null,
     "exception": null,
     "start_time": null,
     "status": "pending"
    },
    "tags": []
   },
   "outputs": [],
   "source": [
    "# Gerekli kütüphaneleri yükleyin\n",
    "import numpy as np\n",
    "import pandas as pd\n",
    "from sklearn.neighbors import LocalOutlierFactor\n",
    "import seaborn as sns\n",
    "import matplotlib.pyplot as plt\n",
    "\n",
    "# Veri hazırlığı: NaN ve sonsuz değerleri temizle\n",
    "df = df.replace([np.inf, -np.inf], np.nan)  # Sonsuz değerleri NaN ile değiştir\n",
    "df_cleaned = df.dropna()  # NaN içeren satırları kaldır\n",
    "\n",
    "# 'quantity_scaled' sütununu oluştur\n",
    "df_cleaned['quantity_scaled'] = (df_cleaned['quantity'] - df_cleaned['quantity'].mean()) / df_cleaned['quantity'].std()\n",
    "\n",
    "# Local Outlier Factor modeliyle aykırı değer tespiti\n",
    "lof = LocalOutlierFactor(n_neighbors=20, contamination=0.1)\n",
    "lof_predictions = lof.fit_predict(df_cleaned[['quantity', 'quantity_scaled']])\n",
    "lof_scores = lof.negative_outlier_factor_\n",
    "\n",
    "# LOF skorlarını ve tahminleri veri setine ekle\n",
    "df_cleaned['LOF_Score'] = lof_predictions\n",
    "df_cleaned['LOF_Factor'] = lof_scores\n",
    "\n",
    "# Scatter plot ile LOF sonuçlarını görselleştirme\n",
    "plt.figure(figsize=(12, 8))\n",
    "sns.scatterplot(\n",
    "    data=df_cleaned,\n",
    "    x='quantity',\n",
    "    y='quantity_scaled',\n",
    "    hue='LOF_Score',\n",
    "    palette={-1: 'red', 1: 'blue'},\n",
    "    alpha=0.7\n",
    ")\n",
    "plt.title(\"Local Outlier Factor Sonuçlarının Dağılımı\", fontsize=16)\n",
    "plt.xlabel(\"Miktar\", fontsize=14)\n",
    "plt.ylabel(\"Ölçeklendirilmiş Miktar\", fontsize=14)\n",
    "plt.legend(title=\"LOF Skorları\", loc='upper right')\n",
    "plt.show()\n",
    "\n",
    "# LOF sonuçlarının özetini yazdır\n",
    "outlier_count = sum(df_cleaned['LOF_Score'] == -1)\n",
    "print(f\"Number of outliers detected: {outlier_count}\")\n",
    "print(\"Outliers:\")\n",
    "print(df_cleaned[df_cleaned['LOF_Score'] == -1].head())\n",
    "\n",
    "# Sonuçları bir CSV dosyasına kaydet\n",
    "df_cleaned.to_csv('lof_results.csv', index=False)\n",
    "print(\"LOF sonuçları 'lof_results.csv' dosyasına kaydedildi.\")\n"
   ]
  },
  {
   "cell_type": "markdown",
   "id": "75b25acf",
   "metadata": {
    "papermill": {
     "duration": null,
     "end_time": null,
     "exception": null,
     "start_time": null,
     "status": "pending"
    },
    "tags": []
   },
   "source": [
    "# 10. Eksik Veri Oluşturma"
   ]
  },
  {
   "cell_type": "code",
   "execution_count": null,
   "id": "8ea6defe",
   "metadata": {
    "execution": {
     "iopub.execute_input": "2024-11-21T07:04:04.223299Z",
     "iopub.status.busy": "2024-11-21T07:04:04.222862Z",
     "iopub.status.idle": "2024-11-21T07:04:08.915988Z",
     "shell.execute_reply": "2024-11-21T07:04:08.914908Z",
     "shell.execute_reply.started": "2024-11-21T07:04:04.223261Z"
    },
    "papermill": {
     "duration": null,
     "end_time": null,
     "exception": null,
     "start_time": null,
     "status": "pending"
    },
    "tags": []
   },
   "outputs": [],
   "source": [
    "import pandas as pd\n",
    "import numpy as np\n",
    "\n",
    "df_ = pd.read_csv(filepath_or_buffer = \"/kaggle/input/international-energy-statistics/all_energy_statistics.csv\")\n",
    "df = df_.copy()\n",
    "# CSV dosyasını oku ve bir DataFrame'e aktar\n",
    "df = pd.read_csv(\"/kaggle/input/international-energy-statistics/all_energy_statistics.csv\")\n",
    "\n",
    "print(\"Orijinal veri seti:\")\n",
    "print(df)\n",
    "\n",
    "\n"
   ]
  },
  {
   "cell_type": "code",
   "execution_count": null,
   "id": "11fece11",
   "metadata": {
    "execution": {
     "iopub.execute_input": "2024-11-20T19:31:23.243436Z",
     "iopub.status.busy": "2024-11-20T19:31:23.242989Z",
     "iopub.status.idle": "2024-11-20T19:31:59.309522Z",
     "shell.execute_reply": "2024-11-20T19:31:59.308105Z",
     "shell.execute_reply.started": "2024-11-20T19:31:23.243388Z"
    },
    "papermill": {
     "duration": null,
     "end_time": null,
     "exception": null,
     "start_time": null,
     "status": "pending"
    },
    "tags": []
   },
   "outputs": [],
   "source": [
    "import pandas as pd\n",
    "import numpy as np\n",
    "\n",
    "print(\"Orijinal veri seti:\")\n",
    "print(df.head())\n",
    "\n",
    "# Eksik veri eklemek için fonksiyon\n",
    "def create_missing_values(df, missing_rate=0.1):\n",
    "    \"\"\"\n",
    "    Veri setinde rastgele eksik veriler oluşturur.\n",
    "    \n",
    "    Parametreler:\n",
    "    df: DataFrame - Veri seti\n",
    "    missing_rate: float - Eksik veri oranı (0 ile 1 arasında)\n",
    "    \n",
    "    Dönen Değer:\n",
    "    DataFrame - Eksik veriler eklenmiş veri seti\n",
    "    \"\"\"\n",
    "    if not (0 <= missing_rate <= 1):\n",
    "        raise ValueError(\"Eksik veri oranı 0 ile 1 arasında olmalıdır.\")\n",
    "    if df.empty:\n",
    "        raise ValueError(\"Veri seti boş. Eksik veri oluşturulamıyor.\")\n",
    "    \n",
    "    df_copy = df.copy()\n",
    "    \n",
    "    # Toplam hücre sayısını hesapla\n",
    "    total_cells = df_copy.size\n",
    "    \n",
    "    # Eksik olacak hücre sayısını belirle\n",
    "    num_missing = int(total_cells * missing_rate)\n",
    "    \n",
    "    for _ in range(num_missing):\n",
    "        i = np.random.randint(0, df_copy.shape[0])  # Rastgele satır\n",
    "        j = np.random.randint(0, df_copy.shape[1])  # Rastgele sütun\n",
    "        df_copy.iat[i, j] = np.nan  # Eksik veri ata\n",
    "    \n",
    "    return df_copy\n",
    "\n",
    "# Eksik veri ekle\n",
    "missing_rate = 0.2  # Eksik veri oranı %20\n",
    "df_with_missing = create_missing_values(df, missing_rate=missing_rate)\n",
    "\n",
    "print(\"\\nEksik veriler eklenmiş veri seti:\")\n",
    "print(df_with_missing.head())\n"
   ]
  },
  {
   "cell_type": "markdown",
   "id": "484d18d5",
   "metadata": {
    "papermill": {
     "duration": null,
     "end_time": null,
     "exception": null,
     "start_time": null,
     "status": "pending"
    },
    "tags": []
   },
   "source": [
    "#  11. Feature Engineering"
   ]
  },
  {
   "cell_type": "code",
   "execution_count": null,
   "id": "4e632452",
   "metadata": {
    "execution": {
     "iopub.execute_input": "2024-11-21T16:57:43.324234Z",
     "iopub.status.busy": "2024-11-21T16:57:43.323586Z",
     "iopub.status.idle": "2024-11-21T16:57:43.340256Z",
     "shell.execute_reply": "2024-11-21T16:57:43.339047Z",
     "shell.execute_reply.started": "2024-11-21T16:57:43.324184Z"
    },
    "papermill": {
     "duration": null,
     "end_time": null,
     "exception": null,
     "start_time": null,
     "status": "pending"
    },
    "tags": []
   },
   "outputs": [],
   "source": [
    "df.head()"
   ]
  },
  {
   "cell_type": "code",
   "execution_count": null,
   "id": "53620cd7",
   "metadata": {
    "execution": {
     "iopub.execute_input": "2024-11-21T16:59:41.613677Z",
     "iopub.status.busy": "2024-11-21T16:59:41.613288Z",
     "iopub.status.idle": "2024-11-21T16:59:42.391659Z",
     "shell.execute_reply": "2024-11-21T16:59:42.390580Z",
     "shell.execute_reply.started": "2024-11-21T16:59:41.613640Z"
    },
    "papermill": {
     "duration": null,
     "end_time": null,
     "exception": null,
     "start_time": null,
     "status": "pending"
    },
    "tags": []
   },
   "outputs": [],
   "source": [
    "print(\"Veri Seti Özeti:\")\n",
    "print(df.info())\n",
    "\n",
    "print(\"\\nSayısal Özellikler:\")\n",
    "print(df.describe())\n",
    "\n",
    "print(\"\\nKategorik Özellikler:\")\n",
    "print(df.select_dtypes(include=['object']).nunique())\n"
   ]
  },
  {
   "cell_type": "code",
   "execution_count": null,
   "id": "fd301ead",
   "metadata": {
    "execution": {
     "iopub.execute_input": "2024-11-21T17:01:16.439674Z",
     "iopub.status.busy": "2024-11-21T17:01:16.439290Z",
     "iopub.status.idle": "2024-11-21T17:01:16.495544Z",
     "shell.execute_reply": "2024-11-21T17:01:16.494461Z",
     "shell.execute_reply.started": "2024-11-21T17:01:16.439640Z"
    },
    "papermill": {
     "duration": null,
     "end_time": null,
     "exception": null,
     "start_time": null,
     "status": "pending"
    },
    "tags": []
   },
   "outputs": [],
   "source": [
    "from sklearn.preprocessing import StandardScaler, MinMaxScaler\n",
    "\n",
    "# Standartlaştırma\n",
    "scaler = StandardScaler()\n",
    "df[\"quantity_scaled\"] = scaler.fit_transform(df[[\"quantity\"]])\n",
    "\n",
    "# Normalize etme\n",
    "normalizer = MinMaxScaler()\n",
    "df[\"quantity_normalized\"] = normalizer.fit_transform(df[[\"quantity\"]])\n",
    "\n",
    "# İlk birkaç satırı görüntüleme\n",
    "print(\"Standartlaştırılmış ve Normalize Edilmiş Veriler:\")\n",
    "print(df[[\"quantity\", \"quantity_scaled\", \"quantity_normalized\"]].head())\n",
    "\n"
   ]
  },
  {
   "cell_type": "code",
   "execution_count": null,
   "id": "32c2b3f8",
   "metadata": {
    "execution": {
     "iopub.execute_input": "2024-11-21T17:01:32.678335Z",
     "iopub.status.busy": "2024-11-21T17:01:32.677153Z",
     "iopub.status.idle": "2024-11-21T17:01:33.077819Z",
     "shell.execute_reply": "2024-11-21T17:01:33.076486Z",
     "shell.execute_reply.started": "2024-11-21T17:01:32.678291Z"
    },
    "papermill": {
     "duration": null,
     "end_time": null,
     "exception": null,
     "start_time": null,
     "status": "pending"
    },
    "tags": []
   },
   "outputs": [],
   "source": [
    "# Kategorik sütunları one-hot encoding ile dönüştürme\n",
    "df_encoded = pd.get_dummies(df, columns=[\"category\"], drop_first=True)\n",
    "\n",
    "# İlk birkaç satırı görüntüleme\n",
    "print(\"One-Hot Encoding Sonrası:\")\n",
    "print(df_encoded.head())\n"
   ]
  },
  {
   "cell_type": "code",
   "execution_count": null,
   "id": "c96e7489",
   "metadata": {
    "execution": {
     "iopub.execute_input": "2024-11-21T17:01:49.501614Z",
     "iopub.status.busy": "2024-11-21T17:01:49.501219Z",
     "iopub.status.idle": "2024-11-21T17:01:49.661256Z",
     "shell.execute_reply": "2024-11-21T17:01:49.659867Z",
     "shell.execute_reply.started": "2024-11-21T17:01:49.501570Z"
    },
    "papermill": {
     "duration": null,
     "end_time": null,
     "exception": null,
     "start_time": null,
     "status": "pending"
    },
    "tags": []
   },
   "outputs": [],
   "source": [
    "# Frekans kodlama\n",
    "category_freq = df[\"category\"].value_counts()\n",
    "df[\"category_freq\"] = df[\"category\"].map(category_freq)\n",
    "\n",
    "# İlk birkaç satırı görüntüleme\n",
    "print(\"Frekans Kodlama Sonrası:\")\n",
    "print(df[[\"category\", \"category_freq\"]].head())\n"
   ]
  },
  {
   "cell_type": "code",
   "execution_count": null,
   "id": "cdf1945e",
   "metadata": {
    "execution": {
     "iopub.execute_input": "2024-11-21T17:06:50.641879Z",
     "iopub.status.busy": "2024-11-21T17:06:50.641466Z",
     "iopub.status.idle": "2024-11-21T17:06:50.671505Z",
     "shell.execute_reply": "2024-11-21T17:06:50.670251Z",
     "shell.execute_reply.started": "2024-11-21T17:06:50.641842Z"
    },
    "papermill": {
     "duration": null,
     "end_time": null,
     "exception": null,
     "start_time": null,
     "status": "pending"
    },
    "tags": []
   },
   "outputs": [],
   "source": [
    "# Medyan değer\n",
    "quantity_median = df[\"quantity\"].median()\n",
    "\n",
    "# En yüksek değer\n",
    "quantity_max = df[\"quantity\"].max()\n",
    "\n",
    "# En düşük değer\n",
    "quantity_min = df[\"quantity\"].min()\n",
    "\n",
    "# Sonuçları yazdırma\n",
    "print(f\"Quantity Medyan Değeri: {quantity_median}\")\n",
    "print(f\"Quantity En Yüksek Değeri: {quantity_max}\")\n",
    "print(f\"Quantity En Düşük Değeri: {quantity_min}\")\n"
   ]
  },
  {
   "cell_type": "markdown",
   "id": "28bcb42b",
   "metadata": {
    "papermill": {
     "duration": null,
     "end_time": null,
     "exception": null,
     "start_time": null,
     "status": "pending"
    },
    "tags": []
   },
   "source": [
    "Büyük bir veriyle uğraştığımızdan örnek olarak Belçika'yı daha detaylı inceleyelim."
   ]
  },
  {
   "cell_type": "code",
   "execution_count": null,
   "id": "d6df2a5d",
   "metadata": {
    "execution": {
     "iopub.execute_input": "2024-11-21T17:12:59.468546Z",
     "iopub.status.busy": "2024-11-21T17:12:59.468144Z",
     "iopub.status.idle": "2024-11-21T17:12:59.589217Z",
     "shell.execute_reply": "2024-11-21T17:12:59.588015Z",
     "shell.execute_reply.started": "2024-11-21T17:12:59.468509Z"
    },
    "papermill": {
     "duration": null,
     "end_time": null,
     "exception": null,
     "start_time": null,
     "status": "pending"
    },
    "tags": []
   },
   "outputs": [],
   "source": [
    "# Belçika'ya ait verileri filtreleme\n",
    "belgium_data = df[df[\"country_or_area\"] == \"Belgium\"]\n",
    "\n",
    "# Belçika için toplam quantity\n",
    "belgium_total_quantity = belgium_data[\"quantity\"].sum()\n",
    "\n",
    "# Belçika'da segmentasyon için kriter tanımlama\n",
    "def segment_quantity(value):\n",
    "    if value < 5000:  # Düşük eşik\n",
    "        return \"Low\"\n",
    "    elif 5000 <= value < 20000:  # Orta aralık\n",
    "        return \"Medium\"\n",
    "    else:  # Yüksek eşik\n",
    "        return \"High\"\n",
    "\n",
    "# Belçika'daki segmentleri belirleme\n",
    "belgium_data[\"quantity_segment\"] = belgium_data[\"quantity\"].apply(segment_quantity)\n",
    "\n",
    "# Belçika'daki segmentlerin toplam miktarlarını hesaplama\n",
    "segment_totals_belgium = belgium_data.groupby(\"quantity_segment\")[\"quantity\"].sum()\n",
    "\n",
    "# Çıktılar\n",
    "print(f\"Belçika için Toplam Quantity: {belgium_total_quantity}\")\n",
    "print(\"\\nBelçika'daki Segmentlere Göre Toplam Miktarlar:\")\n",
    "print(segment_totals_belgium)\n",
    "\n",
    "\n",
    "# Belçika'ya ait tüm verileri görüntüleme\n",
    "print(\"Belçika'ya Ait Tüm Veriler:\")\n",
    "print(belgium_data)\n",
    "\n"
   ]
  },
  {
   "cell_type": "code",
   "execution_count": null,
   "id": "2c0d0227",
   "metadata": {
    "execution": {
     "iopub.execute_input": "2024-11-21T17:13:57.711509Z",
     "iopub.status.busy": "2024-11-21T17:13:57.710338Z",
     "iopub.status.idle": "2024-11-21T17:13:58.188768Z",
     "shell.execute_reply": "2024-11-21T17:13:58.187611Z",
     "shell.execute_reply.started": "2024-11-21T17:13:57.711450Z"
    },
    "papermill": {
     "duration": null,
     "end_time": null,
     "exception": null,
     "start_time": null,
     "status": "pending"
    },
    "tags": []
   },
   "outputs": [],
   "source": [
    "# Quantity dağılımını görselleştirme\n",
    "sns.histplot(belgium_data[\"quantity\"], kde=True)\n",
    "plt.title(\"Belçika'daki Quantity Dağılımı\")\n",
    "plt.xlabel(\"Quantity\")\n",
    "plt.ylabel(\"Frekans\")\n",
    "plt.show()\n"
   ]
  },
  {
   "cell_type": "markdown",
   "id": "2db7b8ee",
   "metadata": {
    "papermill": {
     "duration": null,
     "end_time": null,
     "exception": null,
     "start_time": null,
     "status": "pending"
    },
    "tags": []
   },
   "source": [
    "Bu grafikte negatif değerler de pozitif değerler de olduğundan daha detaylı bir inceleme yapalım."
   ]
  },
  {
   "cell_type": "markdown",
   "id": "2259a1ae",
   "metadata": {
    "papermill": {
     "duration": null,
     "end_time": null,
     "exception": null,
     "start_time": null,
     "status": "pending"
    },
    "tags": []
   },
   "source": [
    "* Negatif quantity değerleri, genellikle veri toplama hataları, işlem farklılıkları veya özel durumlar nedeniyle oluşabilir.\n",
    "* Negatif ve pozitif değerleri ayırmak, verinin temizliğini ve anlamını incelemek için önemlidir.\n",
    "* Belçika'nın enerji verilerindeki quantity değerlerini \"Low\", \"Medium\", \"High\" gibi segmentlere ayırarak farklı kategorileri karşılaştırmak istedim.\n",
    "* Segmentasyon, hangi aralıkların Belçika için daha fazla önem taşıdığını ve hangi kategorilerin enerji üretimine veya tüketimine en çok katkı yaptığını anlamamızı sağlar."
   ]
  },
  {
   "cell_type": "code",
   "execution_count": null,
   "id": "38db43bd",
   "metadata": {
    "execution": {
     "iopub.execute_input": "2024-11-21T17:15:54.092483Z",
     "iopub.status.busy": "2024-11-21T17:15:54.092085Z",
     "iopub.status.idle": "2024-11-21T17:15:54.108081Z",
     "shell.execute_reply": "2024-11-21T17:15:54.106852Z",
     "shell.execute_reply.started": "2024-11-21T17:15:54.092451Z"
    },
    "papermill": {
     "duration": null,
     "end_time": null,
     "exception": null,
     "start_time": null,
     "status": "pending"
    },
    "tags": []
   },
   "outputs": [],
   "source": [
    "negative_values = belgium_data[belgium_data[\"quantity\"] < 0]\n",
    "print(\"Negatif Değerler:\")\n",
    "print(negative_values)\n"
   ]
  },
  {
   "cell_type": "code",
   "execution_count": null,
   "id": "36451954",
   "metadata": {
    "execution": {
     "iopub.execute_input": "2024-11-21T17:17:02.408849Z",
     "iopub.status.busy": "2024-11-21T17:17:02.408476Z",
     "iopub.status.idle": "2024-11-21T17:17:02.436008Z",
     "shell.execute_reply": "2024-11-21T17:17:02.434916Z",
     "shell.execute_reply.started": "2024-11-21T17:17:02.408818Z"
    },
    "papermill": {
     "duration": null,
     "end_time": null,
     "exception": null,
     "start_time": null,
     "status": "pending"
    },
    "tags": []
   },
   "outputs": [],
   "source": [
    "# Negatif değerler\n",
    "negative_values = belgium_data[belgium_data[\"quantity\"] < 0]\n",
    "print(\"Negatif Değerler:\")\n",
    "print(negative_values)\n",
    "\n",
    "# Pozitif değerler\n",
    "positive_values = belgium_data[belgium_data[\"quantity\"] >= 0]\n",
    "print(\"\\nPozitif Değerler:\")\n",
    "print(positive_values)\n"
   ]
  },
  {
   "cell_type": "code",
   "execution_count": null,
   "id": "da67bcbc",
   "metadata": {
    "execution": {
     "iopub.execute_input": "2024-11-21T17:16:06.701221Z",
     "iopub.status.busy": "2024-11-21T17:16:06.700666Z",
     "iopub.status.idle": "2024-11-21T17:16:06.718437Z",
     "shell.execute_reply": "2024-11-21T17:16:06.716928Z",
     "shell.execute_reply.started": "2024-11-21T17:16:06.701185Z"
    },
    "papermill": {
     "duration": null,
     "end_time": null,
     "exception": null,
     "start_time": null,
     "status": "pending"
    },
    "tags": []
   },
   "outputs": [],
   "source": [
    "positive_values = belgium_data[belgium_data[\"quantity\"] >= 0]\n",
    "print(\"Pozitif Değerler:\")\n",
    "print(positive_values)\n"
   ]
  },
  {
   "cell_type": "code",
   "execution_count": null,
   "id": "c5696150",
   "metadata": {
    "execution": {
     "iopub.execute_input": "2024-11-21T17:18:11.356019Z",
     "iopub.status.busy": "2024-11-21T17:18:11.355582Z",
     "iopub.status.idle": "2024-11-21T17:18:11.374277Z",
     "shell.execute_reply": "2024-11-21T17:18:11.373247Z",
     "shell.execute_reply.started": "2024-11-21T17:18:11.355949Z"
    },
    "papermill": {
     "duration": null,
     "end_time": null,
     "exception": null,
     "start_time": null,
     "status": "pending"
    },
    "tags": []
   },
   "outputs": [],
   "source": [
    "# Segmentasyon fonksiyonu tanımlama\n",
    "def segment_positive_quantity(value):\n",
    "    if value < 1000:  # Düşük eşik\n",
    "        return \"Low\"\n",
    "    elif 1000 <= value < 5000:  # Orta aralık\n",
    "        return \"Medium\"\n",
    "    else:  # Yüksek eşik\n",
    "        return \"High\"\n",
    "\n",
    "# Pozitif değerler için segmentasyon sütunu oluşturma\n",
    "positive_values[\"quantity_segment\"] = positive_values[\"quantity\"].apply(segment_positive_quantity)\n",
    "\n",
    "# Segmentlere göre toplam miktarları hesaplama\n",
    "positive_segment_totals = positive_values.groupby(\"quantity_segment\")[\"quantity\"].sum()\n",
    "\n",
    "# Çıktılar\n",
    "print(\"\\nPozitif Değerler Segmentasyonu:\")\n",
    "print(positive_values[[\"quantity\", \"quantity_segment\"]].head())\n",
    "\n",
    "print(\"\\nSegmentlere Göre Toplam Miktarlar:\")\n",
    "print(positive_segment_totals)\n"
   ]
  },
  {
   "cell_type": "code",
   "execution_count": null,
   "id": "91ac1003",
   "metadata": {
    "execution": {
     "iopub.execute_input": "2024-11-21T17:18:29.317158Z",
     "iopub.status.busy": "2024-11-21T17:18:29.315814Z",
     "iopub.status.idle": "2024-11-21T17:18:29.525374Z",
     "shell.execute_reply": "2024-11-21T17:18:29.524252Z",
     "shell.execute_reply.started": "2024-11-21T17:18:29.317110Z"
    },
    "papermill": {
     "duration": null,
     "end_time": null,
     "exception": null,
     "start_time": null,
     "status": "pending"
    },
    "tags": []
   },
   "outputs": [],
   "source": [
    "# Segmentlere göre toplam miktarları görselleştirme\n",
    "plt.figure(figsize=(8, 6))\n",
    "positive_segment_totals.plot(kind=\"bar\", color=[\"blue\", \"orange\", \"green\"])\n",
    "plt.title(\"Belçika'daki Pozitif Quantity Segmentlerine Göre Toplam Miktarlar\", fontsize=14)\n",
    "plt.xlabel(\"Segment\", fontsize=12)\n",
    "plt.ylabel(\"Toplam Quantity\", fontsize=12)\n",
    "plt.xticks(rotation=0)\n",
    "plt.show()\n"
   ]
  },
  {
   "cell_type": "markdown",
   "id": "e1858975",
   "metadata": {
    "papermill": {
     "duration": null,
     "end_time": null,
     "exception": null,
     "start_time": null,
     "status": "pending"
    },
    "tags": []
   },
   "source": [
    "Bu tür bir analiz, enerji verileriyle çalışan bir kuruluşun:\n",
    "\n",
    "* Hangi kategorilere yatırım yapması gerektiğini,\n",
    "* Hangi kategorilerde sorunların olduğunu anlamasına yardımcı olabilir.\n",
    "Örnek tavsiye:\n",
    "* Stratejik Analiz: High segmentteki kategorilerin detaylı bir analizi yapılarak, bu kategorilerin Belçika'nın enerji politikalarındaki önemi değerlendirilebilir.\n",
    "* Verimlilik: Medium ve Low segmentlerde verimliliği artırabilecek potansiyel kategoriler tespit edilebilir."
   ]
  },
  {
   "cell_type": "markdown",
   "id": "84ef935b",
   "metadata": {
    "papermill": {
     "duration": null,
     "end_time": null,
     "exception": null,
     "start_time": null,
     "status": "pending"
    },
    "tags": []
   },
   "source": [
    "**PCA (Principal Component Analysis - Temel Bileşen Analizi)**\n",
    "\n",
    "PCA, boyut azaltma (dimensionality reduction) için kullanılan bir istatistiksel tekniktir. Verideki yüksek boyutluluğu (çok sayıda özellik veya sütun) daha düşük bir boyuta indirerek:\n",
    "\n",
    "* Bilgi kaybını minimumda tutar,\n",
    "* Analizi ve görselleştirmeyi kolaylaştırır,\n",
    "* Hesaplama maliyetlerini düşürür,\n",
    "* Overfitting riskini azaltır.\n",
    "Özet: PCA, veriyi daha az sayıda yeni boyutlarda (temel bileşenler) temsil eder. Bu bileşenler, orijinal özelliklerin doğrusal kombinasyonlarından oluşur ve maksimum varyansı korur.\n",
    "\n"
   ]
  },
  {
   "cell_type": "code",
   "execution_count": null,
   "id": "9af823ad",
   "metadata": {
    "execution": {
     "iopub.execute_input": "2024-11-21T17:29:08.468906Z",
     "iopub.status.busy": "2024-11-21T17:29:08.467648Z",
     "iopub.status.idle": "2024-11-21T17:29:26.019826Z",
     "shell.execute_reply": "2024-11-21T17:29:26.018306Z",
     "shell.execute_reply.started": "2024-11-21T17:29:08.468863Z"
    },
    "papermill": {
     "duration": null,
     "end_time": null,
     "exception": null,
     "start_time": null,
     "status": "pending"
    },
    "tags": []
   },
   "outputs": [],
   "source": [
    "from sklearn.decomposition import PCA\n",
    "from sklearn.preprocessing import StandardScaler\n",
    "import pandas as pd\n",
    "\n",
    "# Select numerical columns from the DataFrame\n",
    "numerical_columns = df.select_dtypes(include=['float64', 'int64']).columns\n",
    "numerical_data = df[numerical_columns].dropna()  # Drop NaNs for PCA\n",
    "\n",
    "# Standardizing the numerical data\n",
    "scaler = StandardScaler()\n",
    "scaled_data = scaler.fit_transform(numerical_data)\n",
    "\n",
    "# Applying PCA to retain 90% of the variance\n",
    "pca = PCA(n_components=0.90)  # Retains components that explain 90% of variance\n",
    "pca_data = pca.fit_transform(scaled_data)\n",
    "\n",
    "# Creating a DataFrame for PCA-transformed data\n",
    "pca_df = pd.DataFrame(pca_data, columns=[f\"PCA_Component_{i+1}\" for i in range(pca_data.shape[1])])\n",
    "\n",
    "# Combine PCA components with the original DataFrame\n",
    "final_df = pd.concat([df.reset_index(drop=True), pca_df], axis=1)\n",
    "\n",
    "# Printing explained variance ratio for each component\n",
    "explained_variance = pca.explained_variance_ratio_\n",
    "total_explained_variance = explained_variance.sum()\n",
    "\n",
    "# Display results\n",
    "print(f\"Explained variance by each component: {explained_variance}\")\n",
    "print(f\"Total explained variance: {total_explained_variance:.2%}\")\n",
    "\n",
    "# Save or use the transformed data\n",
    "final_df.to_csv(\"pca_transformed_data.csv\", index=False)\n",
    "print(\"PCA Transformed DataFrame saved as 'pca_transformed_data.csv'.\")\n"
   ]
  },
  {
   "cell_type": "markdown",
   "id": "54132413",
   "metadata": {
    "papermill": {
     "duration": null,
     "end_time": null,
     "exception": null,
     "start_time": null,
     "status": "pending"
    },
    "tags": []
   },
   "source": [
    "**PCA'da Ne Yaptık?**\n",
    "* **Veriyi Standartlaştırdık:** Özellikler arasında farklı ölçekler varsa (örneğin, biri yüzdeler diğeri binlerce birim cinsinden), PCA'nın sağlıklı çalışması için veriyi normalize ettik.\n",
    "\n",
    "* **Boyutları Azalttık:** Çok sayıda sütundan elde edilen bilgiyi daha az sayıda temel bileşende yoğunlaştırdık. Bu, hesaplama maliyetini düşürür ve modelin performansını artırır.\n",
    "\n",
    "* **%90 Varyansı Koruduk:** PCA'yı, orijinal verinin toplam varyansının %90'ını açıklayan temel bileşenler oluşturacak şekilde yapılandırdık. Bu, bilgi kaybını minimumda tutar.\n",
    "\n",
    "* **Yeni Bileşenler Oluşturduk:** PCA_Component_1, PCA_Component_2 gibi yeni sütunlar oluşturduk. Bu sütunlar orijinal özelliklerin doğrusal kombinasyonlarıdır ve maksimum bilgi yoğunluğunu içerir."
   ]
  }
 ],
 "metadata": {
  "kaggle": {
   "accelerator": "none",
   "dataSources": [
    {
     "datasetId": 4685,
     "sourceId": 7136,
     "sourceType": "datasetVersion"
    }
   ],
   "dockerImageVersionId": 30786,
   "isGpuEnabled": false,
   "isInternetEnabled": false,
   "language": "python",
   "sourceType": "notebook"
  },
  "kernelspec": {
   "display_name": "Python 3",
   "language": "python",
   "name": "python3"
  },
  "language_info": {
   "codemirror_mode": {
    "name": "ipython",
    "version": 3
   },
   "file_extension": ".py",
   "mimetype": "text/x-python",
   "name": "python",
   "nbconvert_exporter": "python",
   "pygments_lexer": "ipython3",
   "version": "3.10.14"
  },
  "papermill": {
   "default_parameters": {},
   "duration": 78.177195,
   "end_time": "2024-11-21T18:14:25.990631",
   "environment_variables": {},
   "exception": true,
   "input_path": "__notebook__.ipynb",
   "output_path": "__notebook__.ipynb",
   "parameters": {},
   "start_time": "2024-11-21T18:13:07.813436",
   "version": "2.6.0"
  }
 },
 "nbformat": 4,
 "nbformat_minor": 5
}
